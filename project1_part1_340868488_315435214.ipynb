{
 "cells": [
  {
   "cell_type": "markdown",
   "metadata": {
    "application/vnd.databricks.v1+cell": {
     "cellMetadata": {
      "byteLimit": 2048000,
      "rowLimit": 10000
     },
     "inputWidgets": {},
     "nuid": "9bf6f18a-5511-453d-a283-4e3de2276f24",
     "showTitle": false,
     "tableResultSettingsMap": {},
     "title": ""
    }
   },
   "source": [
    "# Part 1 - Starter \n"
   ]
  },
  {
   "cell_type": "code",
   "execution_count": 0,
   "metadata": {
    "application/vnd.databricks.v1+cell": {
     "cellMetadata": {
      "byteLimit": 2048000,
      "rowLimit": 10000
     },
     "inputWidgets": {},
     "nuid": "d4dffdc6-9b10-4156-84e3-2aa633287766",
     "showTitle": false,
     "tableResultSettingsMap": {},
     "title": ""
    }
   },
   "outputs": [],
   "source": [
    "from pyspark import SparkContext\n",
    "from pyspark.sql import SparkSession\n",
    " \n",
    "spark = SparkSession.builder.appName(\"my_project_1\").getOrCreate()\n"
   ]
  },
  {
   "cell_type": "markdown",
   "metadata": {
    "application/vnd.databricks.v1+cell": {
     "cellMetadata": {
      "byteLimit": 2048000,
      "rowLimit": 10000
     },
     "inputWidgets": {},
     "nuid": "579829f5-7738-4fb9-99e4-972192e1def9",
     "showTitle": false,
     "tableResultSettingsMap": {},
     "title": ""
    }
   },
   "source": [
    "Importing all spark data types and spark functions for your convenience."
   ]
  },
  {
   "cell_type": "code",
   "execution_count": 0,
   "metadata": {
    "application/vnd.databricks.v1+cell": {
     "cellMetadata": {
      "byteLimit": 2048000,
      "rowLimit": 10000
     },
     "inputWidgets": {},
     "nuid": "d6e4411a-9b08-48bb-a30a-b4ba7f591532",
     "showTitle": false,
     "tableResultSettingsMap": {},
     "title": ""
    }
   },
   "outputs": [],
   "source": [
    "from pyspark.sql.types import *\n",
    "from pyspark.sql.functions import *"
   ]
  },
  {
   "cell_type": "code",
   "execution_count": 0,
   "metadata": {
    "application/vnd.databricks.v1+cell": {
     "cellMetadata": {
      "byteLimit": 2048000,
      "rowLimit": 10000
     },
     "inputWidgets": {},
     "nuid": "b349e896-490f-4440-94cd-40a65cc635f1",
     "showTitle": false,
     "tableResultSettingsMap": {},
     "title": ""
    }
   },
   "outputs": [],
   "source": [
    "# Read a CSV into a dataframe\n",
    "# There is a smarter version, that will first check if there is a Parquet file and use it\n",
    "def load_csv_file(filename, schema):\n",
    "  # Reads the relevant file from distributed file system using the given schema\n",
    "\n",
    "  allowed_files = {'Daily program data': ('Daily program data', \"|\"),\n",
    "                   'demographic': ('demographic', \"|\")}\n",
    "\n",
    "  if filename not in allowed_files.keys():\n",
    "    print(f'You were trying to access unknown file \\\"{filename}\\\". Only valid options are {allowed_files.keys()}')\n",
    "    return None\n",
    "\n",
    "  filepath = allowed_files[filename][0]\n",
    "  dataPath = f\"dbfs:/mnt/coursedata2024/fwm-stb-data/{filepath}\"\n",
    "  delimiter = allowed_files[filename][1]\n",
    "\n",
    "  df = spark.read.format(\"csv\")\\\n",
    "    .option(\"header\",\"false\")\\\n",
    "    .option(\"delimiter\",delimiter)\\\n",
    "    .schema(schema)\\\n",
    "    .load(dataPath)\n",
    "  return df\n",
    "\n",
    "# This dict holds the correct schemata for easily loading the CSVs\n",
    "schemas_dict = {'Daily program data':\n",
    "                  StructType([\n",
    "                    StructField('prog_code', StringType()),\n",
    "                    StructField('title', StringType()),\n",
    "                    StructField('genre', StringType()),\n",
    "                    StructField('air_date', StringType()),\n",
    "                    StructField('air_time', StringType()),\n",
    "                    StructField('Duration', FloatType())\n",
    "                  ]),\n",
    "                'viewing':\n",
    "                  StructType([\n",
    "                    StructField('device_id', StringType()),\n",
    "                    StructField('event_date', StringType()),\n",
    "                    StructField('event_time', IntegerType()),\n",
    "                    StructField('mso_code', StringType()),\n",
    "                    StructField('prog_code', StringType()),\n",
    "                    StructField('station_num', StringType())\n",
    "                  ]),\n",
    "                'viewing_full':\n",
    "                  StructType([\n",
    "                    StructField('mso_code', StringType()),\n",
    "                    StructField('device_id', StringType()),\n",
    "                    StructField('event_date', IntegerType()),\n",
    "                    StructField('event_time', IntegerType()),\n",
    "                    StructField('station_num', StringType()),\n",
    "                    StructField('prog_code', StringType())\n",
    "                  ]),\n",
    "                'demographic':\n",
    "                  StructType([StructField('household_id',StringType()),\n",
    "                    StructField('household_size',IntegerType()),\n",
    "                    StructField('num_adults',IntegerType()),\n",
    "                    StructField('num_generations',IntegerType()),\n",
    "                    StructField('adult_range',StringType()),\n",
    "                    StructField('marital_status',StringType()),\n",
    "                    StructField('race_code',StringType()),\n",
    "                    StructField('presence_children',StringType()),\n",
    "                    StructField('num_children',IntegerType()),\n",
    "                    StructField('age_children',StringType()), #format like range - 'bitwise'\n",
    "                    StructField('age_range_children',StringType()),\n",
    "                    StructField('dwelling_type',StringType()),\n",
    "                    StructField('home_owner_status',StringType()),\n",
    "                    StructField('length_residence',IntegerType()),\n",
    "                    StructField('home_market_value',StringType()),\n",
    "                    StructField('num_vehicles',IntegerType()),\n",
    "                    StructField('vehicle_make',StringType()),\n",
    "                    StructField('vehicle_model',StringType()),\n",
    "                    StructField('vehicle_year',IntegerType()),\n",
    "                    StructField('net_worth',IntegerType()),\n",
    "                    StructField('income',StringType()),\n",
    "                    StructField('gender_individual',StringType()),\n",
    "                    StructField('age_individual',IntegerType()),\n",
    "                    StructField('education_highest',StringType()),\n",
    "                    StructField('occupation_highest',StringType()),\n",
    "                    StructField('education_1',StringType()),\n",
    "                    StructField('occupation_1',StringType()),\n",
    "                    StructField('age_2',IntegerType()),\n",
    "                    StructField('education_2',StringType()),\n",
    "                    StructField('occupation_2',StringType()),\n",
    "                    StructField('age_3',IntegerType()),\n",
    "                    StructField('education_3',StringType()),\n",
    "                    StructField('occupation_3',StringType()),\n",
    "                    StructField('age_4',IntegerType()),\n",
    "                    StructField('education_4',StringType()),\n",
    "                    StructField('occupation_4',StringType()),\n",
    "                    StructField('age_5',IntegerType()),\n",
    "                    StructField('education_5',StringType()),\n",
    "                    StructField('occupation_5',StringType()),\n",
    "                    StructField('polit_party_regist',StringType()),\n",
    "                    StructField('polit_party_input',StringType()),\n",
    "                    StructField('household_clusters',StringType()),\n",
    "                    StructField('insurance_groups',StringType()),\n",
    "                    StructField('financial_groups',StringType()),\n",
    "                    StructField('green_living',StringType())\n",
    "                  ])\n",
    "}"
   ]
  },
  {
   "cell_type": "markdown",
   "metadata": {
    "application/vnd.databricks.v1+cell": {
     "cellMetadata": {
      "byteLimit": 2048000,
      "rowLimit": 10000
     },
     "inputWidgets": {},
     "nuid": "d75618ed-374f-42cd-8a52-7502b98a0b23",
     "showTitle": false,
     "tableResultSettingsMap": {},
     "title": ""
    }
   },
   "source": [
    "# Read demogrphic data\n"
   ]
  },
  {
   "cell_type": "code",
   "execution_count": 0,
   "metadata": {
    "application/vnd.databricks.v1+cell": {
     "cellMetadata": {
      "byteLimit": 2048000,
      "rowLimit": 10000
     },
     "inputWidgets": {},
     "nuid": "4be54f16-04af-4c90-81c9-42a0abfd3156",
     "showTitle": false,
     "tableResultSettingsMap": {},
     "title": ""
    }
   },
   "outputs": [
    {
     "output_type": "stream",
     "name": "stdout",
     "output_type": "stream",
     "text": [
      "root\n |-- household_id: string (nullable = true)\n |-- household_size: integer (nullable = true)\n |-- num_adults: integer (nullable = true)\n |-- num_generations: integer (nullable = true)\n |-- adult_range: string (nullable = true)\n |-- marital_status: string (nullable = true)\n |-- race_code: string (nullable = true)\n |-- presence_children: string (nullable = true)\n |-- num_children: integer (nullable = true)\n |-- age_children: string (nullable = true)\n |-- age_range_children: string (nullable = true)\n |-- dwelling_type: string (nullable = true)\n |-- home_owner_status: string (nullable = true)\n |-- length_residence: integer (nullable = true)\n |-- home_market_value: string (nullable = true)\n |-- num_vehicles: integer (nullable = true)\n |-- vehicle_make: string (nullable = true)\n |-- vehicle_model: string (nullable = true)\n |-- vehicle_year: integer (nullable = true)\n |-- net_worth: integer (nullable = true)\n |-- income: string (nullable = true)\n |-- gender_individual: string (nullable = true)\n |-- age_individual: integer (nullable = true)\n |-- education_highest: string (nullable = true)\n |-- occupation_highest: string (nullable = true)\n |-- education_1: string (nullable = true)\n |-- occupation_1: string (nullable = true)\n |-- age_2: integer (nullable = true)\n |-- education_2: string (nullable = true)\n |-- occupation_2: string (nullable = true)\n |-- age_3: integer (nullable = true)\n |-- education_3: string (nullable = true)\n |-- occupation_3: string (nullable = true)\n |-- age_4: integer (nullable = true)\n |-- education_4: string (nullable = true)\n |-- occupation_4: string (nullable = true)\n |-- age_5: integer (nullable = true)\n |-- education_5: string (nullable = true)\n |-- occupation_5: string (nullable = true)\n |-- polit_party_regist: string (nullable = true)\n |-- polit_party_input: string (nullable = true)\n |-- household_clusters: string (nullable = true)\n |-- insurance_groups: string (nullable = true)\n |-- financial_groups: string (nullable = true)\n |-- green_living: string (nullable = true)\n\ndemo_df contains 357721 records!\n"
     ]
    },
    {
     "output_type": "display_data",
     "data": {
      "text/html": [
       "<style scoped>\n",
       "  .table-result-container {\n",
       "    max-height: 300px;\n",
       "    overflow: auto;\n",
       "  }\n",
       "  table, th, td {\n",
       "    border: 1px solid black;\n",
       "    border-collapse: collapse;\n",
       "  }\n",
       "  th, td {\n",
       "    padding: 5px;\n",
       "  }\n",
       "  th {\n",
       "    text-align: left;\n",
       "  }\n",
       "</style><div class='table-result-container'><table class='table-result'><thead style='background-color: white'><tr><th>household_id</th><th>household_size</th><th>num_adults</th><th>num_generations</th><th>adult_range</th><th>marital_status</th><th>race_code</th><th>presence_children</th><th>num_children</th><th>age_children</th><th>age_range_children</th><th>dwelling_type</th><th>home_owner_status</th><th>length_residence</th><th>home_market_value</th><th>num_vehicles</th><th>vehicle_make</th><th>vehicle_model</th><th>vehicle_year</th><th>net_worth</th><th>income</th><th>gender_individual</th><th>age_individual</th><th>education_highest</th><th>occupation_highest</th><th>education_1</th><th>occupation_1</th><th>age_2</th><th>education_2</th><th>occupation_2</th><th>age_3</th><th>education_3</th><th>occupation_3</th><th>age_4</th><th>education_4</th><th>occupation_4</th><th>age_5</th><th>education_5</th><th>occupation_5</th><th>polit_party_regist</th><th>polit_party_input</th><th>household_clusters</th><th>insurance_groups</th><th>financial_groups</th><th>green_living</th></tr></thead><tbody><tr><td>00000015</td><td>2</td><td>2</td><td>1</td><td>000000000000100000000</td><td>S</td><td>B</td><td>null</td><td>null</td><td>0000000000000000000</td><td>000000000000000</td><td>S</td><td>O</td><td>5</td><td>E</td><td>null</td><td>null</td><td>null</td><td>null</td><td>6</td><td>4</td><td>M</td><td>60</td><td>4</td><td>null</td><td>null</td><td>null</td><td>null</td><td>null</td><td>null</td><td>null</td><td>null</td><td>null</td><td>null</td><td>null</td><td>null</td><td>null</td><td>null</td><td>null</td><td>null</td><td>D</td><td>443</td><td>02C3</td><td>08C3</td><td>null</td></tr><tr><td>00000024</td><td>2</td><td>2</td><td>1</td><td>000000000100000000000</td><td>null</td><td>W</td><td>null</td><td>null</td><td>0000000000000000000</td><td>000000000000000</td><td>M</td><td>O</td><td>null</td><td>F</td><td>null</td><td>null</td><td>null</td><td>null</td><td>7</td><td>7</td><td>F</td><td>46</td><td>3</td><td>Z</td><td>null</td><td>null</td><td>null</td><td>null</td><td>null</td><td>null</td><td>null</td><td>null</td><td>null</td><td>null</td><td>null</td><td>null</td><td>null</td><td>null</td><td>null</td><td>R</td><td>223</td><td>09O3</td><td>03O3</td><td>null</td></tr><tr><td>00000026</td><td>null</td><td>null</td><td>null</td><td>000000000000000000000</td><td>null</td><td>null</td><td>null</td><td>null</td><td>0000000000000000000</td><td>000000000000000</td><td>S</td><td>null</td><td>null</td><td>F</td><td>null</td><td>null</td><td>null</td><td>null</td><td>null</td><td>null</td><td>null</td><td>null</td><td>null</td><td>null</td><td>null</td><td>null</td><td>null</td><td>null</td><td>null</td><td>null</td><td>null</td><td>null</td><td>null</td><td>null</td><td>null</td><td>null</td><td>null</td><td>null</td><td>null</td><td>null</td><td>46G</td><td>04CG</td><td>08CG</td><td>null</td></tr><tr><td>00000028</td><td>3</td><td>2</td><td>2</td><td>000000110000000000000</td><td>S</td><td>W</td><td>Y</td><td>1</td><td>0000010000000000000</td><td>000001000000000</td><td>S</td><td>O</td><td>3</td><td>H</td><td>null</td><td>null</td><td>null</td><td>null</td><td>5</td><td>7</td><td>M</td><td>38</td><td>2</td><td>4</td><td>null</td><td>null</td><td>34</td><td>1</td><td>7</td><td>null</td><td>null</td><td>null</td><td>null</td><td>null</td><td>null</td><td>null</td><td>null</td><td>null</td><td>null</td><td>V</td><td>473</td><td>11R3</td><td>09C3</td><td>1</td></tr><tr><td>00000035</td><td>1</td><td>1</td><td>1</td><td>000000000100000000000</td><td>null</td><td>W</td><td>null</td><td>null</td><td>0000000000000000000</td><td>000000000000000</td><td>null</td><td>null</td><td>null</td><td>G</td><td>null</td><td>null</td><td>null</td><td>null</td><td>4</td><td>null</td><td>M</td><td>50</td><td>2</td><td>1</td><td>null</td><td>null</td><td>null</td><td>null</td><td>null</td><td>null</td><td>null</td><td>null</td><td>null</td><td>null</td><td>null</td><td>null</td><td>null</td><td>null</td><td>null</td><td>D</td><td>523</td><td>13C3</td><td>08C3</td><td>null</td></tr><tr><td>00000036</td><td>null</td><td>null</td><td>null</td><td>000000000000000000000</td><td>null</td><td>null</td><td>null</td><td>null</td><td>0000000000000000000</td><td>000000000000000</td><td>null</td><td>null</td><td>null</td><td>G</td><td>null</td><td>null</td><td>null</td><td>null</td><td>null</td><td>null</td><td>null</td><td>null</td><td>null</td><td>null</td><td>null</td><td>null</td><td>null</td><td>null</td><td>null</td><td>null</td><td>null</td><td>null</td><td>null</td><td>null</td><td>null</td><td>null</td><td>null</td><td>null</td><td>null</td><td>null</td><td>51G</td><td>10RG</td><td>10RG</td><td>null</td></tr></tbody></table></div>"
      ]
     },
     "metadata": {
      "application/vnd.databricks.v1+output": {
       "addedWidgets": {},
       "aggData": [],
       "aggError": "",
       "aggOverflow": false,
       "aggSchema": [],
       "aggSeriesLimitReached": false,
       "aggType": "",
       "arguments": {},
       "columnCustomDisplayInfos": {},
       "data": [
        [
         "00000015",
         2,
         2,
         1,
         "000000000000100000000",
         "S",
         "B",
         null,
         null,
         "0000000000000000000",
         "000000000000000",
         "S",
         "O",
         5,
         "E",
         null,
         null,
         null,
         null,
         6,
         "4",
         "M",
         60,
         "4",
         null,
         null,
         null,
         null,
         null,
         null,
         null,
         null,
         null,
         null,
         null,
         null,
         null,
         null,
         null,
         null,
         "D",
         "443",
         "02C3",
         "08C3",
         null
        ],
        [
         "00000024",
         2,
         2,
         1,
         "000000000100000000000",
         null,
         "W",
         null,
         null,
         "0000000000000000000",
         "000000000000000",
         "M",
         "O",
         null,
         "F",
         null,
         null,
         null,
         null,
         7,
         "7",
         "F",
         46,
         "3",
         "Z",
         null,
         null,
         null,
         null,
         null,
         null,
         null,
         null,
         null,
         null,
         null,
         null,
         null,
         null,
         null,
         "R",
         "223",
         "09O3",
         "03O3",
         null
        ],
        [
         "00000026",
         null,
         null,
         null,
         "000000000000000000000",
         null,
         null,
         null,
         null,
         "0000000000000000000",
         "000000000000000",
         "S",
         null,
         null,
         "F",
         null,
         null,
         null,
         null,
         null,
         null,
         null,
         null,
         null,
         null,
         null,
         null,
         null,
         null,
         null,
         null,
         null,
         null,
         null,
         null,
         null,
         null,
         null,
         null,
         null,
         null,
         "46G",
         "04CG",
         "08CG",
         null
        ],
        [
         "00000028",
         3,
         2,
         2,
         "000000110000000000000",
         "S",
         "W",
         "Y",
         1,
         "0000010000000000000",
         "000001000000000",
         "S",
         "O",
         3,
         "H",
         null,
         null,
         null,
         null,
         5,
         "7",
         "M",
         38,
         "2",
         "4",
         null,
         null,
         34,
         "1",
         "7",
         null,
         null,
         null,
         null,
         null,
         null,
         null,
         null,
         null,
         null,
         "V",
         "473",
         "11R3",
         "09C3",
         "1"
        ],
        [
         "00000035",
         1,
         1,
         1,
         "000000000100000000000",
         null,
         "W",
         null,
         null,
         "0000000000000000000",
         "000000000000000",
         null,
         null,
         null,
         "G",
         null,
         null,
         null,
         null,
         4,
         null,
         "M",
         50,
         "2",
         "1",
         null,
         null,
         null,
         null,
         null,
         null,
         null,
         null,
         null,
         null,
         null,
         null,
         null,
         null,
         null,
         "D",
         "523",
         "13C3",
         "08C3",
         null
        ],
        [
         "00000036",
         null,
         null,
         null,
         "000000000000000000000",
         null,
         null,
         null,
         null,
         "0000000000000000000",
         "000000000000000",
         null,
         null,
         null,
         "G",
         null,
         null,
         null,
         null,
         null,
         null,
         null,
         null,
         null,
         null,
         null,
         null,
         null,
         null,
         null,
         null,
         null,
         null,
         null,
         null,
         null,
         null,
         null,
         null,
         null,
         null,
         "51G",
         "10RG",
         "10RG",
         null
        ]
       ],
       "datasetInfos": [],
       "dbfsResultPath": null,
       "isJsonSchema": true,
       "metadata": {},
       "overflow": false,
       "plotOptions": {
        "customPlotOptions": {},
        "displayType": "table",
        "pivotAggregation": null,
        "pivotColumns": null,
        "xColumns": null,
        "yColumns": null
       },
       "removedWidgets": [],
       "schema": [
        {
         "metadata": "{}",
         "name": "household_id",
         "type": "\"string\""
        },
        {
         "metadata": "{}",
         "name": "household_size",
         "type": "\"integer\""
        },
        {
         "metadata": "{}",
         "name": "num_adults",
         "type": "\"integer\""
        },
        {
         "metadata": "{}",
         "name": "num_generations",
         "type": "\"integer\""
        },
        {
         "metadata": "{}",
         "name": "adult_range",
         "type": "\"string\""
        },
        {
         "metadata": "{}",
         "name": "marital_status",
         "type": "\"string\""
        },
        {
         "metadata": "{}",
         "name": "race_code",
         "type": "\"string\""
        },
        {
         "metadata": "{}",
         "name": "presence_children",
         "type": "\"string\""
        },
        {
         "metadata": "{}",
         "name": "num_children",
         "type": "\"integer\""
        },
        {
         "metadata": "{}",
         "name": "age_children",
         "type": "\"string\""
        },
        {
         "metadata": "{}",
         "name": "age_range_children",
         "type": "\"string\""
        },
        {
         "metadata": "{}",
         "name": "dwelling_type",
         "type": "\"string\""
        },
        {
         "metadata": "{}",
         "name": "home_owner_status",
         "type": "\"string\""
        },
        {
         "metadata": "{}",
         "name": "length_residence",
         "type": "\"integer\""
        },
        {
         "metadata": "{}",
         "name": "home_market_value",
         "type": "\"string\""
        },
        {
         "metadata": "{}",
         "name": "num_vehicles",
         "type": "\"integer\""
        },
        {
         "metadata": "{}",
         "name": "vehicle_make",
         "type": "\"string\""
        },
        {
         "metadata": "{}",
         "name": "vehicle_model",
         "type": "\"string\""
        },
        {
         "metadata": "{}",
         "name": "vehicle_year",
         "type": "\"integer\""
        },
        {
         "metadata": "{}",
         "name": "net_worth",
         "type": "\"integer\""
        },
        {
         "metadata": "{}",
         "name": "income",
         "type": "\"string\""
        },
        {
         "metadata": "{}",
         "name": "gender_individual",
         "type": "\"string\""
        },
        {
         "metadata": "{}",
         "name": "age_individual",
         "type": "\"integer\""
        },
        {
         "metadata": "{}",
         "name": "education_highest",
         "type": "\"string\""
        },
        {
         "metadata": "{}",
         "name": "occupation_highest",
         "type": "\"string\""
        },
        {
         "metadata": "{}",
         "name": "education_1",
         "type": "\"string\""
        },
        {
         "metadata": "{}",
         "name": "occupation_1",
         "type": "\"string\""
        },
        {
         "metadata": "{}",
         "name": "age_2",
         "type": "\"integer\""
        },
        {
         "metadata": "{}",
         "name": "education_2",
         "type": "\"string\""
        },
        {
         "metadata": "{}",
         "name": "occupation_2",
         "type": "\"string\""
        },
        {
         "metadata": "{}",
         "name": "age_3",
         "type": "\"integer\""
        },
        {
         "metadata": "{}",
         "name": "education_3",
         "type": "\"string\""
        },
        {
         "metadata": "{}",
         "name": "occupation_3",
         "type": "\"string\""
        },
        {
         "metadata": "{}",
         "name": "age_4",
         "type": "\"integer\""
        },
        {
         "metadata": "{}",
         "name": "education_4",
         "type": "\"string\""
        },
        {
         "metadata": "{}",
         "name": "occupation_4",
         "type": "\"string\""
        },
        {
         "metadata": "{}",
         "name": "age_5",
         "type": "\"integer\""
        },
        {
         "metadata": "{}",
         "name": "education_5",
         "type": "\"string\""
        },
        {
         "metadata": "{}",
         "name": "occupation_5",
         "type": "\"string\""
        },
        {
         "metadata": "{}",
         "name": "polit_party_regist",
         "type": "\"string\""
        },
        {
         "metadata": "{}",
         "name": "polit_party_input",
         "type": "\"string\""
        },
        {
         "metadata": "{}",
         "name": "household_clusters",
         "type": "\"string\""
        },
        {
         "metadata": "{}",
         "name": "insurance_groups",
         "type": "\"string\""
        },
        {
         "metadata": "{}",
         "name": "financial_groups",
         "type": "\"string\""
        },
        {
         "metadata": "{}",
         "name": "green_living",
         "type": "\"string\""
        }
       ],
       "type": "table"
      }
     },
     "output_type": "display_data"
    },
    {
     "output_type": "stream",
     "name": "stdout",
     "output_type": "stream",
     "text": [
      "CPU times: user 195 ms, sys: 23.7 ms, total: 219 ms\nWall time: 2.84 s\n"
     ]
    }
   ],
   "source": [
    "%%time\n",
    "# demographic data filename is 'demographic'\n",
    "demo_df = load_csv_file('demographic', schemas_dict['demographic'])\n",
    "demo_df.count()\n",
    "demo_df.printSchema()\n",
    "print(f'demo_df contains {demo_df.count()} records!')\n",
    "display(demo_df.limit(6))"
   ]
  },
  {
   "cell_type": "markdown",
   "metadata": {
    "application/vnd.databricks.v1+cell": {
     "cellMetadata": {
      "byteLimit": 2048000,
      "rowLimit": 10000
     },
     "inputWidgets": {},
     "nuid": "fc877be4-441e-4ffb-946c-af0d57012e93",
     "showTitle": false,
     "tableResultSettingsMap": {},
     "title": ""
    }
   },
   "source": [
    "# Read Daily program data"
   ]
  },
  {
   "cell_type": "code",
   "execution_count": 0,
   "metadata": {
    "application/vnd.databricks.v1+cell": {
     "cellMetadata": {
      "byteLimit": 2048000,
      "rowLimit": 10000
     },
     "inputWidgets": {},
     "nuid": "337f900c-e411-418c-9126-12171701156a",
     "showTitle": false,
     "tableResultSettingsMap": {},
     "title": ""
    }
   },
   "outputs": [
    {
     "output_type": "stream",
     "name": "stdout",
     "output_type": "stream",
     "text": [
      "root\n |-- prog_code: string (nullable = true)\n |-- title: string (nullable = true)\n |-- genre: string (nullable = true)\n |-- air_date: string (nullable = true)\n |-- air_time: string (nullable = true)\n |-- Duration: float (nullable = true)\n\ndaily_prog_df contains 13194849 records!\n"
     ]
    },
    {
     "output_type": "display_data",
     "data": {
      "text/html": [
       "<style scoped>\n",
       "  .table-result-container {\n",
       "    max-height: 300px;\n",
       "    overflow: auto;\n",
       "  }\n",
       "  table, th, td {\n",
       "    border: 1px solid black;\n",
       "    border-collapse: collapse;\n",
       "  }\n",
       "  th, td {\n",
       "    padding: 5px;\n",
       "  }\n",
       "  th {\n",
       "    text-align: left;\n",
       "  }\n",
       "</style><div class='table-result-container'><table class='table-result'><thead style='background-color: white'><tr><th>prog_code</th><th>title</th><th>genre</th><th>air_date</th><th>air_time</th><th>Duration</th></tr></thead><tbody><tr><td>EP000000250035</td><td>21 Jump Street</td><td>Crime drama</td><td>20151219</td><td>050000</td><td>60.0</td></tr><tr><td>EP000000250035</td><td>21 Jump Street</td><td>Crime drama</td><td>20151219</td><td>110000</td><td>60.0</td></tr><tr><td>EP000000250063</td><td>21 Jump Street</td><td>Crime drama</td><td>20151219</td><td>180000</td><td>60.0</td></tr><tr><td>EP000000510007</td><td>A Different World</td><td>Sitcom</td><td>20151219</td><td>100000</td><td>30.0</td></tr><tr><td>EP000000510008</td><td>A Different World</td><td>Sitcom</td><td>20151219</td><td>103000</td><td>30.0</td></tr><tr><td>EP000000510159</td><td>A Different World</td><td>Sitcom</td><td>20151219</td><td>080300</td><td>29.0</td></tr></tbody></table></div>"
      ]
     },
     "metadata": {
      "application/vnd.databricks.v1+output": {
       "addedWidgets": {},
       "aggData": [],
       "aggError": "",
       "aggOverflow": false,
       "aggSchema": [],
       "aggSeriesLimitReached": false,
       "aggType": "",
       "arguments": {},
       "columnCustomDisplayInfos": {},
       "data": [
        [
         "EP000000250035",
         "21 Jump Street",
         "Crime drama",
         "20151219",
         "050000",
         60.0
        ],
        [
         "EP000000250035",
         "21 Jump Street",
         "Crime drama",
         "20151219",
         "110000",
         60.0
        ],
        [
         "EP000000250063",
         "21 Jump Street",
         "Crime drama",
         "20151219",
         "180000",
         60.0
        ],
        [
         "EP000000510007",
         "A Different World",
         "Sitcom",
         "20151219",
         "100000",
         30.0
        ],
        [
         "EP000000510008",
         "A Different World",
         "Sitcom",
         "20151219",
         "103000",
         30.0
        ],
        [
         "EP000000510159",
         "A Different World",
         "Sitcom",
         "20151219",
         "080300",
         29.0
        ]
       ],
       "datasetInfos": [],
       "dbfsResultPath": null,
       "isJsonSchema": true,
       "metadata": {},
       "overflow": false,
       "plotOptions": {
        "customPlotOptions": {},
        "displayType": "table",
        "pivotAggregation": null,
        "pivotColumns": null,
        "xColumns": null,
        "yColumns": null
       },
       "removedWidgets": [],
       "schema": [
        {
         "metadata": "{}",
         "name": "prog_code",
         "type": "\"string\""
        },
        {
         "metadata": "{}",
         "name": "title",
         "type": "\"string\""
        },
        {
         "metadata": "{}",
         "name": "genre",
         "type": "\"string\""
        },
        {
         "metadata": "{}",
         "name": "air_date",
         "type": "\"string\""
        },
        {
         "metadata": "{}",
         "name": "air_time",
         "type": "\"string\""
        },
        {
         "metadata": "{}",
         "name": "Duration",
         "type": "\"float\""
        }
       ],
       "type": "table"
      }
     },
     "output_type": "display_data"
    },
    {
     "output_type": "stream",
     "name": "stdout",
     "output_type": "stream",
     "text": [
      "CPU times: user 50.6 ms, sys: 12.4 ms, total: 63 ms\nWall time: 9.19 s\n"
     ]
    }
   ],
   "source": [
    "%%time\n",
    "# daily_program data filename is 'Daily program data'\n",
    "daily_prog_df = load_csv_file('Daily program data', schemas_dict['Daily program data'])\n",
    "\n",
    "daily_prog_df.printSchema()\n",
    "print(f'daily_prog_df contains {daily_prog_df.count()} records!')\n",
    "display(daily_prog_df.limit(6))"
   ]
  },
  {
   "cell_type": "markdown",
   "metadata": {
    "application/vnd.databricks.v1+cell": {
     "cellMetadata": {
      "byteLimit": 2048000,
      "rowLimit": 10000
     },
     "inputWidgets": {},
     "nuid": "27e339d4-c508-4a7c-8acb-2a43baa0da8e",
     "showTitle": false,
     "tableResultSettingsMap": {},
     "title": ""
    }
   },
   "source": [
    "# Read viewing data"
   ]
  },
  {
   "cell_type": "code",
   "execution_count": 0,
   "metadata": {
    "application/vnd.databricks.v1+cell": {
     "cellMetadata": {
      "byteLimit": 2048000,
      "rowLimit": 10000
     },
     "inputWidgets": {},
     "nuid": "a127c6a4-75cf-40ba-a0f5-a2ca5c0b5bfe",
     "showTitle": false,
     "tableResultSettingsMap": {},
     "title": ""
    }
   },
   "outputs": [
    {
     "output_type": "display_data",
     "data": {
      "text/html": [
       "<style scoped>\n",
       "  .table-result-container {\n",
       "    max-height: 300px;\n",
       "    overflow: auto;\n",
       "  }\n",
       "  table, th, td {\n",
       "    border: 1px solid black;\n",
       "    border-collapse: collapse;\n",
       "  }\n",
       "  th, td {\n",
       "    padding: 5px;\n",
       "  }\n",
       "  th {\n",
       "    text-align: left;\n",
       "  }\n",
       "</style><div class='table-result-container'><table class='table-result'><thead style='background-color: white'><tr><th>mso_code</th><th>device_id</th><th>event_date</th><th>event_time</th><th>station_num</th><th>prog_code</th></tr></thead><tbody><tr><td>01540</td><td>0000000050f3</td><td>20150222</td><td>193802</td><td>61812</td><td>EP009279780033</td></tr><tr><td>01540</td><td>0000000050f3</td><td>20150222</td><td>195314</td><td>31709</td><td>EP021056430002</td></tr><tr><td>01540</td><td>0000000050f3</td><td>20150222</td><td>200151</td><td>61812</td><td>EP009279780033</td></tr><tr><td>01540</td><td>000000005518</td><td>20150222</td><td>111139</td><td>46784</td><td>EP004891370013</td></tr><tr><td>01540</td><td>000000005518</td><td>20150222</td><td>190000</td><td>14771</td><td>EP012124070127</td></tr><tr><td>01540</td><td>000000005518</td><td>20150222</td><td>200000</td><td>14771</td><td>EP010237320166</td></tr></tbody></table></div>"
      ]
     },
     "metadata": {
      "application/vnd.databricks.v1+output": {
       "addedWidgets": {},
       "aggData": [],
       "aggError": "",
       "aggOverflow": false,
       "aggSchema": [],
       "aggSeriesLimitReached": false,
       "aggType": "",
       "arguments": {},
       "columnCustomDisplayInfos": {},
       "data": [
        [
         "01540",
         "0000000050f3",
         20150222,
         193802,
         "61812",
         "EP009279780033"
        ],
        [
         "01540",
         "0000000050f3",
         20150222,
         195314,
         "31709",
         "EP021056430002"
        ],
        [
         "01540",
         "0000000050f3",
         20150222,
         200151,
         "61812",
         "EP009279780033"
        ],
        [
         "01540",
         "000000005518",
         20150222,
         111139,
         "46784",
         "EP004891370013"
        ],
        [
         "01540",
         "000000005518",
         20150222,
         190000,
         "14771",
         "EP012124070127"
        ],
        [
         "01540",
         "000000005518",
         20150222,
         200000,
         "14771",
         "EP010237320166"
        ]
       ],
       "datasetInfos": [],
       "dbfsResultPath": null,
       "isJsonSchema": true,
       "metadata": {},
       "overflow": false,
       "plotOptions": {
        "customPlotOptions": {},
        "displayType": "table",
        "pivotAggregation": null,
        "pivotColumns": null,
        "xColumns": null,
        "yColumns": null
       },
       "removedWidgets": [],
       "schema": [
        {
         "metadata": "{}",
         "name": "mso_code",
         "type": "\"string\""
        },
        {
         "metadata": "{}",
         "name": "device_id",
         "type": "\"string\""
        },
        {
         "metadata": "{}",
         "name": "event_date",
         "type": "\"integer\""
        },
        {
         "metadata": "{}",
         "name": "event_time",
         "type": "\"integer\""
        },
        {
         "metadata": "{}",
         "name": "station_num",
         "type": "\"string\""
        },
        {
         "metadata": "{}",
         "name": "prog_code",
         "type": "\"string\""
        }
       ],
       "type": "table"
      }
     },
     "output_type": "display_data"
    },
    {
     "output_type": "stream",
     "name": "stdout",
     "output_type": "stream",
     "text": [
      "viewing10m_df contains 9935852 rows!\n"
     ]
    }
   ],
   "source": [
    "dataPath = \"dbfs:/FileStore/ddm/10m_viewing\"\n",
    "\n",
    "viewing10m_df = spark.read.format(\"csv\")\\\n",
    "    .option(\"header\",\"true\")\\\n",
    "    .option(\"delimiter\",\",\")\\\n",
    "    .schema(schemas_dict['viewing_full'])\\\n",
    "    .load(dataPath)\n",
    "\n",
    "display(viewing10m_df.limit(6))\n",
    "print(f'viewing10m_df contains {viewing10m_df.count()} rows!')"
   ]
  },
  {
   "cell_type": "markdown",
   "metadata": {
    "application/vnd.databricks.v1+cell": {
     "cellMetadata": {
      "byteLimit": 2048000,
      "rowLimit": 10000
     },
     "inputWidgets": {},
     "nuid": "1c12a188-ba94-431f-ace1-668c36be86ff",
     "showTitle": false,
     "tableResultSettingsMap": {},
     "title": ""
    }
   },
   "source": [
    "# Read reference data"
   ]
  },
  {
   "cell_type": "markdown",
   "metadata": {
    "application/vnd.databricks.v1+cell": {
     "cellMetadata": {
      "byteLimit": 2048000,
      "rowLimit": 10000
     },
     "inputWidgets": {},
     "nuid": "08701cf0-0ea4-4af6-b678-b6b6f984c8d5",
     "showTitle": false,
     "tableResultSettingsMap": {},
     "title": ""
    }
   },
   "source": [
    "Note that we removed the 'System Type' column."
   ]
  },
  {
   "cell_type": "code",
   "execution_count": 0,
   "metadata": {
    "application/vnd.databricks.v1+cell": {
     "cellMetadata": {
      "byteLimit": 2048000,
      "rowLimit": 10000
     },
     "inputWidgets": {},
     "nuid": "4852dbfb-72ea-4ef2-8574-a8e5477a2adb",
     "showTitle": false,
     "tableResultSettingsMap": {},
     "title": ""
    }
   },
   "outputs": [
    {
     "output_type": "display_data",
     "data": {
      "text/html": [
       "<style scoped>\n",
       "  .table-result-container {\n",
       "    max-height: 300px;\n",
       "    overflow: auto;\n",
       "  }\n",
       "  table, th, td {\n",
       "    border: 1px solid black;\n",
       "    border-collapse: collapse;\n",
       "  }\n",
       "  th, td {\n",
       "    padding: 5px;\n",
       "  }\n",
       "  th {\n",
       "    text-align: left;\n",
       "  }\n",
       "</style><div class='table-result-container'><table class='table-result'><thead style='background-color: white'><tr><th>device_id</th><th>dma</th><th>dma_code</th><th>household_id</th><th>zipcode</th></tr></thead><tbody><tr><td>0000000050f3</td><td>Toledo</td><td>547</td><td>1471346</td><td>43609</td></tr><tr><td>000000006785</td><td>Amarillo</td><td>634</td><td>1924512</td><td>79119</td></tr><tr><td>000000007320</td><td>Lake Charles</td><td>643</td><td>3154808</td><td>70634</td></tr><tr><td>000000007df9</td><td>Lake Charles</td><td>643</td><td>1924566</td><td>70601</td></tr><tr><td>000000009595</td><td>Lexington</td><td>541</td><td>1600886</td><td>40601</td></tr><tr><td>000000009c6a</td><td>Houston</td><td>618</td><td>1924713</td><td>77339</td></tr></tbody></table></div>"
      ]
     },
     "metadata": {
      "application/vnd.databricks.v1+output": {
       "addedWidgets": {},
       "aggData": [],
       "aggError": "",
       "aggOverflow": false,
       "aggSchema": [],
       "aggSeriesLimitReached": false,
       "aggType": "",
       "arguments": {},
       "columnCustomDisplayInfos": {},
       "data": [
        [
         "0000000050f3",
         "Toledo",
         "547",
         "1471346",
         43609
        ],
        [
         "000000006785",
         "Amarillo",
         "634",
         "1924512",
         79119
        ],
        [
         "000000007320",
         "Lake Charles",
         "643",
         "3154808",
         70634
        ],
        [
         "000000007df9",
         "Lake Charles",
         "643",
         "1924566",
         70601
        ],
        [
         "000000009595",
         "Lexington",
         "541",
         "1600886",
         40601
        ],
        [
         "000000009c6a",
         "Houston",
         "618",
         "1924713",
         77339
        ]
       ],
       "datasetInfos": [],
       "dbfsResultPath": null,
       "isJsonSchema": true,
       "metadata": {},
       "overflow": false,
       "plotOptions": {
        "customPlotOptions": {},
        "displayType": "table",
        "pivotAggregation": null,
        "pivotColumns": null,
        "xColumns": null,
        "yColumns": null
       },
       "removedWidgets": [],
       "schema": [
        {
         "metadata": "{}",
         "name": "device_id",
         "type": "\"string\""
        },
        {
         "metadata": "{}",
         "name": "dma",
         "type": "\"string\""
        },
        {
         "metadata": "{}",
         "name": "dma_code",
         "type": "\"string\""
        },
        {
         "metadata": "{}",
         "name": "household_id",
         "type": "\"string\""
        },
        {
         "metadata": "{}",
         "name": "zipcode",
         "type": "\"long\""
        }
       ],
       "type": "table"
      }
     },
     "output_type": "display_data"
    },
    {
     "output_type": "stream",
     "name": "stdout",
     "output_type": "stream",
     "text": [
      "ref_data contains 704172 rows!\n"
     ]
    }
   ],
   "source": [
    "# Read the new parquet\n",
    "ref_data_schema = StructType([\n",
    "    StructField('device_id', StringType()),\n",
    "    StructField('dma', StringType()),\n",
    "    StructField('dma_code', StringType()),\n",
    "    StructField('household_id', IntegerType()),\n",
    "    StructField('zipcode', IntegerType())\n",
    "])\n",
    "\n",
    "# Reading as a Parquet\n",
    "dataPath = f\"dbfs:/FileStore/ddm/ref_data\"\n",
    "ref_data = spark.read.format('parquet') \\\n",
    "                    .option(\"inferSchema\",\"true\")\\\n",
    "                    .load(dataPath)\n",
    "                    \n",
    "display(ref_data.limit(6))\n",
    "print(f'ref_data contains {ref_data.count()} rows!')"
   ]
  },
  {
   "cell_type": "markdown",
   "metadata": {
    "application/vnd.databricks.v1+cell": {
     "cellMetadata": {
      "byteLimit": 2048000,
      "rowLimit": 10000
     },
     "inputWidgets": {},
     "nuid": "f6e31e9a-0415-4fba-bc70-fc0ed158fa0f",
     "showTitle": false,
     "tableResultSettingsMap": {},
     "title": ""
    }
   },
   "source": [
    "# Filtering useful data"
   ]
  },
  {
   "cell_type": "markdown",
   "metadata": {
    "application/vnd.databricks.v1+cell": {
     "cellMetadata": {
      "byteLimit": 2048000,
      "rowLimit": 10000
     },
     "inputWidgets": {},
     "nuid": "7ac02f91-ead6-42db-8585-d6142724f7d0",
     "showTitle": false,
     "tableResultSettingsMap": {},
     "title": ""
    }
   },
   "source": [
    "In this step, we reduce each dataset by keeping only the necessary columns and filtering out invalid or duplicate rows.  \n",
    "This improves performance and simplifies the transformations required for the analysis in Part 1.\n",
    "\n",
    "#### Reference Data (`clean_reference_df`)\n",
    "We use this table to link `device_id` to `household_id`. Therefore:\n",
    "- Rows with null values in either `device_id` or `household_id` are removed, as they cannot be used for reliable joins.\n",
    "- Duplicate rows are removed to ensure that each `(device_id, household_id)` pair appears only once.\n",
    "\n",
    "#### Demographic Data (`clean_demo_df`)\n",
    "This data is used to evaluate household-level conditions. We:\n",
    "- Remove any row where `household_id` is null, as such rows cannot be linked to a device.\n",
    "- Drop duplicates to eliminate unnecessary repetition of demographic attributes.\n",
    "\n",
    "#### Daily Program Data (`clean_daily_prog_df`)\n",
    "We retain only rows with valid program codes:\n",
    "- Rows with null `prog_code` are excluded, since the program cannot be identified or evaluated.  \n",
    "  (Note: in theory a null `prog_code` could still correspond to a malicious airing, but in practice, such cases are either nonexistent or untrackable.)\n",
    "- We do not drop duplicates here, as repeated rows may represent different airings of the same program. Differences in other columns (e.g., timestamps) may justify their presence.\n",
    "\n",
    "#### Viewing Data (`clean_viewing_df`)\n",
    "This dataset connects program codes to devices. We:\n",
    "- Remove rows where either `prog_code` or `device_id` is null, as they cannot be reliably joined.\n",
    "- Drop duplicates to ensure a clean association between programs and devices.\n",
    "\n",
    "This cleaning phase ensures that only valid, unique, and joinable records are kept for the core analysis."
   ]
  },
  {
   "cell_type": "code",
   "execution_count": 0,
   "metadata": {
    "application/vnd.databricks.v1+cell": {
     "cellMetadata": {
      "byteLimit": 2048000,
      "rowLimit": 10000
     },
     "inputWidgets": {},
     "nuid": "4053617c-48a4-464a-8915-42ec400f0f05",
     "showTitle": false,
     "tableResultSettingsMap": {},
     "title": ""
    }
   },
   "outputs": [
    {
     "output_type": "stream",
     "name": "stdout",
     "output_type": "stream",
     "text": [
      "clean_reference_df contains 704172 rows!\nclean_demo_df contains 357721 rows!\nclean_daily_prog_df contains 13194849 rows!\nclean_viewing_df contains 8436332 rows!\n"
     ]
    }
   ],
   "source": [
    "# Reference Data\n",
    "ref_data = ref_data.filter(col(\"household_id\").isNotNull() & col(\"device_id\").isNotNull())\n",
    "clean_reference_df = ref_data.select(\"device_id\", \"household_id\").dropDuplicates()\n",
    "\n",
    "# Demographic Data\n",
    "demo_df = demo_df.filter(col(\"household_id\").isNotNull())\n",
    "clean_demo_df = demo_df.select(\n",
    "    \"household_id\", \n",
    "    \"vehicle_make\", \n",
    "    \"income\", \n",
    "    \"num_adults\", \n",
    "    \"age_individual\", \n",
    "    \"age_2\"\n",
    ").dropDuplicates()\n",
    "\n",
    "# Daily Program Data\n",
    "daily_prog_df = daily_prog_df.select(\n",
    "    \"prog_code\", \n",
    "    \"Duration\", \n",
    "    \"air_date\", \n",
    "    \"air_time\", \n",
    "    \"genre\", \n",
    "    \"title\"\n",
    ")\n",
    "clean_daily_prog_df = daily_prog_df.filter(col(\"prog_code\").isNotNull())\n",
    "\n",
    "# Program Viewing Data\n",
    "viewing10m_df = viewing10m_df.filter(col(\"device_id\").isNotNull() & col(\"prog_code\").isNotNull())\n",
    "clean_viewing_df = viewing10m_df.select(\"prog_code\", \"device_id\").dropDuplicates()\n",
    "\n",
    "\n",
    "print(f'clean_reference_df contains {clean_reference_df.count()} rows!')\n",
    "print(f'clean_demo_df contains {clean_demo_df.count()} rows!')\n",
    "print(f'clean_daily_prog_df contains {clean_daily_prog_df.count()} rows!')\n",
    "print(f'clean_viewing_df contains {clean_viewing_df.count()} rows!')"
   ]
  },
  {
   "cell_type": "markdown",
   "metadata": {
    "application/vnd.databricks.v1+cell": {
     "cellMetadata": {
      "byteLimit": 2048000,
      "rowLimit": 10000
     },
     "inputWidgets": {},
     "nuid": "9a67b111-94e0-47bf-95a1-3cb053f2695f",
     "showTitle": false,
     "tableResultSettingsMap": {},
     "title": ""
    }
   },
   "source": [
    "# Applying the Brainwash Detection Conditions"
   ]
  },
  {
   "cell_type": "markdown",
   "metadata": {
    "application/vnd.databricks.v1+cell": {
     "cellMetadata": {
      "byteLimit": 2048000,
      "rowLimit": 10000
     },
     "inputWidgets": {},
     "nuid": "01211f85-4fc1-488c-85d2-fa2fd5ba47f9",
     "showTitle": false,
     "tableResultSettingsMap": {},
     "title": ""
    }
   },
   "source": [
    "### Global Approach\n",
    "To evaluate whether a program can be considered malicious, we define several conditions based on two types of data:\n",
    "- **Program metadata** from the daily program table (`daily_prog_df`)\n",
    "- **Household and demographic characteristics** from the demographic and reference data\n",
    "\n",
    "Our approach proceeds in two phases:\n",
    "\n",
    "#### 1. Local Condition Flag Construction\n",
    "We define individual boolean indicators (`condX_flag`) for conditions, using only the relevant table for that condition:\n",
    "- Conditions based on program properties (e.g., duration, genre, airing date) are defined within the `daily_prog_df`.\n",
    "- Conditions based on household information (e.g., number of devices, vehicle type, adult age gap) are defined within the `demo_df`, sometimes after joins with the reference data.\n",
    "\n",
    "These `condX_flag` columns represent whether each row satisfies a given maliciousness criterion.\n",
    "\n",
    "#### 2. Aggregation and Combination\n",
    "After constructing the condition flags:\n",
    "- Program-level conditions are aggregated directly per `prog_code`.\n",
    "- Household-level conditions are propagated to the programs viewed by those households, using the link between `device_id` (in viewing data) and `household_id` (in reference data). For each `prog_code`, we compute how many household-level conditions are satisfied at least once (We rely on the fact that for each prog_code, it is sufficient for one of the household-level conditions (2, 3, or 5) to be satisfied at least once by any of the associated households for the condition to be considered true for all these prog_code.)\n",
    "\n",
    "Finally, we classify a progcode as *malicious* if its total conditions score is more than 4.\n",
    "\n",
    "This modular and structured approach allows for flexibility, clarity, and scalability of condition definitions."
   ]
  },
  {
   "cell_type": "markdown",
   "metadata": {
    "application/vnd.databricks.v1+cell": {
     "cellMetadata": {
      "byteLimit": 2048000,
      "rowLimit": 10000
     },
     "inputWidgets": {},
     "nuid": "91cd67bc-cd14-49d7-a653-c1ad84bee92c",
     "showTitle": false,
     "tableResultSettingsMap": {},
     "title": ""
    }
   },
   "source": [
    "%md\n",
    "**Condition 2 – Vehicle Make is Toyota (`vehicle_make == \"91\"`)**  \n",
    "**Condition 3 – Two Adults with Small Age Difference**\n",
    "\n",
    "We add two new columns to the `clean_demo_df` DataFrame: `cond2_flag` and `cond3_flag`.\n",
    "\n",
    "- `cond2_flag` is used to identify households where the primary vehicle is a Toyota, encoded as `vehicle_make == \"91\"`.  \n",
    "  If the condition is satisfied, the flag is set to `1`; otherwise, it is set to `0`.\n",
    "\n",
    "- `cond3_flag` marks households with exactly two adults (`num_adults == 2`) and a small age difference between them.  \n",
    "  Specifically, it checks that both `age_individual` and `age_2` are not null and their absolute difference is less than or equal to 6 years.  \n",
    "  When the condition is satisfied, the flag is set to `1`; otherwise, it is set to `0`.\n"
   ]
  },
  {
   "cell_type": "code",
   "execution_count": 0,
   "metadata": {
    "application/vnd.databricks.v1+cell": {
     "cellMetadata": {
      "byteLimit": 2048000,
      "rowLimit": 10000
     },
     "inputWidgets": {},
     "nuid": "47b84dbb-7d8e-4a4b-8679-487af9f3c1f6",
     "showTitle": false,
     "tableResultSettingsMap": {},
     "title": ""
    }
   },
   "outputs": [],
   "source": [
    "# Add the cond3_flag column for condition 3\n",
    "clean_demo_df = clean_demo_df.withColumn(\n",
    "    \"cond3_flag\",\n",
    "    when(\n",
    "        (col(\"num_adults\") == 2) &\n",
    "        col(\"age_individual\").isNotNull() &\n",
    "        col(\"age_2\").isNotNull() &\n",
    "        (abs(col(\"age_individual\") - col(\"age_2\")) <= 6),\n",
    "        1\n",
    "    ).otherwise(0)\n",
    ")\n",
    "\n",
    "# Add the cond2_flag column for condition 2\n",
    "clean_demo_df = clean_demo_df \\\n",
    "    .withColumn(\"cond2_flag\", when((col(\"vehicle_make\") == \"91\") & col(\"vehicle_make\").isNotNull(), 1).otherwise(0)) "
   ]
  },
  {
   "cell_type": "markdown",
   "metadata": {
    "application/vnd.databricks.v1+cell": {
     "cellMetadata": {
      "byteLimit": 2048000,
      "rowLimit": 10000
     },
     "inputWidgets": {},
     "nuid": "c9ae9bd4-be16-45f5-a769-f0a6f5cfd97e",
     "showTitle": false,
     "tableResultSettingsMap": {},
     "title": ""
    }
   },
   "source": [
    "**Condition 5: Households with More Than 3 Devices and Below-Average Income**\n",
    "\n",
    "To determine whether a program was watched by a household meeting this condition, we perform the following steps:\n",
    "\n",
    "- Count the number of unique devices per household using the `clean_reference_df` table.\n",
    "- Convert the household income codes (0–9, A–D) from the `clean_demo_df` table into numerical values, using a mapping where:\n",
    "  - Digits 0–9 are mapped to 0–9.\n",
    "  - Letters A–D are mapped to 10–13.\n",
    "- Compute the average household income, **excluding null values**, to avoid skewing the result.\n",
    "- Join the device count with the demographic data.\n",
    "- Create the `cond5_flag` column, which is set to `1` **only if**:\n",
    "  - The household has more than 3 devices.\n",
    "  - The household's income is below the average.\n",
    "  - The income field is not null.\n",
    "- Print this average value and optionally display the result to assist with debugging or validating the calculation.  \n"
   ]
  },
  {
   "cell_type": "code",
   "execution_count": 0,
   "metadata": {
    "application/vnd.databricks.v1+cell": {
     "cellMetadata": {
      "byteLimit": 2048000,
      "rowLimit": 10000
     },
     "inputWidgets": {},
     "nuid": "fd644e23-1f03-4dd3-b576-48c1698c56f7",
     "showTitle": false,
     "tableResultSettingsMap": {},
     "title": ""
    }
   },
   "outputs": [],
   "source": [
    "# Step 1. Count how many devices are associated with each household\n",
    "device_counts = clean_reference_df.groupBy(\"household_id\").agg(\n",
    "    count(\"device_id\").alias(\"num_devices\")\n",
    ")\n",
    "\n",
    "# Step 2. Map income categories to numeric values (0–9 for digits, 10–13 for A–D)\n",
    "income_mapping = {\n",
    "    \"0\": 0, \"1\": 1, \"2\": 2, \"3\": 3, \"4\": 4,\n",
    "    \"5\": 5, \"6\": 6, \"7\": 7, \"8\": 8, \"9\": 9,\n",
    "    \"A\": 10, \"B\": 11, \"C\": 12, \"D\": 13\n",
    "}\n",
    "income_map_expr = create_map([lit(k) for pair in income_mapping.items() for k in pair])\n",
    "\n",
    "# Step 3. Add income_numeric column using the mapping\n",
    "clean_demo_df = clean_demo_df.withColumn(\n",
    "    \"income_numeric\",\n",
    "    income_map_expr[col(\"income\")]\n",
    ")\n",
    "\n",
    "# Step 4. Calculate the average income using only non-null values\n",
    "avg_income = clean_demo_df.filter(col(\"income_numeric\").isNotNull()) \\\n",
    "                                .select(avg(\"income_numeric\").alias(\"avg_income\")) \\\n",
    "                                .first()[\"avg_income\"]\n",
    "\n",
    "# Step 5. Join the device count data to the demographic dataframe\n",
    "# Cast household_id to int to match the type of device_counts\n",
    "clean_demo_df = clean_demo_df.withColumn(\n",
    "    \"household_id\",\n",
    "    col(\"household_id\").cast(\"int\")\n",
    ")\n",
    "clean_demo_df = clean_demo_df.join(device_counts, on=\"household_id\", how=\"left\")\n",
    "\n",
    "# Step 6. Add cond5_flag = 1 if household has more than 3 devices and income < average\n",
    "clean_demo_df = clean_demo_df.withColumn(\n",
    "    \"cond5_flag\",\n",
    "    when(\n",
    "        (col(\"num_devices\").isNotNull()) & \n",
    "        (col(\"num_devices\") > 3) &\n",
    "        (col(\"income_numeric\").isNotNull()) &\n",
    "        (col(\"income_numeric\") < avg_income),\n",
    "        1\n",
    "    ).otherwise(0)\n",
    ")"
   ]
  },
  {
   "cell_type": "code",
   "execution_count": 0,
   "metadata": {
    "application/vnd.databricks.v1+cell": {
     "cellMetadata": {
      "byteLimit": 2048000,
      "rowLimit": 10000
     },
     "inputWidgets": {},
     "nuid": "e42855ca-0239-4dda-aef1-0bf29b47cd75",
     "showTitle": false,
     "tableResultSettingsMap": {},
     "title": ""
    }
   },
   "outputs": [
    {
     "output_type": "stream",
     "name": "stdout",
     "output_type": "stream",
     "text": [
      "Average income: 6.715162771873656\n"
     ]
    },
    {
     "output_type": "display_data",
     "data": {
      "text/html": [
       "<style scoped>\n",
       "  .table-result-container {\n",
       "    max-height: 300px;\n",
       "    overflow: auto;\n",
       "  }\n",
       "  table, th, td {\n",
       "    border: 1px solid black;\n",
       "    border-collapse: collapse;\n",
       "  }\n",
       "  th, td {\n",
       "    padding: 5px;\n",
       "  }\n",
       "  th {\n",
       "    text-align: left;\n",
       "  }\n",
       "</style><div class='table-result-container'><table class='table-result'><thead style='background-color: white'><tr><th>household_id</th><th>vehicle_make</th><th>income</th><th>num_adults</th><th>age_individual</th><th>age_2</th><th>cond3_flag</th><th>cond2_flag</th><th>income_numeric</th><th>num_devices</th><th>cond5_flag</th></tr></thead><tbody><tr><td>40</td><td>null</td><td>5</td><td>2</td><td>68</td><td>null</td><td>0</td><td>0</td><td>5</td><td>2</td><td>0</td></tr><tr><td>111</td><td>null</td><td>4</td><td>2</td><td>72</td><td>68</td><td>1</td><td>0</td><td>4</td><td>5</td><td>1</td></tr><tr><td>26</td><td>null</td><td>null</td><td>null</td><td>null</td><td>null</td><td>0</td><td>0</td><td>null</td><td>2</td><td>0</td></tr><tr><td>117</td><td>null</td><td>null</td><td>null</td><td>null</td><td>null</td><td>0</td><td>0</td><td>null</td><td>2</td><td>0</td></tr><tr><td>85</td><td>null</td><td>null</td><td>1</td><td>74</td><td>null</td><td>0</td><td>0</td><td>null</td><td>2</td><td>0</td></tr><tr><td>99</td><td>null</td><td>null</td><td>null</td><td>null</td><td>null</td><td>0</td><td>0</td><td>null</td><td>2</td><td>0</td></tr><tr><td>15</td><td>null</td><td>4</td><td>2</td><td>60</td><td>null</td><td>0</td><td>0</td><td>4</td><td>2</td><td>0</td></tr><tr><td>61</td><td>null</td><td>8</td><td>2</td><td>68</td><td>58</td><td>0</td><td>0</td><td>8</td><td>1</td><td>0</td></tr><tr><td>48</td><td>null</td><td>null</td><td>null</td><td>null</td><td>null</td><td>0</td><td>0</td><td>null</td><td>2</td><td>0</td></tr><tr><td>126</td><td>37</td><td>null</td><td>2</td><td>60</td><td>86</td><td>0</td><td>0</td><td>null</td><td>2</td><td>0</td></tr><tr><td>109</td><td>null</td><td>null</td><td>1</td><td>62</td><td>null</td><td>0</td><td>0</td><td>null</td><td>3</td><td>0</td></tr><tr><td>42</td><td>null</td><td>null</td><td>null</td><td>null</td><td>null</td><td>0</td><td>0</td><td>null</td><td>3</td><td>0</td></tr><tr><td>120</td><td>null</td><td>null</td><td>1</td><td>null</td><td>null</td><td>0</td><td>0</td><td>null</td><td>1</td><td>0</td></tr><tr><td>35</td><td>null</td><td>null</td><td>1</td><td>50</td><td>null</td><td>0</td><td>0</td><td>null</td><td>3</td><td>0</td></tr><tr><td>122</td><td>null</td><td>5</td><td>2</td><td>42</td><td>42</td><td>1</td><td>0</td><td>5</td><td>1</td><td>0</td></tr><tr><td>28</td><td>null</td><td>7</td><td>2</td><td>38</td><td>34</td><td>1</td><td>0</td><td>7</td><td>2</td><td>0</td></tr><tr><td>56</td><td>null</td><td>null</td><td>2</td><td>46</td><td>null</td><td>0</td><td>0</td><td>null</td><td>2</td><td>0</td></tr><tr><td>98</td><td>15</td><td>8</td><td>2</td><td>42</td><td>42</td><td>1</td><td>0</td><td>8</td><td>3</td><td>0</td></tr><tr><td>24</td><td>null</td><td>7</td><td>2</td><td>46</td><td>null</td><td>0</td><td>0</td><td>7</td><td>3</td><td>0</td></tr><tr><td>36</td><td>null</td><td>null</td><td>null</td><td>null</td><td>null</td><td>0</td><td>0</td><td>null</td><td>1</td><td>0</td></tr></tbody></table></div>"
      ]
     },
     "metadata": {
      "application/vnd.databricks.v1+output": {
       "addedWidgets": {},
       "aggData": [],
       "aggError": "",
       "aggOverflow": false,
       "aggSchema": [],
       "aggSeriesLimitReached": false,
       "aggType": "",
       "arguments": {},
       "columnCustomDisplayInfos": {},
       "data": [
        [
         40,
         null,
         "5",
         2,
         68,
         null,
         0,
         0,
         5,
         2,
         0
        ],
        [
         111,
         null,
         "4",
         2,
         72,
         68,
         1,
         0,
         4,
         5,
         1
        ],
        [
         26,
         null,
         null,
         null,
         null,
         null,
         0,
         0,
         null,
         2,
         0
        ],
        [
         117,
         null,
         null,
         null,
         null,
         null,
         0,
         0,
         null,
         2,
         0
        ],
        [
         85,
         null,
         null,
         1,
         74,
         null,
         0,
         0,
         null,
         2,
         0
        ],
        [
         99,
         null,
         null,
         null,
         null,
         null,
         0,
         0,
         null,
         2,
         0
        ],
        [
         15,
         null,
         "4",
         2,
         60,
         null,
         0,
         0,
         4,
         2,
         0
        ],
        [
         61,
         null,
         "8",
         2,
         68,
         58,
         0,
         0,
         8,
         1,
         0
        ],
        [
         48,
         null,
         null,
         null,
         null,
         null,
         0,
         0,
         null,
         2,
         0
        ],
        [
         126,
         "37",
         null,
         2,
         60,
         86,
         0,
         0,
         null,
         2,
         0
        ],
        [
         109,
         null,
         null,
         1,
         62,
         null,
         0,
         0,
         null,
         3,
         0
        ],
        [
         42,
         null,
         null,
         null,
         null,
         null,
         0,
         0,
         null,
         3,
         0
        ],
        [
         120,
         null,
         null,
         1,
         null,
         null,
         0,
         0,
         null,
         1,
         0
        ],
        [
         35,
         null,
         null,
         1,
         50,
         null,
         0,
         0,
         null,
         3,
         0
        ],
        [
         122,
         null,
         "5",
         2,
         42,
         42,
         1,
         0,
         5,
         1,
         0
        ],
        [
         28,
         null,
         "7",
         2,
         38,
         34,
         1,
         0,
         7,
         2,
         0
        ],
        [
         56,
         null,
         null,
         2,
         46,
         null,
         0,
         0,
         null,
         2,
         0
        ],
        [
         98,
         "15",
         "8",
         2,
         42,
         42,
         1,
         0,
         8,
         3,
         0
        ],
        [
         24,
         null,
         "7",
         2,
         46,
         null,
         0,
         0,
         7,
         3,
         0
        ],
        [
         36,
         null,
         null,
         null,
         null,
         null,
         0,
         0,
         null,
         1,
         0
        ]
       ],
       "datasetInfos": [],
       "dbfsResultPath": null,
       "isJsonSchema": true,
       "metadata": {},
       "overflow": false,
       "plotOptions": {
        "customPlotOptions": {},
        "displayType": "table",
        "pivotAggregation": null,
        "pivotColumns": null,
        "xColumns": null,
        "yColumns": null
       },
       "removedWidgets": [],
       "schema": [
        {
         "metadata": "{}",
         "name": "household_id",
         "type": "\"integer\""
        },
        {
         "metadata": "{}",
         "name": "vehicle_make",
         "type": "\"string\""
        },
        {
         "metadata": "{}",
         "name": "income",
         "type": "\"string\""
        },
        {
         "metadata": "{}",
         "name": "num_adults",
         "type": "\"integer\""
        },
        {
         "metadata": "{}",
         "name": "age_individual",
         "type": "\"integer\""
        },
        {
         "metadata": "{}",
         "name": "age_2",
         "type": "\"integer\""
        },
        {
         "metadata": "{}",
         "name": "cond3_flag",
         "type": "\"integer\""
        },
        {
         "metadata": "{}",
         "name": "cond2_flag",
         "type": "\"integer\""
        },
        {
         "metadata": "{}",
         "name": "income_numeric",
         "type": "\"integer\""
        },
        {
         "metadata": "{}",
         "name": "num_devices",
         "type": "\"long\""
        },
        {
         "metadata": "{}",
         "name": "cond5_flag",
         "type": "\"integer\""
        }
       ],
       "type": "table"
      }
     },
     "output_type": "display_data"
    }
   ],
   "source": [
    "print(f\"Average income: {avg_income}\")\n",
    "display(clean_demo_df.limit(20))"
   ]
  },
  {
   "cell_type": "markdown",
   "metadata": {
    "application/vnd.databricks.v1+cell": {
     "cellMetadata": {
      "byteLimit": 2048000,
      "rowLimit": 10000
     },
     "inputWidgets": {},
     "nuid": "cc7d472a-db7f-4baa-988e-5755d2e5d423",
     "showTitle": false,
     "tableResultSettingsMap": {},
     "title": ""
    }
   },
   "source": [
    "**Condition 4 – Detecting Programs Aired on Friday the 13th**\n",
    "\n",
    "This block identifies programs that aired on a Friday the 13th or started on Thursday the 12th and ended on Friday the 13th. These are flagged under condition 4.\n",
    "\n",
    "We start by creating a copy version of `clean_daily_prog_df` for creating timestamps, keeping only rows where `air_time`, `air_date`, and `Duration` are not null. Then, we construct a timestamp `start_datetime` by concatenating `air_date` (in `yyyyMMdd` format) with `air_time` (in `HHmmss` format) and parsing it accordingly.\n",
    "\n",
    "To compute the program's end time, we add the `Duration` expressed in seconds to `start_datetime`. This is safe because although `Duration` is stored as a float, all values are actually integers (we verified). Thus, no rounding or overflow issues are expected.\n",
    "\n",
    "From both `start_datetime` and `end_datetime`, we extract the calendar day and weekday name. We then define two conditions because it was verified that the maximum duration in the dataset is around 20 hours:\n",
    "- One for programs starting on Friday the 13th.\n",
    "- Another for programs starting on Thursday the 12th and ending on Friday the 13th.\n",
    "\n",
    "We flag all rows satisfying at least one of these conditions by setting a new column `is_f13` to 1. We extract the distinct `prog_code`s that satisfy this and attach a `cond4_flag = 1` to them.\n",
    "\n",
    "Finally, we left join this flagged subset with the original `clean_daily_prog_df` on `prog_code` and replace any missing values in `cond4_flag` (i.e., programs that did not meet the condition) with 0. This process ensures that the `cond4_flag` is accurately and safely incorporated into the main dataset.\n",
    "\n",
    "We added two display calls on timestamp_clean_daily_prog_df:one to show rows from Friday the 13th, and another with arbitrary rows, in order to visualize that the condition is well applied.\n",
    "\n"
   ]
  },
  {
   "cell_type": "code",
   "execution_count": 0,
   "metadata": {
    "application/vnd.databricks.v1+cell": {
     "cellMetadata": {
      "byteLimit": 2048000,
      "rowLimit": 10000
     },
     "inputWidgets": {},
     "nuid": "b5eb322b-12da-447d-ae4e-530f66e5d0d0",
     "showTitle": false,
     "tableResultSettingsMap": {},
     "title": ""
    }
   },
   "outputs": [
    {
     "output_type": "stream",
     "name": "stdout",
     "output_type": "stream",
     "text": [
      "The maximum duration in the dataset is: 1210 minutes\n"
     ]
    }
   ],
   "source": [
    "# Convert Duration to Integer type since all values were verified to be whole numbers.\n",
    "# Using integers avoids floating-point precision issues and simplifies further processing.\n",
    "clean_daily_prog_df = clean_daily_prog_df.withColumn(\n",
    "    \"Duration\",\n",
    "    col(\"Duration\").cast(\"int\")\n",
    ")\n",
    "max_duration = clean_daily_prog_df.select(max(\"Duration\").alias(\"max_duration\")) \\\n",
    "                                  .first()[\"max_duration\"]\n",
    "print(f\"The maximum duration in the dataset is: {max_duration} minutes\")"
   ]
  },
  {
   "cell_type": "code",
   "execution_count": 0,
   "metadata": {
    "application/vnd.databricks.v1+cell": {
     "cellMetadata": {
      "byteLimit": 2048000,
      "rowLimit": 10000
     },
     "inputWidgets": {},
     "nuid": "d0373f4d-c90a-4a1e-9da5-140ef7f23ba0",
     "showTitle": false,
     "tableResultSettingsMap": {},
     "title": ""
    }
   },
   "outputs": [],
   "source": [
    "# Step 1: Create a clean dataframe to compute timestamp\n",
    "timestamp_clean_daily_prog_df = clean_daily_prog_df.filter(\n",
    "    col(\"air_time\").isNotNull() &\n",
    "    col(\"air_date\").isNotNull() &\n",
    "    col(\"Duration\").isNotNull()\n",
    ")\n",
    "\n",
    "# Step 2: Create start datetime from air_date and air_time\n",
    "timestamp_clean_daily_prog_df = timestamp_clean_daily_prog_df.withColumn(\n",
    "    \"start_datetime\",\n",
    "    to_timestamp(\n",
    "        concat_ws(\"\", col(\"air_date\"), col(\"air_time\")),  \n",
    "        \"yyyyMMddHHmmss\"\n",
    "    )\n",
    ")\n",
    "\n",
    "# Step 3: Compute end datetime using Duration\n",
    "timestamp_clean_daily_prog_df = timestamp_clean_daily_prog_df.withColumn(\n",
    "    \"end_datetime\",\n",
    "    (col(\"start_datetime\").cast(\"long\") + col(\"Duration\") * 60).cast(\"timestamp\")\n",
    ")\n",
    "\n",
    "# Step 4: Extract day and weekday info from start and end timestamps\n",
    "timestamp_clean_daily_prog_df = timestamp_clean_daily_prog_df \\\n",
    "    .withColumn(\"start_day\", date_format(\"start_datetime\", \"d\")) \\\n",
    "    .withColumn(\"start_weekday\", date_format(\"start_datetime\", \"E\")) \\\n",
    "    .withColumn(\"end_day\", date_format(\"end_datetime\", \"d\")) \\\n",
    "    .withColumn(\"end_weekday\", date_format(\"end_datetime\", \"E\"))\n",
    "\n",
    "# Step 5: Define Friday 13th conditions\n",
    "# Starts on Friday the 13th\n",
    "cond1 = (col(\"start_day\") == \"13\") & (col(\"start_weekday\") == \"Fri\")  \n",
    "# Starts Thursday the 12th, ends Friday the 13th\n",
    "cond2 = (\n",
    "    (col(\"start_day\") == \"12\") & (col(\"start_weekday\") == \"Thu\") &\n",
    "    (col(\"end_day\") == \"13\") & (col(\"end_weekday\") == \"Fri\")\n",
    ")     \n",
    "\n",
    "# Step 6: Flag rows in clean df that satisfy Friday the 13th condition\n",
    "timestamp_clean_daily_prog_df = timestamp_clean_daily_prog_df.withColumn(\n",
    "    \"is_f13\",\n",
    "    when(cond1 | cond2, 1).otherwise(0)\n",
    ")\n",
    "\n",
    "# Step 7: Get list of program codes that were aired at least once on a Friday the 13th\n",
    "f13_progcodes = timestamp_clean_daily_prog_df.filter(col(\"is_f13\") == 1).select(\"prog_code\").distinct()\n",
    "\n",
    "# Step 8: Add cond4_flag = 1 to that list\n",
    "f13_progcodes = f13_progcodes.withColumn(\"cond4_flag\", lit(1))\n",
    "\n",
    "# Step 9: Join back to original dataframe on prog_code\n",
    "clean_daily_prog_df = clean_daily_prog_df.join(\n",
    "    f13_progcodes,\n",
    "    on=\"prog_code\",\n",
    "    how=\"left\"\n",
    ")\n",
    "\n",
    "# Step 10: Replace nulls (for non-matching prog_codes) with 0\n",
    "clean_daily_prog_df = clean_daily_prog_df.withColumn(\n",
    "    \"cond4_flag\",\n",
    "    when(col(\"cond4_flag\").isNull(), 0).otherwise(col(\"cond4_flag\"))\n",
    ")\n"
   ]
  },
  {
   "cell_type": "code",
   "execution_count": 0,
   "metadata": {
    "application/vnd.databricks.v1+cell": {
     "cellMetadata": {
      "byteLimit": 2048000,
      "rowLimit": 10000
     },
     "inputWidgets": {},
     "nuid": "86fcdc75-b07b-4110-9ee3-c7bb80b10c4a",
     "showTitle": false,
     "tableResultSettingsMap": {},
     "title": ""
    }
   },
   "outputs": [
    {
     "output_type": "display_data",
     "data": {
      "text/html": [
       "<style scoped>\n",
       "  .table-result-container {\n",
       "    max-height: 300px;\n",
       "    overflow: auto;\n",
       "  }\n",
       "  table, th, td {\n",
       "    border: 1px solid black;\n",
       "    border-collapse: collapse;\n",
       "  }\n",
       "  th, td {\n",
       "    padding: 5px;\n",
       "  }\n",
       "  th {\n",
       "    text-align: left;\n",
       "  }\n",
       "</style><div class='table-result-container'><table class='table-result'><thead style='background-color: white'><tr><th>prog_code</th><th>Duration</th><th>air_date</th><th>air_time</th><th>genre</th><th>title</th><th>start_datetime</th><th>end_datetime</th><th>start_day</th><th>start_weekday</th><th>end_day</th><th>end_weekday</th><th>is_f13</th></tr></thead><tbody><tr><td>EP000365112742</td><td>90</td><td>20151113</td><td>233000</td><td>Sports event,Volleyball</td><td>High School Volleyball</td><td>2015-11-13T23:30:00Z</td><td>2015-11-14T01:00:00Z</td><td>13</td><td>Fri</td><td>14</td><td>Sat</td><td>1</td></tr><tr><td>EP000369550133</td><td>31</td><td>20151113</td><td>233000</td><td>Sitcom</td><td>Martin</td><td>2015-11-13T23:30:00Z</td><td>2015-11-14T00:01:00Z</td><td>13</td><td>Fri</td><td>14</td><td>Sat</td><td>1</td></tr><tr><td>EP002309632678</td><td>60</td><td>20151113</td><td>233000</td><td>Reality,Law</td><td>The People's Court</td><td>2015-11-13T23:30:00Z</td><td>2015-11-14T00:30:00Z</td><td>13</td><td>Fri</td><td>14</td><td>Sat</td><td>1</td></tr><tr><td>EP004941440430</td><td>120</td><td>20151113</td><td>230000</td><td>Music</td><td>Top 20 Country Countdown</td><td>2015-11-13T23:00:00Z</td><td>2015-11-14T01:00:00Z</td><td>13</td><td>Fri</td><td>14</td><td>Sat</td><td>1</td></tr><tr><td>EP005544725036</td><td>180</td><td>20151113</td><td>233000</td><td>Sports event,Golf</td><td>PGA Tour Golf</td><td>2015-11-13T23:30:00Z</td><td>2015-11-14T02:30:00Z</td><td>13</td><td>Fri</td><td>14</td><td>Sat</td><td>1</td></tr></tbody></table></div>"
      ]
     },
     "metadata": {
      "application/vnd.databricks.v1+output": {
       "addedWidgets": {},
       "aggData": [],
       "aggError": "",
       "aggOverflow": false,
       "aggSchema": [],
       "aggSeriesLimitReached": false,
       "aggType": "",
       "arguments": {},
       "columnCustomDisplayInfos": {},
       "data": [
        [
         "EP000365112742",
         90,
         "20151113",
         "233000",
         "Sports event,Volleyball",
         "High School Volleyball",
         "2015-11-13T23:30:00Z",
         "2015-11-14T01:00:00Z",
         "13",
         "Fri",
         "14",
         "Sat",
         1
        ],
        [
         "EP000369550133",
         31,
         "20151113",
         "233000",
         "Sitcom",
         "Martin",
         "2015-11-13T23:30:00Z",
         "2015-11-14T00:01:00Z",
         "13",
         "Fri",
         "14",
         "Sat",
         1
        ],
        [
         "EP002309632678",
         60,
         "20151113",
         "233000",
         "Reality,Law",
         "The People's Court",
         "2015-11-13T23:30:00Z",
         "2015-11-14T00:30:00Z",
         "13",
         "Fri",
         "14",
         "Sat",
         1
        ],
        [
         "EP004941440430",
         120,
         "20151113",
         "230000",
         "Music",
         "Top 20 Country Countdown",
         "2015-11-13T23:00:00Z",
         "2015-11-14T01:00:00Z",
         "13",
         "Fri",
         "14",
         "Sat",
         1
        ],
        [
         "EP005544725036",
         180,
         "20151113",
         "233000",
         "Sports event,Golf",
         "PGA Tour Golf",
         "2015-11-13T23:30:00Z",
         "2015-11-14T02:30:00Z",
         "13",
         "Fri",
         "14",
         "Sat",
         1
        ]
       ],
       "datasetInfos": [],
       "dbfsResultPath": null,
       "isJsonSchema": true,
       "metadata": {},
       "overflow": false,
       "plotOptions": {
        "customPlotOptions": {},
        "displayType": "table",
        "pivotAggregation": null,
        "pivotColumns": null,
        "xColumns": null,
        "yColumns": null
       },
       "removedWidgets": [],
       "schema": [
        {
         "metadata": "{}",
         "name": "prog_code",
         "type": "\"string\""
        },
        {
         "metadata": "{}",
         "name": "Duration",
         "type": "\"integer\""
        },
        {
         "metadata": "{}",
         "name": "air_date",
         "type": "\"string\""
        },
        {
         "metadata": "{}",
         "name": "air_time",
         "type": "\"string\""
        },
        {
         "metadata": "{}",
         "name": "genre",
         "type": "\"string\""
        },
        {
         "metadata": "{}",
         "name": "title",
         "type": "\"string\""
        },
        {
         "metadata": "{}",
         "name": "start_datetime",
         "type": "\"timestamp\""
        },
        {
         "metadata": "{}",
         "name": "end_datetime",
         "type": "\"timestamp\""
        },
        {
         "metadata": "{}",
         "name": "start_day",
         "type": "\"string\""
        },
        {
         "metadata": "{}",
         "name": "start_weekday",
         "type": "\"string\""
        },
        {
         "metadata": "{}",
         "name": "end_day",
         "type": "\"string\""
        },
        {
         "metadata": "{}",
         "name": "end_weekday",
         "type": "\"string\""
        },
        {
         "metadata": "{}",
         "name": "is_f13",
         "type": "\"integer\""
        }
       ],
       "type": "table"
      }
     },
     "output_type": "display_data"
    },
    {
     "output_type": "display_data",
     "data": {
      "text/html": [
       "<style scoped>\n",
       "  .table-result-container {\n",
       "    max-height: 300px;\n",
       "    overflow: auto;\n",
       "  }\n",
       "  table, th, td {\n",
       "    border: 1px solid black;\n",
       "    border-collapse: collapse;\n",
       "  }\n",
       "  th, td {\n",
       "    padding: 5px;\n",
       "  }\n",
       "  th {\n",
       "    text-align: left;\n",
       "  }\n",
       "</style><div class='table-result-container'><table class='table-result'><thead style='background-color: white'><tr><th>prog_code</th><th>Duration</th><th>air_date</th><th>air_time</th><th>genre</th><th>title</th><th>start_datetime</th><th>end_datetime</th><th>start_day</th><th>start_weekday</th><th>end_day</th><th>end_weekday</th><th>is_f13</th></tr></thead><tbody><tr><td>EP000000250035</td><td>60</td><td>20151219</td><td>050000</td><td>Crime drama</td><td>21 Jump Street</td><td>2015-12-19T05:00:00Z</td><td>2015-12-19T06:00:00Z</td><td>19</td><td>Sat</td><td>19</td><td>Sat</td><td>0</td></tr><tr><td>EP000000250035</td><td>60</td><td>20151219</td><td>110000</td><td>Crime drama</td><td>21 Jump Street</td><td>2015-12-19T11:00:00Z</td><td>2015-12-19T12:00:00Z</td><td>19</td><td>Sat</td><td>19</td><td>Sat</td><td>0</td></tr><tr><td>EP000000250063</td><td>60</td><td>20151219</td><td>180000</td><td>Crime drama</td><td>21 Jump Street</td><td>2015-12-19T18:00:00Z</td><td>2015-12-19T19:00:00Z</td><td>19</td><td>Sat</td><td>19</td><td>Sat</td><td>0</td></tr><tr><td>EP000000510007</td><td>30</td><td>20151219</td><td>100000</td><td>Sitcom</td><td>A Different World</td><td>2015-12-19T10:00:00Z</td><td>2015-12-19T10:30:00Z</td><td>19</td><td>Sat</td><td>19</td><td>Sat</td><td>0</td></tr><tr><td>EP000000510008</td><td>30</td><td>20151219</td><td>103000</td><td>Sitcom</td><td>A Different World</td><td>2015-12-19T10:30:00Z</td><td>2015-12-19T11:00:00Z</td><td>19</td><td>Sat</td><td>19</td><td>Sat</td><td>0</td></tr></tbody></table></div>"
      ]
     },
     "metadata": {
      "application/vnd.databricks.v1+output": {
       "addedWidgets": {},
       "aggData": [],
       "aggError": "",
       "aggOverflow": false,
       "aggSchema": [],
       "aggSeriesLimitReached": false,
       "aggType": "",
       "arguments": {},
       "columnCustomDisplayInfos": {},
       "data": [
        [
         "EP000000250035",
         60,
         "20151219",
         "050000",
         "Crime drama",
         "21 Jump Street",
         "2015-12-19T05:00:00Z",
         "2015-12-19T06:00:00Z",
         "19",
         "Sat",
         "19",
         "Sat",
         0
        ],
        [
         "EP000000250035",
         60,
         "20151219",
         "110000",
         "Crime drama",
         "21 Jump Street",
         "2015-12-19T11:00:00Z",
         "2015-12-19T12:00:00Z",
         "19",
         "Sat",
         "19",
         "Sat",
         0
        ],
        [
         "EP000000250063",
         60,
         "20151219",
         "180000",
         "Crime drama",
         "21 Jump Street",
         "2015-12-19T18:00:00Z",
         "2015-12-19T19:00:00Z",
         "19",
         "Sat",
         "19",
         "Sat",
         0
        ],
        [
         "EP000000510007",
         30,
         "20151219",
         "100000",
         "Sitcom",
         "A Different World",
         "2015-12-19T10:00:00Z",
         "2015-12-19T10:30:00Z",
         "19",
         "Sat",
         "19",
         "Sat",
         0
        ],
        [
         "EP000000510008",
         30,
         "20151219",
         "103000",
         "Sitcom",
         "A Different World",
         "2015-12-19T10:30:00Z",
         "2015-12-19T11:00:00Z",
         "19",
         "Sat",
         "19",
         "Sat",
         0
        ]
       ],
       "datasetInfos": [],
       "dbfsResultPath": null,
       "isJsonSchema": true,
       "metadata": {},
       "overflow": false,
       "plotOptions": {
        "customPlotOptions": {},
        "displayType": "table",
        "pivotAggregation": null,
        "pivotColumns": null,
        "xColumns": null,
        "yColumns": null
       },
       "removedWidgets": [],
       "schema": [
        {
         "metadata": "{}",
         "name": "prog_code",
         "type": "\"string\""
        },
        {
         "metadata": "{}",
         "name": "Duration",
         "type": "\"integer\""
        },
        {
         "metadata": "{}",
         "name": "air_date",
         "type": "\"string\""
        },
        {
         "metadata": "{}",
         "name": "air_time",
         "type": "\"string\""
        },
        {
         "metadata": "{}",
         "name": "genre",
         "type": "\"string\""
        },
        {
         "metadata": "{}",
         "name": "title",
         "type": "\"string\""
        },
        {
         "metadata": "{}",
         "name": "start_datetime",
         "type": "\"timestamp\""
        },
        {
         "metadata": "{}",
         "name": "end_datetime",
         "type": "\"timestamp\""
        },
        {
         "metadata": "{}",
         "name": "start_day",
         "type": "\"string\""
        },
        {
         "metadata": "{}",
         "name": "start_weekday",
         "type": "\"string\""
        },
        {
         "metadata": "{}",
         "name": "end_day",
         "type": "\"string\""
        },
        {
         "metadata": "{}",
         "name": "end_weekday",
         "type": "\"string\""
        },
        {
         "metadata": "{}",
         "name": "is_f13",
         "type": "\"integer\""
        }
       ],
       "type": "table"
      }
     },
     "output_type": "display_data"
    }
   ],
   "source": [
    "display(timestamp_clean_daily_prog_df.filter(col(\"is_f13\") == 1).limit(5))\n",
    "display(timestamp_clean_daily_prog_df.limit(5))"
   ]
  },
  {
   "cell_type": "markdown",
   "metadata": {
    "application/vnd.databricks.v1+cell": {
     "cellMetadata": {
      "byteLimit": 2048000,
      "rowLimit": 10000
     },
     "inputWidgets": {},
     "nuid": "33c60c30-46a7-419b-b087-6626c0bc0eaa",
     "showTitle": false,
     "tableResultSettingsMap": {},
     "title": ""
    }
   },
   "source": [
    "**Constructing count from conditions (1, 4, 6, 7) in clean_daily_prog_df**\n",
    "\n",
    "We define a column `cond_count_dailyprog` that accumulates the number of local suspicious conditions satisfied by each program. This is done efficiently in a single `withColumn` statement, without introducing intermediate flag columns.\n",
    "\n",
    "The conditions evaluated are:\n",
    "\n",
    "- Condition 1: The program's `Duration` exceeds the average duration of all programs (previously computed).\n",
    "- Condition 4: The program is flagged with `cond4_flag = 1` if it was aired on a Friday the 13th (computed earlier).\n",
    "- Condition 6: The `genre` field contains at least one **case-sensitive exact match** of the following terms:  \n",
    "  `['Collectibles', 'Art', 'Snowmobile', 'Public affairs', 'Animated', 'Music']`.  \n",
    "  This is evaluated using a regular expression with `\\b` to ensure full-word boundaries.\n",
    "- Condition 7: The `title` contains at least **two** of the following words:  \n",
    "  `['better', 'girls', 'the', 'call']`, matched **case-insensitively** and **as full words only**.\n",
    "\n",
    "Details on **Condition 7** implementation:\n",
    "- For each word, we use a regex expression like `rlike(\"(?i)\\bword\\b\")` to ensure:\n",
    "  - **(?i)**: case-insensitive matching\n",
    "  - **\\b**: word boundary to avoid partial matches (e.g. “calling” won't match “call”)\n",
    "- Each match returns a boolean, which we cast to `int` (`1` if matched, `0` otherwise).\n",
    "- The sum of these 4 booleans is compared to `2` or more to determine satisfaction of this condition.\n",
    "\n",
    "This logic ensures we precisely and compactly identify suspicious programs without polluting the dataframe with temporary columns.\n",
    "\n",
    "To better understand and validate the condition logic, we added three display() calls: one showing the top 5 rows with the highest cond_count_dailyprog, one showing 5 rows matching Condition 6 (malicious genres), and one showing 5 rows matching Condition 7 (titles with at least two malicious words).\n"
   ]
  },
  {
   "cell_type": "code",
   "execution_count": 0,
   "metadata": {
    "application/vnd.databricks.v1+cell": {
     "cellMetadata": {
      "byteLimit": 2048000,
      "rowLimit": 10000
     },
     "inputWidgets": {},
     "nuid": "0120d404-abd6-49ca-b63f-73c12b57a71f",
     "showTitle": false,
     "tableResultSettingsMap": {},
     "title": ""
    }
   },
   "outputs": [],
   "source": [
    "# Step 1: Compute average duration\n",
    "avg_duration = clean_daily_prog_df.filter(col(\"Duration\").isNotNull()) \\\n",
    "                                  .select(avg(\"Duration\").alias(\"avg_duration\")) \\\n",
    "                                  .first()[\"avg_duration\"]\n",
    "\n",
    "# Step 2: Define genre and title malicious sets\n",
    "malicious_genres = ['Collectibles', 'Art', 'Snowmobile', 'Public affairs', 'Animated', 'Music']\n",
    "malicious_words = ['better', 'girls', 'the', 'call']\n",
    "\n",
    "# Step 3: Create cond_count directly without intermediate condX_flag columns\n",
    "clean_daily_prog_df = clean_daily_prog_df.withColumn(\n",
    "    \"cond_count_dailyprog\",\n",
    "    # Condition 1: Duration > average\n",
    "    when(col(\"Duration\") > avg_duration, 1).otherwise(0)\n",
    "    +\n",
    "    # Condition 4: already in cond4_flag\n",
    "    when(col(\"cond4_flag\") == 1, 1).otherwise(0)\n",
    "    +\n",
    "    # Condition 6: Genre contains a malicious genre (case-sensitive)\n",
    "    when(\n",
    "    col(\"genre\").rlike(r\"\\bCollectibles\\b|\\bArt\\b|\\bSnowmobile\\b|\\bPublic affairs\\b|\\bAnimated\\b|\\bMusic\\b\"),\n",
    "    1\n",
    "    ).otherwise(0)\n",
    "    +\n",
    "    # Condition 7: title contains at least 2 malicious words (case insensitive)\n",
    "    when(\n",
    "        (\n",
    "            col(\"title\").rlike(r\"(?i)\\bbetter\\b\").cast(\"int\") +\n",
    "            col(\"title\").rlike(r\"(?i)\\bgirls\\b\").cast(\"int\") +\n",
    "            col(\"title\").rlike(r\"(?i)\\bthe\\b\").cast(\"int\") +\n",
    "            col(\"title\").rlike(r\"(?i)\\bcall\\b\").cast(\"int\")\n",
    "        ) >= 2,\n",
    "        1\n",
    "    ).otherwise(0)\n",
    ")"
   ]
  },
  {
   "cell_type": "code",
   "execution_count": 0,
   "metadata": {
    "application/vnd.databricks.v1+cell": {
     "cellMetadata": {
      "byteLimit": 2048000,
      "rowLimit": 10000
     },
     "inputWidgets": {},
     "nuid": "a262cceb-1bef-4533-9ac0-611cb4483084",
     "showTitle": false,
     "tableResultSettingsMap": {},
     "title": ""
    }
   },
   "outputs": [
    {
     "output_type": "stream",
     "name": "stdout",
     "output_type": "stream",
     "text": [
      "Average Duration: 60.425457161351375\n----------------------------------------- BEST COUND COUNT--------------------------------------------\n"
     ]
    },
    {
     "output_type": "display_data",
     "data": {
      "text/html": [
       "<style scoped>\n",
       "  .table-result-container {\n",
       "    max-height: 300px;\n",
       "    overflow: auto;\n",
       "  }\n",
       "  table, th, td {\n",
       "    border: 1px solid black;\n",
       "    border-collapse: collapse;\n",
       "  }\n",
       "  th, td {\n",
       "    padding: 5px;\n",
       "  }\n",
       "  th {\n",
       "    text-align: left;\n",
       "  }\n",
       "</style><div class='table-result-container'><table class='table-result'><thead style='background-color: white'><tr><th>prog_code</th><th>Duration</th><th>genre</th><th>title</th><th>cond4_flag</th><th>cond_count_dailyprog</th></tr></thead><tbody><tr><td>SH020449080000</td><td>360</td><td>Music</td><td>Today's Country: NASH</td><td>1</td><td>3</td></tr><tr><td>SH006615910000</td><td>120</td><td>Special,Music</td><td>Magic Moments: The Best of 50s Pop</td><td>1</td><td>3</td></tr><tr><td>SH006615910000</td><td>120</td><td>Special,Music</td><td>Magic Moments: The Best of 50s Pop</td><td>1</td><td>3</td></tr><tr><td>SH020449080000</td><td>180</td><td>Music</td><td>Today's Country: NASH</td><td>1</td><td>3</td></tr><tr><td>SH006615910000</td><td>120</td><td>Special,Music</td><td>Magic Moments: The Best of 50s Pop</td><td>1</td><td>3</td></tr></tbody></table></div>"
      ]
     },
     "metadata": {
      "application/vnd.databricks.v1+output": {
       "addedWidgets": {},
       "aggData": [],
       "aggError": "",
       "aggOverflow": false,
       "aggSchema": [],
       "aggSeriesLimitReached": false,
       "aggType": "",
       "arguments": {},
       "columnCustomDisplayInfos": {},
       "data": [
        [
         "SH020449080000",
         360,
         "Music",
         "Today's Country: NASH",
         1,
         3
        ],
        [
         "SH006615910000",
         120,
         "Special,Music",
         "Magic Moments: The Best of 50s Pop",
         1,
         3
        ],
        [
         "SH006615910000",
         120,
         "Special,Music",
         "Magic Moments: The Best of 50s Pop",
         1,
         3
        ],
        [
         "SH020449080000",
         180,
         "Music",
         "Today's Country: NASH",
         1,
         3
        ],
        [
         "SH006615910000",
         120,
         "Special,Music",
         "Magic Moments: The Best of 50s Pop",
         1,
         3
        ]
       ],
       "datasetInfos": [],
       "dbfsResultPath": null,
       "isJsonSchema": true,
       "metadata": {},
       "overflow": false,
       "plotOptions": {
        "customPlotOptions": {},
        "displayType": "table",
        "pivotAggregation": null,
        "pivotColumns": null,
        "xColumns": null,
        "yColumns": null
       },
       "removedWidgets": [],
       "schema": [
        {
         "metadata": "{}",
         "name": "prog_code",
         "type": "\"string\""
        },
        {
         "metadata": "{}",
         "name": "Duration",
         "type": "\"integer\""
        },
        {
         "metadata": "{}",
         "name": "genre",
         "type": "\"string\""
        },
        {
         "metadata": "{}",
         "name": "title",
         "type": "\"string\""
        },
        {
         "metadata": "{}",
         "name": "cond4_flag",
         "type": "\"integer\""
        },
        {
         "metadata": "{}",
         "name": "cond_count_dailyprog",
         "type": "\"integer\""
        }
       ],
       "type": "table"
      }
     },
     "output_type": "display_data"
    },
    {
     "output_type": "stream",
     "name": "stdout",
     "output_type": "stream",
     "text": [
      "----------------------------------------- COUND 6--------------------------------------------\n"
     ]
    },
    {
     "output_type": "display_data",
     "data": {
      "text/html": [
       "<style scoped>\n",
       "  .table-result-container {\n",
       "    max-height: 300px;\n",
       "    overflow: auto;\n",
       "  }\n",
       "  table, th, td {\n",
       "    border: 1px solid black;\n",
       "    border-collapse: collapse;\n",
       "  }\n",
       "  th, td {\n",
       "    padding: 5px;\n",
       "  }\n",
       "  th {\n",
       "    text-align: left;\n",
       "  }\n",
       "</style><div class='table-result-container'><table class='table-result'><thead style='background-color: white'><tr><th>prog_code</th><th>Duration</th><th>genre</th><th>title</th><th>cond4_flag</th><th>cond_count_dailyprog</th></tr></thead><tbody><tr><td>EP000005361169</td><td>30</td><td>How-to,Art</td><td>The Best of the Joy of Painting</td><td>0</td><td>1</td></tr><tr><td>EP002971100037</td><td>30</td><td>Sitcom,Animated</td><td>The PJs</td><td>0</td><td>1</td></tr><tr><td>EP002971100037</td><td>30</td><td>Sitcom,Animated</td><td>The PJs</td><td>0</td><td>1</td></tr><tr><td>EP008051970156</td><td>60</td><td>Music</td><td>Song of the Mountains</td><td>1</td><td>2</td></tr><tr><td>EP010604980340</td><td>30</td><td>Newsmagazine,Public affairs</td><td>Global 3000</td><td>0</td><td>1</td></tr></tbody></table></div>"
      ]
     },
     "metadata": {
      "application/vnd.databricks.v1+output": {
       "addedWidgets": {},
       "aggData": [],
       "aggError": "",
       "aggOverflow": false,
       "aggSchema": [],
       "aggSeriesLimitReached": false,
       "aggType": "",
       "arguments": {},
       "columnCustomDisplayInfos": {},
       "data": [
        [
         "EP000005361169",
         30,
         "How-to,Art",
         "The Best of the Joy of Painting",
         0,
         1
        ],
        [
         "EP002971100037",
         30,
         "Sitcom,Animated",
         "The PJs",
         0,
         1
        ],
        [
         "EP002971100037",
         30,
         "Sitcom,Animated",
         "The PJs",
         0,
         1
        ],
        [
         "EP008051970156",
         60,
         "Music",
         "Song of the Mountains",
         1,
         2
        ],
        [
         "EP010604980340",
         30,
         "Newsmagazine,Public affairs",
         "Global 3000",
         0,
         1
        ]
       ],
       "datasetInfos": [],
       "dbfsResultPath": null,
       "isJsonSchema": true,
       "metadata": {},
       "overflow": false,
       "plotOptions": {
        "customPlotOptions": {},
        "displayType": "table",
        "pivotAggregation": null,
        "pivotColumns": null,
        "xColumns": null,
        "yColumns": null
       },
       "removedWidgets": [],
       "schema": [
        {
         "metadata": "{}",
         "name": "prog_code",
         "type": "\"string\""
        },
        {
         "metadata": "{}",
         "name": "Duration",
         "type": "\"integer\""
        },
        {
         "metadata": "{}",
         "name": "genre",
         "type": "\"string\""
        },
        {
         "metadata": "{}",
         "name": "title",
         "type": "\"string\""
        },
        {
         "metadata": "{}",
         "name": "cond4_flag",
         "type": "\"integer\""
        },
        {
         "metadata": "{}",
         "name": "cond_count_dailyprog",
         "type": "\"integer\""
        }
       ],
       "type": "table"
      }
     },
     "output_type": "display_data"
    },
    {
     "output_type": "stream",
     "name": "stdout",
     "output_type": "stream",
     "text": [
      "----------------------------------------- COUND 7--------------------------------------------\n"
     ]
    },
    {
     "output_type": "display_data",
     "data": {
      "text/html": [
       "<style scoped>\n",
       "  .table-result-container {\n",
       "    max-height: 300px;\n",
       "    overflow: auto;\n",
       "  }\n",
       "  table, th, td {\n",
       "    border: 1px solid black;\n",
       "    border-collapse: collapse;\n",
       "  }\n",
       "  th, td {\n",
       "    padding: 5px;\n",
       "  }\n",
       "  th {\n",
       "    text-align: left;\n",
       "  }\n",
       "</style><div class='table-result-container'><table class='table-result'><thead style='background-color: white'><tr><th>prog_code</th><th>Duration</th><th>genre</th><th>title</th><th>cond4_flag</th><th>cond_count_dailyprog</th></tr></thead><tbody><tr><td>EP000174760142</td><td>30</td><td>Sitcom</td><td>The Golden Girls</td><td>0</td><td>1</td></tr><tr><td>EP000174760142</td><td>30</td><td>Sitcom</td><td>The Golden Girls</td><td>0</td><td>1</td></tr><tr><td>EP000174760142</td><td>30</td><td>Sitcom</td><td>The Golden Girls</td><td>0</td><td>1</td></tr><tr><td>EP000174760142</td><td>30</td><td>Sitcom</td><td>The Golden Girls</td><td>0</td><td>1</td></tr><tr><td>EP015685700002</td><td>60</td><td>Drama</td><td>Call the Midwife</td><td>0</td><td>1</td></tr></tbody></table></div>"
      ]
     },
     "metadata": {
      "application/vnd.databricks.v1+output": {
       "addedWidgets": {},
       "aggData": [],
       "aggError": "",
       "aggOverflow": false,
       "aggSchema": [],
       "aggSeriesLimitReached": false,
       "aggType": "",
       "arguments": {},
       "columnCustomDisplayInfos": {},
       "data": [
        [
         "EP000174760142",
         30,
         "Sitcom",
         "The Golden Girls",
         0,
         1
        ],
        [
         "EP000174760142",
         30,
         "Sitcom",
         "The Golden Girls",
         0,
         1
        ],
        [
         "EP000174760142",
         30,
         "Sitcom",
         "The Golden Girls",
         0,
         1
        ],
        [
         "EP000174760142",
         30,
         "Sitcom",
         "The Golden Girls",
         0,
         1
        ],
        [
         "EP015685700002",
         60,
         "Drama",
         "Call the Midwife",
         0,
         1
        ]
       ],
       "datasetInfos": [],
       "dbfsResultPath": null,
       "isJsonSchema": true,
       "metadata": {},
       "overflow": false,
       "plotOptions": {
        "customPlotOptions": {},
        "displayType": "table",
        "pivotAggregation": null,
        "pivotColumns": null,
        "xColumns": null,
        "yColumns": null
       },
       "removedWidgets": [],
       "schema": [
        {
         "metadata": "{}",
         "name": "prog_code",
         "type": "\"string\""
        },
        {
         "metadata": "{}",
         "name": "Duration",
         "type": "\"integer\""
        },
        {
         "metadata": "{}",
         "name": "genre",
         "type": "\"string\""
        },
        {
         "metadata": "{}",
         "name": "title",
         "type": "\"string\""
        },
        {
         "metadata": "{}",
         "name": "cond4_flag",
         "type": "\"integer\""
        },
        {
         "metadata": "{}",
         "name": "cond_count_dailyprog",
         "type": "\"integer\""
        }
       ],
       "type": "table"
      }
     },
     "output_type": "display_data"
    }
   ],
   "source": [
    "print(f\"Average Duration: {avg_duration}\")\n",
    "print(f\"----------------------------------------- BEST COUND COUNT--------------------------------------------\")\n",
    "display(clean_daily_prog_df.drop(\"air_date\", \"air_time\").orderBy(col(\"cond_count_dailyprog\").desc()).limit(5))\n",
    "print(f\"----------------------------------------- COUND 6--------------------------------------------\")\n",
    "display(\n",
    "    clean_daily_prog_df.drop(\"air_date\", \"air_time\").filter(\n",
    "        col(\"genre\").rlike(r\"\\bCollectibles\\b|\\bArt\\b|\\bSnowmobile\\b|\\bPublic affairs\\b|\\bAnimated\\b|\\bMusic\\b\")\n",
    "    ).limit(5)\n",
    ")\n",
    "print(f\"----------------------------------------- COUND 7--------------------------------------------\")\n",
    "display(\n",
    "    clean_daily_prog_df.drop(\"air_date\", \"air_time\").filter(\n",
    "        (\n",
    "            col(\"title\").rlike(r\"(?i)\\bbetter\\b\").cast(\"int\") +\n",
    "            col(\"title\").rlike(r\"(?i)\\bgirls\\b\").cast(\"int\") +\n",
    "            col(\"title\").rlike(r\"(?i)\\bthe\\b\").cast(\"int\") +\n",
    "            col(\"title\").rlike(r\"(?i)\\bcall\\b\").cast(\"int\")\n",
    "        ) >= 2\n",
    "    ).limit(5)\n",
    ")\n"
   ]
  },
  {
   "cell_type": "markdown",
   "metadata": {
    "application/vnd.databricks.v1+cell": {
     "cellMetadata": {
      "byteLimit": 2048000,
      "rowLimit": 10000
     },
     "inputWidgets": {},
     "nuid": "ef95df9e-1466-48d6-93cf-f39f37f5320e",
     "showTitle": false,
     "tableResultSettingsMap": {},
     "title": ""
    }
   },
   "source": [
    "**Combining Daily Program-Based and Demographic-Based Malicious Conditions**\n",
    "\n",
    "In this section, we determine how many of the demographic-related malicious conditions (specifically conditions 2, 3, and 5) are satisfied at least once for each program. The idea is not to count how many households satisfy a condition overall, but rather to evaluate for each program whether at least one household that viewed it satisfies each condition. This results in a per-program score indicating how many demographic risk signals are associated with it.\n",
    "\n",
    "To achieve this, we first join the program viewing data (`clean_viewing_df`) with the household mapping (`clean_reference_df`) to identify which household watched each program. We then join this result with the demographic dataset (`clean_demo_df`) to enrich the records with household information such as vehicle make, number of adults, age difference, income, and number of devices.\n",
    "\n",
    "The three conditions are represented by binary flags:\n",
    "- `cond2_flag`: household owns a Toyota (vehicle make code \"91\")\n",
    "- `cond3_flag`: household has exactly two adults with an age difference of 6 years or less\n",
    "- `cond5_flag`: household owns more than 3 devices and has income below the average\n",
    "\n",
    "These flags are aggregated per program using the max function to determine if each condition was satisfied at least once for each prog_code. This is appropriate because the flags are binary (0 or 1), so the max will be 1 if at least one household that watched the program met the condition — which is exactly the behavior we want. Alternatively, we could have used sum and checked whether the result is greater than 0. The sum of these three flags gives us a `cond_count_demo` column that counts how many of the three conditions were satisfied at least once by any household that viewed the program.\n",
    "\n",
    "This demographic-based count is then joined back with the program metadata (`clean_daily_prog_df`). Programs that were not matched with any viewer household receive a default value of 0 for the condition count. The final malicious score per airing, `cond_count_total`, is computed by summing the demographic-based `cond_count_demo` with the previously calculated content-based `cond_count_dailyprog`.\n",
    "\n",
    "Finally, we extract the columns of interest (`title` and `cond_count_total`) into a new DataFrame `count_df`, which will serve as the basis for malicious title detection in the next steps.\n",
    "\n",
    "We also added a display(progcode_cond_df) to visually verify that the condition aggregation per program (prog_code) behaves as expected and correctly captures the presence of each demographic flag."
   ]
  },
  {
   "cell_type": "code",
   "execution_count": 0,
   "metadata": {
    "application/vnd.databricks.v1+cell": {
     "cellMetadata": {
      "byteLimit": 2048000,
      "rowLimit": 10000
     },
     "inputWidgets": {},
     "nuid": "aa5a91f4-0d3f-4fe3-b13c-cfe37228c4b5",
     "showTitle": false,
     "tableResultSettingsMap": {},
     "title": ""
    }
   },
   "outputs": [],
   "source": [
    "# Step 1: Join reference_df with viewing_df on 'device_id'\n",
    "ref_view_df = clean_reference_df.join(\n",
    "    clean_viewing_df,\n",
    "    on=\"device_id\",\n",
    "    how=\"inner\"\n",
    ")\n",
    "\n",
    "# Step 2: Join the result with clean_demo_df on 'household_id'\n",
    "ref_view_demo_df = ref_view_df.join(\n",
    "    clean_demo_df,\n",
    "    on=\"household_id\",\n",
    "    how=\"inner\"\n",
    ")\n",
    "\n",
    "# Step 3: Group by prog_code and aggregate each condition with max \n",
    "# This checks if the condition happened at least once for the program\n",
    "progcode_cond_df = ref_view_demo_df.groupBy(\"prog_code\").agg(\n",
    "    max(\"cond2_flag\").alias(\"cond2_seen\"),\n",
    "    max(\"cond3_flag\").alias(\"cond3_seen\"),\n",
    "    max(\"cond5_flag\").alias(\"cond5_seen\")\n",
    ")\n",
    "\n",
    "# Step 4: Count how many of the conditions were met at least once per prog_code\n",
    "progcode_cond_df = progcode_cond_df.withColumn(\n",
    "    \"cond_count_demo\",\n",
    "    col(\"cond2_seen\") + col(\"cond3_seen\") + col(\"cond5_seen\")\n",
    ")\n",
    "progcode_cond_demo_df = progcode_cond_df.select(\"prog_code\", \"cond_count_demo\")\n",
    "\n",
    "# Step 5: Join this result with a copy of daily_program_data on 'prog_code'\n",
    "full_daily_prog_df = clean_daily_prog_df.join(\n",
    "    progcode_cond_demo_df,\n",
    "    on=\"prog_code\",\n",
    "    how=\"left\"\n",
    ")\n",
    "\n",
    "# Step 6: Replace null cond_count_demo with 0\n",
    "full_daily_prog_df = full_daily_prog_df.withColumn(\n",
    "    \"cond_count_demo\",\n",
    "    when(col(\"cond_count_demo\").isNull(), 0).otherwise(col(\"cond_count_demo\"))\n",
    ")\n",
    "\n",
    "# Step 7: Compute total condition count\n",
    "full_daily_prog_df = full_daily_prog_df.withColumn(\n",
    "    \"cond_count_total\",\n",
    "    col(\"cond_count_demo\") + col(\"cond_count_dailyprog\")\n",
    ")\n",
    "\n",
    "# Step 8: Keep only the final columns of interest\n",
    "count_df = full_daily_prog_df.select( \"title\", \"cond_count_total\")\n",
    "\n"
   ]
  },
  {
   "cell_type": "code",
   "execution_count": 0,
   "metadata": {
    "application/vnd.databricks.v1+cell": {
     "cellMetadata": {
      "byteLimit": 2048000,
      "rowLimit": 10000
     },
     "inputWidgets": {},
     "nuid": "135fcec6-a3a0-44e0-a497-5b8cc8b342ed",
     "showTitle": false,
     "tableResultSettingsMap": {},
     "title": ""
    }
   },
   "outputs": [
    {
     "output_type": "display_data",
     "data": {
      "text/html": [
       "<style scoped>\n",
       "  .table-result-container {\n",
       "    max-height: 300px;\n",
       "    overflow: auto;\n",
       "  }\n",
       "  table, th, td {\n",
       "    border: 1px solid black;\n",
       "    border-collapse: collapse;\n",
       "  }\n",
       "  th, td {\n",
       "    padding: 5px;\n",
       "  }\n",
       "  th {\n",
       "    text-align: left;\n",
       "  }\n",
       "</style><div class='table-result-container'><table class='table-result'><thead style='background-color: white'><tr><th>prog_code</th><th>cond2_seen</th><th>cond3_seen</th><th>cond5_seen</th><th>cond_count_demo</th></tr></thead><tbody><tr><td>EP006819110182</td><td>1</td><td>1</td><td>1</td><td>3</td></tr><tr><td>MV002754530000</td><td>1</td><td>1</td><td>1</td><td>3</td></tr><tr><td>EP020959710005</td><td>1</td><td>1</td><td>1</td><td>3</td></tr><tr><td>EP007263640277</td><td>1</td><td>1</td><td>0</td><td>2</td></tr><tr><td>SH021195330000</td><td>1</td><td>1</td><td>1</td><td>3</td></tr><tr><td>SP003098600000</td><td>1</td><td>1</td><td>1</td><td>3</td></tr><tr><td>SH015840390000</td><td>1</td><td>1</td><td>1</td><td>3</td></tr><tr><td>SH015815970000</td><td>1</td><td>1</td><td>1</td><td>3</td></tr><tr><td>EP006609610456</td><td>1</td><td>1</td><td>1</td><td>3</td></tr><tr><td>EP000191552705</td><td>1</td><td>1</td><td>1</td><td>3</td></tr><tr><td>SH018693830000</td><td>1</td><td>1</td><td>1</td><td>3</td></tr><tr><td>EP010083110175</td><td>1</td><td>1</td><td>1</td><td>3</td></tr><tr><td>EP003077660019</td><td>1</td><td>1</td><td>1</td><td>3</td></tr><tr><td>EP000168272177</td><td>1</td><td>1</td><td>1</td><td>3</td></tr><tr><td>EP009248440021</td><td>1</td><td>1</td><td>1</td><td>3</td></tr><tr><td>EP005455792338</td><td>1</td><td>1</td><td>1</td><td>3</td></tr><tr><td>EP000169160080</td><td>1</td><td>1</td><td>1</td><td>3</td></tr><tr><td>EP012049480059</td><td>1</td><td>1</td><td>1</td><td>3</td></tr><tr><td>MV000190940000</td><td>1</td><td>1</td><td>1</td><td>3</td></tr><tr><td>EP017518750128</td><td>1</td><td>1</td><td>1</td><td>3</td></tr></tbody></table></div>"
      ]
     },
     "metadata": {
      "application/vnd.databricks.v1+output": {
       "addedWidgets": {},
       "aggData": [],
       "aggError": "",
       "aggOverflow": false,
       "aggSchema": [],
       "aggSeriesLimitReached": false,
       "aggType": "",
       "arguments": {},
       "columnCustomDisplayInfos": {},
       "data": [
        [
         "EP006819110182",
         1,
         1,
         1,
         3
        ],
        [
         "MV002754530000",
         1,
         1,
         1,
         3
        ],
        [
         "EP020959710005",
         1,
         1,
         1,
         3
        ],
        [
         "EP007263640277",
         1,
         1,
         0,
         2
        ],
        [
         "SH021195330000",
         1,
         1,
         1,
         3
        ],
        [
         "SP003098600000",
         1,
         1,
         1,
         3
        ],
        [
         "SH015840390000",
         1,
         1,
         1,
         3
        ],
        [
         "SH015815970000",
         1,
         1,
         1,
         3
        ],
        [
         "EP006609610456",
         1,
         1,
         1,
         3
        ],
        [
         "EP000191552705",
         1,
         1,
         1,
         3
        ],
        [
         "SH018693830000",
         1,
         1,
         1,
         3
        ],
        [
         "EP010083110175",
         1,
         1,
         1,
         3
        ],
        [
         "EP003077660019",
         1,
         1,
         1,
         3
        ],
        [
         "EP000168272177",
         1,
         1,
         1,
         3
        ],
        [
         "EP009248440021",
         1,
         1,
         1,
         3
        ],
        [
         "EP005455792338",
         1,
         1,
         1,
         3
        ],
        [
         "EP000169160080",
         1,
         1,
         1,
         3
        ],
        [
         "EP012049480059",
         1,
         1,
         1,
         3
        ],
        [
         "MV000190940000",
         1,
         1,
         1,
         3
        ],
        [
         "EP017518750128",
         1,
         1,
         1,
         3
        ]
       ],
       "datasetInfos": [],
       "dbfsResultPath": null,
       "isJsonSchema": true,
       "metadata": {},
       "overflow": false,
       "plotOptions": {
        "customPlotOptions": {},
        "displayType": "table",
        "pivotAggregation": null,
        "pivotColumns": null,
        "xColumns": null,
        "yColumns": null
       },
       "removedWidgets": [],
       "schema": [
        {
         "metadata": "{}",
         "name": "prog_code",
         "type": "\"string\""
        },
        {
         "metadata": "{}",
         "name": "cond2_seen",
         "type": "\"integer\""
        },
        {
         "metadata": "{}",
         "name": "cond3_seen",
         "type": "\"integer\""
        },
        {
         "metadata": "{}",
         "name": "cond5_seen",
         "type": "\"integer\""
        },
        {
         "metadata": "{}",
         "name": "cond_count_demo",
         "type": "\"integer\""
        }
       ],
       "type": "table"
      }
     },
     "output_type": "display_data"
    }
   ],
   "source": [
    "display(progcode_cond_df.limit(20))"
   ]
  },
  {
   "cell_type": "markdown",
   "metadata": {
    "application/vnd.databricks.v1+cell": {
     "cellMetadata": {
      "byteLimit": 2048000,
      "rowLimit": 10000
     },
     "inputWidgets": {},
     "nuid": "fd47b9dc-0b84-4093-a325-491158c66b09",
     "showTitle": false,
     "tableResultSettingsMap": {},
     "title": ""
    }
   },
   "source": [
    "# Final Step: Identify and Display Malicious Titles\n",
    "\n"
   ]
  },
  {
   "cell_type": "markdown",
   "metadata": {
    "application/vnd.databricks.v1+cell": {
     "cellMetadata": {
      "byteLimit": 2048000,
      "rowLimit": 10000
     },
     "inputWidgets": {},
     "nuid": "bcaec1b4-87bc-4620-8b5e-69ff1c544515",
     "showTitle": false,
     "tableResultSettingsMap": {},
     "title": ""
    }
   },
   "source": [
    "In this final step, we identify \"malicious\" program titles based on the total number of malicious records associated with each title.\n",
    "\n",
    "- We first added a new boolean column `is_malicious` to the `daily_prog_df`, where a program is considered malicious if it satisfies at least 4 out of the 7 predefined conditions.\n",
    "- We then grouped the data by `title` to calculate both the total number of records and the number of malicious records per title.\n",
    "- From this, we computed the `malicious_ratio` for each title, representing the proportion of its records labeled as malicious.\n",
    "- We filtered the titles to keep only those for which **more than 40% of the records** are malicious (`malicious_ratio > 0.4`).\n",
    "- Finally, we selected and displayed the **top 20 titles** with the highest malicious ratios, ordered in descending order as required ."
   ]
  },
  {
   "cell_type": "code",
   "execution_count": 0,
   "metadata": {
    "application/vnd.databricks.v1+cell": {
     "cellMetadata": {
      "byteLimit": 2048000,
      "rowLimit": 10000
     },
     "inputWidgets": {},
     "nuid": "03946b82-a80b-426d-b395-7891ad5ae04a",
     "showTitle": false,
     "tableResultSettingsMap": {},
     "title": ""
    }
   },
   "outputs": [
    {
     "output_type": "display_data",
     "data": {
      "text/html": [
       "<style scoped>\n",
       "  .table-result-container {\n",
       "    max-height: 300px;\n",
       "    overflow: auto;\n",
       "  }\n",
       "  table, th, td {\n",
       "    border: 1px solid black;\n",
       "    border-collapse: collapse;\n",
       "  }\n",
       "  th, td {\n",
       "    padding: 5px;\n",
       "  }\n",
       "  th {\n",
       "    text-align: left;\n",
       "  }\n",
       "</style><div class='table-result-container'><table class='table-result'><thead style='background-color: white'><tr><th>title</th><th>malicious_ratio</th></tr></thead><tbody><tr><td>Noticiero Telemundo KTMO</td><td>1.0</td></tr><tr><td>KING 5 News at 9</td><td>1.0</td></tr><tr><td>Battle of the Year</td><td>1.0</td></tr><tr><td>TV Star Confesses to Helping</td><td>1.0</td></tr><tr><td>She Hate Me</td><td>1.0</td></tr><tr><td>KSPR News at 11</td><td>1.0</td></tr><tr><td>Documentary</td><td>1.0</td></tr><tr><td>Arkansas Alive</td><td>1.0</td></tr><tr><td>WWE Raw En Español</td><td>1.0</td></tr><tr><td>(A)Sexual</td><td>1.0</td></tr><tr><td>KING 5 Morning News on KONG</td><td>1.0</td></tr><tr><td>Wild at Heart</td><td>1.0</td></tr><tr><td>Hola País</td><td>1.0</td></tr><tr><td>Prince Valiant</td><td>1.0</td></tr><tr><td>Way Too Early</td><td>1.0</td></tr><tr><td>A Lot Like Love</td><td>1.0</td></tr><tr><td>MC Alternative</td><td>1.0</td></tr><tr><td>Lost Christmas</td><td>1.0</td></tr><tr><td>Habla Women</td><td>1.0</td></tr><tr><td>Newswatch 16 at 4:30am</td><td>1.0</td></tr></tbody></table></div>"
      ]
     },
     "metadata": {
      "application/vnd.databricks.v1+output": {
       "addedWidgets": {},
       "aggData": [],
       "aggError": "",
       "aggOverflow": false,
       "aggSchema": [],
       "aggSeriesLimitReached": false,
       "aggType": "",
       "arguments": {},
       "columnCustomDisplayInfos": {},
       "data": [
        [
         "Noticiero Telemundo KTMO",
         1.0
        ],
        [
         "KING 5 News at 9",
         1.0
        ],
        [
         "Battle of the Year",
         1.0
        ],
        [
         "TV Star Confesses to Helping",
         1.0
        ],
        [
         "She Hate Me",
         1.0
        ],
        [
         "KSPR News at 11",
         1.0
        ],
        [
         "Documentary",
         1.0
        ],
        [
         "Arkansas Alive",
         1.0
        ],
        [
         "WWE Raw En Español",
         1.0
        ],
        [
         "(A)Sexual",
         1.0
        ],
        [
         "KING 5 Morning News on KONG",
         1.0
        ],
        [
         "Wild at Heart",
         1.0
        ],
        [
         "Hola País",
         1.0
        ],
        [
         "Prince Valiant",
         1.0
        ],
        [
         "Way Too Early",
         1.0
        ],
        [
         "A Lot Like Love",
         1.0
        ],
        [
         "MC Alternative",
         1.0
        ],
        [
         "Lost Christmas",
         1.0
        ],
        [
         "Habla Women",
         1.0
        ],
        [
         "Newswatch 16 at 4:30am",
         1.0
        ]
       ],
       "datasetInfos": [],
       "dbfsResultPath": null,
       "isJsonSchema": true,
       "metadata": {},
       "overflow": false,
       "plotOptions": {
        "customPlotOptions": {},
        "displayType": "table",
        "pivotAggregation": null,
        "pivotColumns": null,
        "xColumns": null,
        "yColumns": null
       },
       "removedWidgets": [],
       "schema": [
        {
         "metadata": "{}",
         "name": "title",
         "type": "\"string\""
        },
        {
         "metadata": "{}",
         "name": "malicious_ratio",
         "type": "\"double\""
        }
       ],
       "type": "table"
      }
     },
     "output_type": "display_data"
    }
   ],
   "source": [
    "# Step 1: Add boolean column to mark if record is malicious (cond_count_total >= 4)\n",
    "malicious_df = count_df.withColumn(\n",
    "    \"is_malicious\",\n",
    "    when(col(\"cond_count_total\") >= 4, 1).otherwise(0)\n",
    ")\n",
    "\n",
    "# Step 2: Group by title to get total records and malicious records\n",
    "title_stats_df = malicious_df.groupBy(\"title\").agg(\n",
    "    count(\"*\").alias(\"total_count\"),\n",
    "    sum(\"is_malicious\").alias(\"malicious_count\")\n",
    ")\n",
    "\n",
    "# Step 3: Compute ratio of malicious records\n",
    "title_stats_df = title_stats_df.withColumn(\n",
    "    \"malicious_ratio\",\n",
    "    (col(\"malicious_count\") / col(\"total_count\"))\n",
    ")\n",
    "\n",
    "# Step 4: Filter titles where more than 40% of records are malicious\n",
    "malicious_titles_df = title_stats_df.filter(\n",
    "    col(\"malicious_ratio\") > 0.4\n",
    ")\n",
    "\n",
    "# Final result: titles and their malicious percentage (top 20 by ratio)\n",
    "malicious_titles_df = malicious_titles_df.select(\"title\", \"malicious_ratio\") \\\n",
    "                                         .orderBy(col(\"malicious_ratio\").desc())\n",
    "\n",
    "display(malicious_titles_df.limit(20))"
   ]
  },
  {
   "cell_type": "markdown",
   "metadata": {
    "application/vnd.databricks.v1+cell": {
     "cellMetadata": {
      "byteLimit": 2048000,
      "rowLimit": 10000
     },
     "inputWidgets": {},
     "nuid": "6ba74cd0-23ed-4252-9389-26121b759df0",
     "showTitle": false,
     "tableResultSettingsMap": {},
     "title": ""
    }
   },
   "source": []
  }
 ],
 "metadata": {
  "application/vnd.databricks.v1+notebook": {
   "computePreferences": null,
   "dashboards": [],
   "environmentMetadata": null,
   "inputWidgetPreferences": null,
   "language": "python",
   "notebookMetadata": {
    "pythonIndentUnit": 4
   },
   "notebookName": "project1_part1_340868488_315435214",
   "widgets": {}
  },
  "language_info": {
   "name": "python"
  }
 },
 "nbformat": 4,
 "nbformat_minor": 0
}