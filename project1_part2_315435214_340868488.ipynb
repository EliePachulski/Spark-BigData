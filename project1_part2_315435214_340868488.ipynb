{
 "cells": [
  {
   "cell_type": "markdown",
   "metadata": {
    "application/vnd.databricks.v1+cell": {
     "cellMetadata": {
      "byteLimit": 2048000,
      "rowLimit": 10000
     },
     "inputWidgets": {},
     "nuid": "9bf6f18a-5511-453d-a283-4e3de2276f24",
     "showTitle": false,
     "tableResultSettingsMap": {},
     "title": ""
    }
   },
   "source": [
    "# Project 1 part 2\n"
   ]
  },
  {
   "cell_type": "code",
   "execution_count": 0,
   "metadata": {
    "application/vnd.databricks.v1+cell": {
     "cellMetadata": {
      "byteLimit": 2048000,
      "rowLimit": 10000
     },
     "inputWidgets": {},
     "nuid": "d4dffdc6-9b10-4156-84e3-2aa633287766",
     "showTitle": false,
     "tableResultSettingsMap": {},
     "title": ""
    }
   },
   "outputs": [],
   "source": [
    "from pyspark import SparkContext\n",
    "from pyspark.sql import SparkSession\n",
    " \n",
    "spark = SparkSession.builder.appName(\"project_1_part_2\").getOrCreate()\n"
   ]
  },
  {
   "cell_type": "markdown",
   "metadata": {
    "application/vnd.databricks.v1+cell": {
     "cellMetadata": {
      "byteLimit": 2048000,
      "rowLimit": 10000
     },
     "inputWidgets": {},
     "nuid": "579829f5-7738-4fb9-99e4-972192e1def9",
     "showTitle": false,
     "tableResultSettingsMap": {},
     "title": ""
    }
   },
   "source": [
    "Importing all spark data types and spark functions for your convenience."
   ]
  },
  {
   "cell_type": "code",
   "execution_count": 0,
   "metadata": {
    "application/vnd.databricks.v1+cell": {
     "cellMetadata": {
      "byteLimit": 2048000,
      "rowLimit": 10000
     },
     "inputWidgets": {},
     "nuid": "d6e4411a-9b08-48bb-a30a-b4ba7f591532",
     "showTitle": false,
     "tableResultSettingsMap": {},
     "title": ""
    }
   },
   "outputs": [],
   "source": [
    "from pyspark.sql.types import *\n",
    "from pyspark.sql.functions import *"
   ]
  },
  {
   "cell_type": "code",
   "execution_count": 0,
   "metadata": {
    "application/vnd.databricks.v1+cell": {
     "cellMetadata": {
      "byteLimit": 2048000,
      "rowLimit": 10000
     },
     "inputWidgets": {},
     "nuid": "b349e896-490f-4440-94cd-40a65cc635f1",
     "showTitle": false,
     "tableResultSettingsMap": {},
     "title": ""
    }
   },
   "outputs": [],
   "source": [
    "# Read a CSV into a dataframe\n",
    "# There is a smarter version, that will first check if there is a Parquet file and use it\n",
    "def load_csv_file(filename, schema):\n",
    "  # Reads the relevant file from distributed file system using the given schema\n",
    "\n",
    "  allowed_files = {'Daily program data': ('Daily program data', \"|\"),\n",
    "                   'demographic': ('demographic', \"|\")}\n",
    "\n",
    "  if filename not in allowed_files.keys():\n",
    "    print(f'You were trying to access unknown file \\\"{filename}\\\". Only valid options are {allowed_files.keys()}')\n",
    "    return None\n",
    "\n",
    "  filepath = allowed_files[filename][0]\n",
    "  dataPath = f\"dbfs:/mnt/coursedata2024/fwm-stb-data/{filepath}\"\n",
    "  delimiter = allowed_files[filename][1]\n",
    "\n",
    "  df = spark.read.format(\"csv\")\\\n",
    "    .option(\"header\",\"false\")\\\n",
    "    .option(\"delimiter\",delimiter)\\\n",
    "    .schema(schema)\\\n",
    "    .load(dataPath)\n",
    "  return df\n",
    "\n",
    "# This dict holds the correct schemata for easily loading the CSVs\n",
    "schemas_dict = {'Daily program data':\n",
    "                  StructType([\n",
    "                    StructField('prog_code', StringType()),\n",
    "                    StructField('title', StringType()),\n",
    "                    StructField('genre', StringType()),\n",
    "                    StructField('air_date', StringType()),\n",
    "                    StructField('air_time', StringType()),\n",
    "                    StructField('Duration', FloatType())\n",
    "                  ]),\n",
    "                'viewing':\n",
    "                  StructType([\n",
    "                    StructField('device_id', StringType()),\n",
    "                    StructField('event_date', StringType()),\n",
    "                    StructField('event_time', IntegerType()),\n",
    "                    StructField('mso_code', StringType()),\n",
    "                    StructField('prog_code', StringType()),\n",
    "                    StructField('station_num', StringType())\n",
    "                  ]),\n",
    "                'viewing_full':\n",
    "                  StructType([\n",
    "                    StructField('mso_code', StringType()),\n",
    "                    StructField('device_id', StringType()),\n",
    "                    StructField('event_date', IntegerType()),\n",
    "                    StructField('event_time', IntegerType()),\n",
    "                    StructField('station_num', StringType()),\n",
    "                    StructField('prog_code', StringType())\n",
    "                  ]),\n",
    "                'demographic':\n",
    "                  StructType([StructField('household_id', IntegerType()),\n",
    "                              #changed to match the type in ref_data for comparission purpose\n",
    "                    StructField('household_size',IntegerType()),\n",
    "                    StructField('num_adults',IntegerType()),\n",
    "                    StructField('num_generations',IntegerType()),\n",
    "                    StructField('adult_range',StringType()),\n",
    "                    StructField('marital_status',StringType()),\n",
    "                    StructField('race_code',StringType()),\n",
    "                    StructField('presence_children',StringType()),\n",
    "                    StructField('num_children',IntegerType()),\n",
    "                    StructField('age_children',StringType()), #format like range - 'bitwise'\n",
    "                    StructField('age_range_children',StringType()),\n",
    "                    StructField('dwelling_type',StringType()),\n",
    "                    StructField('home_owner_status',StringType()),\n",
    "                    StructField('length_residence',IntegerType()),\n",
    "                    StructField('home_market_value',StringType()),\n",
    "                    StructField('num_vehicles',IntegerType()),\n",
    "                    StructField('vehicle_make',StringType()),\n",
    "                    StructField('vehicle_model',StringType()),\n",
    "                    StructField('vehicle_year',IntegerType()),\n",
    "                    StructField('net_worth',IntegerType()),\n",
    "                    StructField('income',StringType()),\n",
    "                    StructField('gender_individual',StringType()),\n",
    "                    StructField('age_individual',IntegerType()),\n",
    "                    StructField('education_highest',StringType()),\n",
    "                    StructField('occupation_highest',StringType()),\n",
    "                    StructField('education_1',StringType()),\n",
    "                    StructField('occupation_1',StringType()),\n",
    "                    StructField('age_2',IntegerType()),\n",
    "                    StructField('education_2',StringType()),\n",
    "                    StructField('occupation_2',StringType()),\n",
    "                    StructField('age_3',IntegerType()),\n",
    "                    StructField('education_3',StringType()),\n",
    "                    StructField('occupation_3',StringType()),\n",
    "                    StructField('age_4',IntegerType()),\n",
    "                    StructField('education_4',StringType()),\n",
    "                    StructField('occupation_4',StringType()),\n",
    "                    StructField('age_5',IntegerType()),\n",
    "                    StructField('education_5',StringType()),\n",
    "                    StructField('occupation_5',StringType()),\n",
    "                    StructField('polit_party_regist',StringType()),\n",
    "                    StructField('polit_party_input',StringType()),\n",
    "                    StructField('household_clusters',StringType()),\n",
    "                    StructField('insurance_groups',StringType()),\n",
    "                    StructField('financial_groups',StringType()),\n",
    "                    StructField('green_living',StringType())\n",
    "                  ])\n",
    "}"
   ]
  },
  {
   "cell_type": "markdown",
   "metadata": {
    "application/vnd.databricks.v1+cell": {
     "cellMetadata": {
      "byteLimit": 2048000,
      "rowLimit": 10000
     },
     "inputWidgets": {},
     "nuid": "d75618ed-374f-42cd-8a52-7502b98a0b23",
     "showTitle": false,
     "tableResultSettingsMap": {},
     "title": ""
    }
   },
   "source": [
    "# Read demogrphic data\n"
   ]
  },
  {
   "cell_type": "code",
   "execution_count": 0,
   "metadata": {
    "application/vnd.databricks.v1+cell": {
     "cellMetadata": {
      "byteLimit": 2048000,
      "rowLimit": 10000
     },
     "inputWidgets": {},
     "nuid": "4be54f16-04af-4c90-81c9-42a0abfd3156",
     "showTitle": false,
     "tableResultSettingsMap": {},
     "title": ""
    }
   },
   "outputs": [
    {
     "output_type": "stream",
     "name": "stdout",
     "output_type": "stream",
     "text": [
      "root\n |-- household_id: integer (nullable = true)\n |-- household_size: integer (nullable = true)\n |-- num_adults: integer (nullable = true)\n |-- num_generations: integer (nullable = true)\n |-- adult_range: string (nullable = true)\n |-- marital_status: string (nullable = true)\n |-- race_code: string (nullable = true)\n |-- presence_children: string (nullable = true)\n |-- num_children: integer (nullable = true)\n |-- age_children: string (nullable = true)\n |-- age_range_children: string (nullable = true)\n |-- dwelling_type: string (nullable = true)\n |-- home_owner_status: string (nullable = true)\n |-- length_residence: integer (nullable = true)\n |-- home_market_value: string (nullable = true)\n |-- num_vehicles: integer (nullable = true)\n |-- vehicle_make: string (nullable = true)\n |-- vehicle_model: string (nullable = true)\n |-- vehicle_year: integer (nullable = true)\n |-- net_worth: integer (nullable = true)\n |-- income: string (nullable = true)\n |-- gender_individual: string (nullable = true)\n |-- age_individual: integer (nullable = true)\n |-- education_highest: string (nullable = true)\n |-- occupation_highest: string (nullable = true)\n |-- education_1: string (nullable = true)\n |-- occupation_1: string (nullable = true)\n |-- age_2: integer (nullable = true)\n |-- education_2: string (nullable = true)\n |-- occupation_2: string (nullable = true)\n |-- age_3: integer (nullable = true)\n |-- education_3: string (nullable = true)\n |-- occupation_3: string (nullable = true)\n |-- age_4: integer (nullable = true)\n |-- education_4: string (nullable = true)\n |-- occupation_4: string (nullable = true)\n |-- age_5: integer (nullable = true)\n |-- education_5: string (nullable = true)\n |-- occupation_5: string (nullable = true)\n |-- polit_party_regist: string (nullable = true)\n |-- polit_party_input: string (nullable = true)\n |-- household_clusters: string (nullable = true)\n |-- insurance_groups: string (nullable = true)\n |-- financial_groups: string (nullable = true)\n |-- green_living: string (nullable = true)\n\ndemo_df contains 357721 records!\n"
     ]
    },
    {
     "output_type": "display_data",
     "data": {
      "text/html": [
       "<style scoped>\n",
       "  .table-result-container {\n",
       "    max-height: 300px;\n",
       "    overflow: auto;\n",
       "  }\n",
       "  table, th, td {\n",
       "    border: 1px solid black;\n",
       "    border-collapse: collapse;\n",
       "  }\n",
       "  th, td {\n",
       "    padding: 5px;\n",
       "  }\n",
       "  th {\n",
       "    text-align: left;\n",
       "  }\n",
       "</style><div class='table-result-container'><table class='table-result'><thead style='background-color: white'><tr><th>household_id</th><th>household_size</th><th>num_adults</th><th>num_generations</th><th>adult_range</th><th>marital_status</th><th>race_code</th><th>presence_children</th><th>num_children</th><th>age_children</th><th>age_range_children</th><th>dwelling_type</th><th>home_owner_status</th><th>length_residence</th><th>home_market_value</th><th>num_vehicles</th><th>vehicle_make</th><th>vehicle_model</th><th>vehicle_year</th><th>net_worth</th><th>income</th><th>gender_individual</th><th>age_individual</th><th>education_highest</th><th>occupation_highest</th><th>education_1</th><th>occupation_1</th><th>age_2</th><th>education_2</th><th>occupation_2</th><th>age_3</th><th>education_3</th><th>occupation_3</th><th>age_4</th><th>education_4</th><th>occupation_4</th><th>age_5</th><th>education_5</th><th>occupation_5</th><th>polit_party_regist</th><th>polit_party_input</th><th>household_clusters</th><th>insurance_groups</th><th>financial_groups</th><th>green_living</th></tr></thead><tbody><tr><td>15</td><td>2</td><td>2</td><td>1</td><td>000000000000100000000</td><td>S</td><td>B</td><td>null</td><td>null</td><td>0000000000000000000</td><td>000000000000000</td><td>S</td><td>O</td><td>5</td><td>E</td><td>null</td><td>null</td><td>null</td><td>null</td><td>6</td><td>4</td><td>M</td><td>60</td><td>4</td><td>null</td><td>null</td><td>null</td><td>null</td><td>null</td><td>null</td><td>null</td><td>null</td><td>null</td><td>null</td><td>null</td><td>null</td><td>null</td><td>null</td><td>null</td><td>null</td><td>D</td><td>443</td><td>02C3</td><td>08C3</td><td>null</td></tr><tr><td>24</td><td>2</td><td>2</td><td>1</td><td>000000000100000000000</td><td>null</td><td>W</td><td>null</td><td>null</td><td>0000000000000000000</td><td>000000000000000</td><td>M</td><td>O</td><td>null</td><td>F</td><td>null</td><td>null</td><td>null</td><td>null</td><td>7</td><td>7</td><td>F</td><td>46</td><td>3</td><td>Z</td><td>null</td><td>null</td><td>null</td><td>null</td><td>null</td><td>null</td><td>null</td><td>null</td><td>null</td><td>null</td><td>null</td><td>null</td><td>null</td><td>null</td><td>null</td><td>R</td><td>223</td><td>09O3</td><td>03O3</td><td>null</td></tr><tr><td>26</td><td>null</td><td>null</td><td>null</td><td>000000000000000000000</td><td>null</td><td>null</td><td>null</td><td>null</td><td>0000000000000000000</td><td>000000000000000</td><td>S</td><td>null</td><td>null</td><td>F</td><td>null</td><td>null</td><td>null</td><td>null</td><td>null</td><td>null</td><td>null</td><td>null</td><td>null</td><td>null</td><td>null</td><td>null</td><td>null</td><td>null</td><td>null</td><td>null</td><td>null</td><td>null</td><td>null</td><td>null</td><td>null</td><td>null</td><td>null</td><td>null</td><td>null</td><td>null</td><td>46G</td><td>04CG</td><td>08CG</td><td>null</td></tr><tr><td>28</td><td>3</td><td>2</td><td>2</td><td>000000110000000000000</td><td>S</td><td>W</td><td>Y</td><td>1</td><td>0000010000000000000</td><td>000001000000000</td><td>S</td><td>O</td><td>3</td><td>H</td><td>null</td><td>null</td><td>null</td><td>null</td><td>5</td><td>7</td><td>M</td><td>38</td><td>2</td><td>4</td><td>null</td><td>null</td><td>34</td><td>1</td><td>7</td><td>null</td><td>null</td><td>null</td><td>null</td><td>null</td><td>null</td><td>null</td><td>null</td><td>null</td><td>null</td><td>V</td><td>473</td><td>11R3</td><td>09C3</td><td>1</td></tr><tr><td>35</td><td>1</td><td>1</td><td>1</td><td>000000000100000000000</td><td>null</td><td>W</td><td>null</td><td>null</td><td>0000000000000000000</td><td>000000000000000</td><td>null</td><td>null</td><td>null</td><td>G</td><td>null</td><td>null</td><td>null</td><td>null</td><td>4</td><td>null</td><td>M</td><td>50</td><td>2</td><td>1</td><td>null</td><td>null</td><td>null</td><td>null</td><td>null</td><td>null</td><td>null</td><td>null</td><td>null</td><td>null</td><td>null</td><td>null</td><td>null</td><td>null</td><td>null</td><td>D</td><td>523</td><td>13C3</td><td>08C3</td><td>null</td></tr><tr><td>36</td><td>null</td><td>null</td><td>null</td><td>000000000000000000000</td><td>null</td><td>null</td><td>null</td><td>null</td><td>0000000000000000000</td><td>000000000000000</td><td>null</td><td>null</td><td>null</td><td>G</td><td>null</td><td>null</td><td>null</td><td>null</td><td>null</td><td>null</td><td>null</td><td>null</td><td>null</td><td>null</td><td>null</td><td>null</td><td>null</td><td>null</td><td>null</td><td>null</td><td>null</td><td>null</td><td>null</td><td>null</td><td>null</td><td>null</td><td>null</td><td>null</td><td>null</td><td>null</td><td>51G</td><td>10RG</td><td>10RG</td><td>null</td></tr></tbody></table></div>"
      ]
     },
     "metadata": {
      "application/vnd.databricks.v1+output": {
       "addedWidgets": {},
       "aggData": [],
       "aggError": "",
       "aggOverflow": false,
       "aggSchema": [],
       "aggSeriesLimitReached": false,
       "aggType": "",
       "arguments": {},
       "columnCustomDisplayInfos": {},
       "data": [
        [
         15,
         2,
         2,
         1,
         "000000000000100000000",
         "S",
         "B",
         null,
         null,
         "0000000000000000000",
         "000000000000000",
         "S",
         "O",
         5,
         "E",
         null,
         null,
         null,
         null,
         6,
         "4",
         "M",
         60,
         "4",
         null,
         null,
         null,
         null,
         null,
         null,
         null,
         null,
         null,
         null,
         null,
         null,
         null,
         null,
         null,
         null,
         "D",
         "443",
         "02C3",
         "08C3",
         null
        ],
        [
         24,
         2,
         2,
         1,
         "000000000100000000000",
         null,
         "W",
         null,
         null,
         "0000000000000000000",
         "000000000000000",
         "M",
         "O",
         null,
         "F",
         null,
         null,
         null,
         null,
         7,
         "7",
         "F",
         46,
         "3",
         "Z",
         null,
         null,
         null,
         null,
         null,
         null,
         null,
         null,
         null,
         null,
         null,
         null,
         null,
         null,
         null,
         "R",
         "223",
         "09O3",
         "03O3",
         null
        ],
        [
         26,
         null,
         null,
         null,
         "000000000000000000000",
         null,
         null,
         null,
         null,
         "0000000000000000000",
         "000000000000000",
         "S",
         null,
         null,
         "F",
         null,
         null,
         null,
         null,
         null,
         null,
         null,
         null,
         null,
         null,
         null,
         null,
         null,
         null,
         null,
         null,
         null,
         null,
         null,
         null,
         null,
         null,
         null,
         null,
         null,
         null,
         "46G",
         "04CG",
         "08CG",
         null
        ],
        [
         28,
         3,
         2,
         2,
         "000000110000000000000",
         "S",
         "W",
         "Y",
         1,
         "0000010000000000000",
         "000001000000000",
         "S",
         "O",
         3,
         "H",
         null,
         null,
         null,
         null,
         5,
         "7",
         "M",
         38,
         "2",
         "4",
         null,
         null,
         34,
         "1",
         "7",
         null,
         null,
         null,
         null,
         null,
         null,
         null,
         null,
         null,
         null,
         "V",
         "473",
         "11R3",
         "09C3",
         "1"
        ],
        [
         35,
         1,
         1,
         1,
         "000000000100000000000",
         null,
         "W",
         null,
         null,
         "0000000000000000000",
         "000000000000000",
         null,
         null,
         null,
         "G",
         null,
         null,
         null,
         null,
         4,
         null,
         "M",
         50,
         "2",
         "1",
         null,
         null,
         null,
         null,
         null,
         null,
         null,
         null,
         null,
         null,
         null,
         null,
         null,
         null,
         null,
         "D",
         "523",
         "13C3",
         "08C3",
         null
        ],
        [
         36,
         null,
         null,
         null,
         "000000000000000000000",
         null,
         null,
         null,
         null,
         "0000000000000000000",
         "000000000000000",
         null,
         null,
         null,
         "G",
         null,
         null,
         null,
         null,
         null,
         null,
         null,
         null,
         null,
         null,
         null,
         null,
         null,
         null,
         null,
         null,
         null,
         null,
         null,
         null,
         null,
         null,
         null,
         null,
         null,
         null,
         "51G",
         "10RG",
         "10RG",
         null
        ]
       ],
       "datasetInfos": [],
       "dbfsResultPath": null,
       "isJsonSchema": true,
       "metadata": {},
       "overflow": false,
       "plotOptions": {
        "customPlotOptions": {},
        "displayType": "table",
        "pivotAggregation": null,
        "pivotColumns": null,
        "xColumns": null,
        "yColumns": null
       },
       "removedWidgets": [],
       "schema": [
        {
         "metadata": "{}",
         "name": "household_id",
         "type": "\"integer\""
        },
        {
         "metadata": "{}",
         "name": "household_size",
         "type": "\"integer\""
        },
        {
         "metadata": "{}",
         "name": "num_adults",
         "type": "\"integer\""
        },
        {
         "metadata": "{}",
         "name": "num_generations",
         "type": "\"integer\""
        },
        {
         "metadata": "{}",
         "name": "adult_range",
         "type": "\"string\""
        },
        {
         "metadata": "{}",
         "name": "marital_status",
         "type": "\"string\""
        },
        {
         "metadata": "{}",
         "name": "race_code",
         "type": "\"string\""
        },
        {
         "metadata": "{}",
         "name": "presence_children",
         "type": "\"string\""
        },
        {
         "metadata": "{}",
         "name": "num_children",
         "type": "\"integer\""
        },
        {
         "metadata": "{}",
         "name": "age_children",
         "type": "\"string\""
        },
        {
         "metadata": "{}",
         "name": "age_range_children",
         "type": "\"string\""
        },
        {
         "metadata": "{}",
         "name": "dwelling_type",
         "type": "\"string\""
        },
        {
         "metadata": "{}",
         "name": "home_owner_status",
         "type": "\"string\""
        },
        {
         "metadata": "{}",
         "name": "length_residence",
         "type": "\"integer\""
        },
        {
         "metadata": "{}",
         "name": "home_market_value",
         "type": "\"string\""
        },
        {
         "metadata": "{}",
         "name": "num_vehicles",
         "type": "\"integer\""
        },
        {
         "metadata": "{}",
         "name": "vehicle_make",
         "type": "\"string\""
        },
        {
         "metadata": "{}",
         "name": "vehicle_model",
         "type": "\"string\""
        },
        {
         "metadata": "{}",
         "name": "vehicle_year",
         "type": "\"integer\""
        },
        {
         "metadata": "{}",
         "name": "net_worth",
         "type": "\"integer\""
        },
        {
         "metadata": "{}",
         "name": "income",
         "type": "\"string\""
        },
        {
         "metadata": "{}",
         "name": "gender_individual",
         "type": "\"string\""
        },
        {
         "metadata": "{}",
         "name": "age_individual",
         "type": "\"integer\""
        },
        {
         "metadata": "{}",
         "name": "education_highest",
         "type": "\"string\""
        },
        {
         "metadata": "{}",
         "name": "occupation_highest",
         "type": "\"string\""
        },
        {
         "metadata": "{}",
         "name": "education_1",
         "type": "\"string\""
        },
        {
         "metadata": "{}",
         "name": "occupation_1",
         "type": "\"string\""
        },
        {
         "metadata": "{}",
         "name": "age_2",
         "type": "\"integer\""
        },
        {
         "metadata": "{}",
         "name": "education_2",
         "type": "\"string\""
        },
        {
         "metadata": "{}",
         "name": "occupation_2",
         "type": "\"string\""
        },
        {
         "metadata": "{}",
         "name": "age_3",
         "type": "\"integer\""
        },
        {
         "metadata": "{}",
         "name": "education_3",
         "type": "\"string\""
        },
        {
         "metadata": "{}",
         "name": "occupation_3",
         "type": "\"string\""
        },
        {
         "metadata": "{}",
         "name": "age_4",
         "type": "\"integer\""
        },
        {
         "metadata": "{}",
         "name": "education_4",
         "type": "\"string\""
        },
        {
         "metadata": "{}",
         "name": "occupation_4",
         "type": "\"string\""
        },
        {
         "metadata": "{}",
         "name": "age_5",
         "type": "\"integer\""
        },
        {
         "metadata": "{}",
         "name": "education_5",
         "type": "\"string\""
        },
        {
         "metadata": "{}",
         "name": "occupation_5",
         "type": "\"string\""
        },
        {
         "metadata": "{}",
         "name": "polit_party_regist",
         "type": "\"string\""
        },
        {
         "metadata": "{}",
         "name": "polit_party_input",
         "type": "\"string\""
        },
        {
         "metadata": "{}",
         "name": "household_clusters",
         "type": "\"string\""
        },
        {
         "metadata": "{}",
         "name": "insurance_groups",
         "type": "\"string\""
        },
        {
         "metadata": "{}",
         "name": "financial_groups",
         "type": "\"string\""
        },
        {
         "metadata": "{}",
         "name": "green_living",
         "type": "\"string\""
        }
       ],
       "type": "table"
      }
     },
     "output_type": "display_data"
    },
    {
     "output_type": "stream",
     "name": "stdout",
     "output_type": "stream",
     "text": [
      "CPU times: user 24 ms, sys: 12 ms, total: 36.1 ms\nWall time: 23.1 s\n"
     ]
    }
   ],
   "source": [
    "%%time\n",
    "# demographic data filename is 'demographic'\n",
    "demo_df = load_csv_file('demographic', schemas_dict['demographic'])\n",
    "demo_df.count()\n",
    "demo_df.printSchema()\n",
    "print(f'demo_df contains {demo_df.count()} records!')\n",
    "display(demo_df.limit(6))"
   ]
  },
  {
   "cell_type": "markdown",
   "metadata": {
    "application/vnd.databricks.v1+cell": {
     "cellMetadata": {
      "byteLimit": 2048000,
      "rowLimit": 10000
     },
     "inputWidgets": {},
     "nuid": "fc877be4-441e-4ffb-946c-af0d57012e93",
     "showTitle": false,
     "tableResultSettingsMap": {},
     "title": ""
    }
   },
   "source": [
    "# Read Daily program data"
   ]
  },
  {
   "cell_type": "code",
   "execution_count": 0,
   "metadata": {
    "application/vnd.databricks.v1+cell": {
     "cellMetadata": {
      "byteLimit": 2048000,
      "rowLimit": 10000
     },
     "inputWidgets": {},
     "nuid": "337f900c-e411-418c-9126-12171701156a",
     "showTitle": false,
     "tableResultSettingsMap": {},
     "title": ""
    }
   },
   "outputs": [
    {
     "output_type": "stream",
     "name": "stdout",
     "output_type": "stream",
     "text": [
      "root\n |-- prog_code: string (nullable = true)\n |-- title: string (nullable = true)\n |-- genre: string (nullable = true)\n |-- air_date: string (nullable = true)\n |-- air_time: string (nullable = true)\n |-- Duration: float (nullable = true)\n\ndaily_prog_df contains 13194849 records!\n"
     ]
    },
    {
     "output_type": "display_data",
     "data": {
      "text/html": [
       "<style scoped>\n",
       "  .table-result-container {\n",
       "    max-height: 300px;\n",
       "    overflow: auto;\n",
       "  }\n",
       "  table, th, td {\n",
       "    border: 1px solid black;\n",
       "    border-collapse: collapse;\n",
       "  }\n",
       "  th, td {\n",
       "    padding: 5px;\n",
       "  }\n",
       "  th {\n",
       "    text-align: left;\n",
       "  }\n",
       "</style><div class='table-result-container'><table class='table-result'><thead style='background-color: white'><tr><th>prog_code</th><th>title</th><th>genre</th><th>air_date</th><th>air_time</th><th>Duration</th></tr></thead><tbody><tr><td>EP000000250035</td><td>21 Jump Street</td><td>Crime drama</td><td>20151219</td><td>050000</td><td>60.0</td></tr><tr><td>EP000000250035</td><td>21 Jump Street</td><td>Crime drama</td><td>20151219</td><td>110000</td><td>60.0</td></tr><tr><td>EP000000250063</td><td>21 Jump Street</td><td>Crime drama</td><td>20151219</td><td>180000</td><td>60.0</td></tr><tr><td>EP000000510007</td><td>A Different World</td><td>Sitcom</td><td>20151219</td><td>100000</td><td>30.0</td></tr><tr><td>EP000000510008</td><td>A Different World</td><td>Sitcom</td><td>20151219</td><td>103000</td><td>30.0</td></tr><tr><td>EP000000510159</td><td>A Different World</td><td>Sitcom</td><td>20151219</td><td>080300</td><td>29.0</td></tr></tbody></table></div>"
      ]
     },
     "metadata": {
      "application/vnd.databricks.v1+output": {
       "addedWidgets": {},
       "aggData": [],
       "aggError": "",
       "aggOverflow": false,
       "aggSchema": [],
       "aggSeriesLimitReached": false,
       "aggType": "",
       "arguments": {},
       "columnCustomDisplayInfos": {},
       "data": [
        [
         "EP000000250035",
         "21 Jump Street",
         "Crime drama",
         "20151219",
         "050000",
         60.0
        ],
        [
         "EP000000250035",
         "21 Jump Street",
         "Crime drama",
         "20151219",
         "110000",
         60.0
        ],
        [
         "EP000000250063",
         "21 Jump Street",
         "Crime drama",
         "20151219",
         "180000",
         60.0
        ],
        [
         "EP000000510007",
         "A Different World",
         "Sitcom",
         "20151219",
         "100000",
         30.0
        ],
        [
         "EP000000510008",
         "A Different World",
         "Sitcom",
         "20151219",
         "103000",
         30.0
        ],
        [
         "EP000000510159",
         "A Different World",
         "Sitcom",
         "20151219",
         "080300",
         29.0
        ]
       ],
       "datasetInfos": [],
       "dbfsResultPath": null,
       "isJsonSchema": true,
       "metadata": {},
       "overflow": false,
       "plotOptions": {
        "customPlotOptions": {},
        "displayType": "table",
        "pivotAggregation": null,
        "pivotColumns": null,
        "xColumns": null,
        "yColumns": null
       },
       "removedWidgets": [],
       "schema": [
        {
         "metadata": "{}",
         "name": "prog_code",
         "type": "\"string\""
        },
        {
         "metadata": "{}",
         "name": "title",
         "type": "\"string\""
        },
        {
         "metadata": "{}",
         "name": "genre",
         "type": "\"string\""
        },
        {
         "metadata": "{}",
         "name": "air_date",
         "type": "\"string\""
        },
        {
         "metadata": "{}",
         "name": "air_time",
         "type": "\"string\""
        },
        {
         "metadata": "{}",
         "name": "Duration",
         "type": "\"float\""
        }
       ],
       "type": "table"
      }
     },
     "output_type": "display_data"
    },
    {
     "output_type": "stream",
     "name": "stdout",
     "output_type": "stream",
     "text": [
      "CPU times: user 11.8 ms, sys: 9.33 ms, total: 21.2 ms\nWall time: 8.36 s\n"
     ]
    }
   ],
   "source": [
    "%%time\n",
    "# daily_program data filename is 'Daily program data'\n",
    "daily_prog_df = load_csv_file('Daily program data', schemas_dict['Daily program data'])\n",
    "\n",
    "daily_prog_df.printSchema()\n",
    "print(f'daily_prog_df contains {daily_prog_df.count()} records!')\n",
    "display(daily_prog_df.limit(6))"
   ]
  },
  {
   "cell_type": "markdown",
   "metadata": {
    "application/vnd.databricks.v1+cell": {
     "cellMetadata": {
      "byteLimit": 2048000,
      "rowLimit": 10000
     },
     "inputWidgets": {},
     "nuid": "27e339d4-c508-4a7c-8acb-2a43baa0da8e",
     "showTitle": false,
     "tableResultSettingsMap": {},
     "title": ""
    }
   },
   "source": [
    "# Read viewing data"
   ]
  },
  {
   "cell_type": "code",
   "execution_count": 0,
   "metadata": {
    "application/vnd.databricks.v1+cell": {
     "cellMetadata": {
      "byteLimit": 2048000,
      "rowLimit": 10000
     },
     "inputWidgets": {},
     "nuid": "a127c6a4-75cf-40ba-a0f5-a2ca5c0b5bfe",
     "showTitle": false,
     "tableResultSettingsMap": {},
     "title": ""
    }
   },
   "outputs": [
    {
     "output_type": "display_data",
     "data": {
      "text/html": [
       "<style scoped>\n",
       "  .table-result-container {\n",
       "    max-height: 300px;\n",
       "    overflow: auto;\n",
       "  }\n",
       "  table, th, td {\n",
       "    border: 1px solid black;\n",
       "    border-collapse: collapse;\n",
       "  }\n",
       "  th, td {\n",
       "    padding: 5px;\n",
       "  }\n",
       "  th {\n",
       "    text-align: left;\n",
       "  }\n",
       "</style><div class='table-result-container'><table class='table-result'><thead style='background-color: white'><tr><th>mso_code</th><th>device_id</th><th>event_date</th><th>event_time</th><th>station_num</th><th>prog_code</th></tr></thead><tbody><tr><td>01540</td><td>0000000050f3</td><td>20150222</td><td>193802</td><td>61812</td><td>EP009279780033</td></tr><tr><td>01540</td><td>0000000050f3</td><td>20150222</td><td>195314</td><td>31709</td><td>EP021056430002</td></tr><tr><td>01540</td><td>0000000050f3</td><td>20150222</td><td>200151</td><td>61812</td><td>EP009279780033</td></tr><tr><td>01540</td><td>000000005518</td><td>20150222</td><td>111139</td><td>46784</td><td>EP004891370013</td></tr><tr><td>01540</td><td>000000005518</td><td>20150222</td><td>190000</td><td>14771</td><td>EP012124070127</td></tr><tr><td>01540</td><td>000000005518</td><td>20150222</td><td>200000</td><td>14771</td><td>EP010237320166</td></tr></tbody></table></div>"
      ]
     },
     "metadata": {
      "application/vnd.databricks.v1+output": {
       "addedWidgets": {},
       "aggData": [],
       "aggError": "",
       "aggOverflow": false,
       "aggSchema": [],
       "aggSeriesLimitReached": false,
       "aggType": "",
       "arguments": {},
       "columnCustomDisplayInfos": {},
       "data": [
        [
         "01540",
         "0000000050f3",
         20150222,
         193802,
         "61812",
         "EP009279780033"
        ],
        [
         "01540",
         "0000000050f3",
         20150222,
         195314,
         "31709",
         "EP021056430002"
        ],
        [
         "01540",
         "0000000050f3",
         20150222,
         200151,
         "61812",
         "EP009279780033"
        ],
        [
         "01540",
         "000000005518",
         20150222,
         111139,
         "46784",
         "EP004891370013"
        ],
        [
         "01540",
         "000000005518",
         20150222,
         190000,
         "14771",
         "EP012124070127"
        ],
        [
         "01540",
         "000000005518",
         20150222,
         200000,
         "14771",
         "EP010237320166"
        ]
       ],
       "datasetInfos": [],
       "dbfsResultPath": null,
       "isJsonSchema": true,
       "metadata": {},
       "overflow": false,
       "plotOptions": {
        "customPlotOptions": {},
        "displayType": "table",
        "pivotAggregation": null,
        "pivotColumns": null,
        "xColumns": null,
        "yColumns": null
       },
       "removedWidgets": [],
       "schema": [
        {
         "metadata": "{}",
         "name": "mso_code",
         "type": "\"string\""
        },
        {
         "metadata": "{}",
         "name": "device_id",
         "type": "\"string\""
        },
        {
         "metadata": "{}",
         "name": "event_date",
         "type": "\"integer\""
        },
        {
         "metadata": "{}",
         "name": "event_time",
         "type": "\"integer\""
        },
        {
         "metadata": "{}",
         "name": "station_num",
         "type": "\"string\""
        },
        {
         "metadata": "{}",
         "name": "prog_code",
         "type": "\"string\""
        }
       ],
       "type": "table"
      }
     },
     "output_type": "display_data"
    },
    {
     "output_type": "stream",
     "name": "stdout",
     "output_type": "stream",
     "text": [
      "viewing10m_df contains 9935852 rows!\n"
     ]
    }
   ],
   "source": [
    "dataPath = \"dbfs:/FileStore/ddm/10m_viewing\"\n",
    "\n",
    "viewing10m_df = spark.read.format(\"csv\")\\\n",
    "    .option(\"header\",\"true\")\\\n",
    "    .option(\"delimiter\",\",\")\\\n",
    "    .schema(schemas_dict['viewing_full'])\\\n",
    "    .load(dataPath)\n",
    "\n",
    "display(viewing10m_df.limit(6))\n",
    "print(f'viewing10m_df contains {viewing10m_df.count()} rows!')"
   ]
  },
  {
   "cell_type": "markdown",
   "metadata": {
    "application/vnd.databricks.v1+cell": {
     "cellMetadata": {
      "byteLimit": 2048000,
      "rowLimit": 10000
     },
     "inputWidgets": {},
     "nuid": "1c12a188-ba94-431f-ace1-668c36be86ff",
     "showTitle": false,
     "tableResultSettingsMap": {},
     "title": ""
    }
   },
   "source": [
    "# Read reference data"
   ]
  },
  {
   "cell_type": "markdown",
   "metadata": {
    "application/vnd.databricks.v1+cell": {
     "cellMetadata": {
      "byteLimit": 2048000,
      "rowLimit": 10000
     },
     "inputWidgets": {},
     "nuid": "08701cf0-0ea4-4af6-b678-b6b6f984c8d5",
     "showTitle": false,
     "tableResultSettingsMap": {},
     "title": ""
    }
   },
   "source": [
    "Note that we removed the 'System Type' column."
   ]
  },
  {
   "cell_type": "code",
   "execution_count": 0,
   "metadata": {
    "application/vnd.databricks.v1+cell": {
     "cellMetadata": {
      "byteLimit": 2048000,
      "rowLimit": 10000
     },
     "inputWidgets": {},
     "nuid": "4852dbfb-72ea-4ef2-8574-a8e5477a2adb",
     "showTitle": false,
     "tableResultSettingsMap": {},
     "title": ""
    }
   },
   "outputs": [
    {
     "output_type": "display_data",
     "data": {
      "text/html": [
       "<style scoped>\n",
       "  .table-result-container {\n",
       "    max-height: 300px;\n",
       "    overflow: auto;\n",
       "  }\n",
       "  table, th, td {\n",
       "    border: 1px solid black;\n",
       "    border-collapse: collapse;\n",
       "  }\n",
       "  th, td {\n",
       "    padding: 5px;\n",
       "  }\n",
       "  th {\n",
       "    text-align: left;\n",
       "  }\n",
       "</style><div class='table-result-container'><table class='table-result'><thead style='background-color: white'><tr><th>device_id</th><th>dma</th><th>dma_code</th><th>household_id</th><th>zipcode</th></tr></thead><tbody><tr><td>0000000050f3</td><td>Toledo</td><td>547</td><td>1471346</td><td>43609</td></tr><tr><td>000000006785</td><td>Amarillo</td><td>634</td><td>1924512</td><td>79119</td></tr><tr><td>000000007320</td><td>Lake Charles</td><td>643</td><td>3154808</td><td>70634</td></tr><tr><td>000000007df9</td><td>Lake Charles</td><td>643</td><td>1924566</td><td>70601</td></tr><tr><td>000000009595</td><td>Lexington</td><td>541</td><td>1600886</td><td>40601</td></tr><tr><td>000000009c6a</td><td>Houston</td><td>618</td><td>1924713</td><td>77339</td></tr></tbody></table></div>"
      ]
     },
     "metadata": {
      "application/vnd.databricks.v1+output": {
       "addedWidgets": {},
       "aggData": [],
       "aggError": "",
       "aggOverflow": false,
       "aggSchema": [],
       "aggSeriesLimitReached": false,
       "aggType": "",
       "arguments": {},
       "columnCustomDisplayInfos": {},
       "data": [
        [
         "0000000050f3",
         "Toledo",
         "547",
         "1471346",
         43609
        ],
        [
         "000000006785",
         "Amarillo",
         "634",
         "1924512",
         79119
        ],
        [
         "000000007320",
         "Lake Charles",
         "643",
         "3154808",
         70634
        ],
        [
         "000000007df9",
         "Lake Charles",
         "643",
         "1924566",
         70601
        ],
        [
         "000000009595",
         "Lexington",
         "541",
         "1600886",
         40601
        ],
        [
         "000000009c6a",
         "Houston",
         "618",
         "1924713",
         77339
        ]
       ],
       "datasetInfos": [],
       "dbfsResultPath": null,
       "isJsonSchema": true,
       "metadata": {},
       "overflow": false,
       "plotOptions": {
        "customPlotOptions": {},
        "displayType": "table",
        "pivotAggregation": null,
        "pivotColumns": null,
        "xColumns": null,
        "yColumns": null
       },
       "removedWidgets": [],
       "schema": [
        {
         "metadata": "{}",
         "name": "device_id",
         "type": "\"string\""
        },
        {
         "metadata": "{}",
         "name": "dma",
         "type": "\"string\""
        },
        {
         "metadata": "{}",
         "name": "dma_code",
         "type": "\"string\""
        },
        {
         "metadata": "{}",
         "name": "household_id",
         "type": "\"string\""
        },
        {
         "metadata": "{}",
         "name": "zipcode",
         "type": "\"long\""
        }
       ],
       "type": "table"
      }
     },
     "output_type": "display_data"
    },
    {
     "output_type": "stream",
     "name": "stdout",
     "output_type": "stream",
     "text": [
      "ref_data contains 704172 rows!\n"
     ]
    }
   ],
   "source": [
    "# Read the new parquet\n",
    "ref_data_schema = StructType([\n",
    "    StructField('device_id', StringType()),\n",
    "    StructField('dma', StringType()),\n",
    "    StructField('dma_code', StringType()),\n",
    "    StructField('household_id', IntegerType()),\n",
    "    StructField('zipcode', IntegerType())\n",
    "])\n",
    "\n",
    "# Reading as a Parquet\n",
    "dataPath = f\"dbfs:/FileStore/ddm/ref_data\"\n",
    "ref_data = spark.read.format('parquet') \\\n",
    "                    .option(\"inferSchema\",\"true\")\\\n",
    "                    .load(dataPath)\n",
    "                    \n",
    "display(ref_data.limit(6))\n",
    "print(f'ref_data contains {ref_data.count()} rows!')"
   ]
  },
  {
   "cell_type": "code",
   "execution_count": 0,
   "metadata": {
    "application/vnd.databricks.v1+cell": {
     "cellMetadata": {},
     "inputWidgets": {},
     "nuid": "93a867c0-df32-4c57-9698-75ac8202931d",
     "showTitle": false,
     "tableResultSettingsMap": {},
     "title": ""
    }
   },
   "outputs": [],
   "source": []
  },
  {
   "cell_type": "markdown",
   "metadata": {
    "application/vnd.databricks.v1+cell": {
     "cellMetadata": {
      "byteLimit": 2048000,
      "rowLimit": 10000
     },
     "inputWidgets": {},
     "nuid": "cf4ca803-ca4b-463f-b4bc-1b12028687d6",
     "showTitle": false,
     "tableResultSettingsMap": {},
     "title": ""
    }
   },
   "source": [
    "# part 2.1"
   ]
  },
  {
   "cell_type": "markdown",
   "metadata": {
    "application/vnd.databricks.v1+cell": {
     "cellMetadata": {
      "byteLimit": 2048000,
      "rowLimit": 10000
     },
     "inputWidgets": {},
     "nuid": "9a2401be-ed2d-4b99-90ce-2b589363d702",
     "showTitle": false,
     "tableResultSettingsMap": {},
     "title": ""
    }
   },
   "source": [
    "## **section 1:** 5 genres\n"
   ]
  },
  {
   "cell_type": "markdown",
   "metadata": {
    "application/vnd.databricks.v1+cell": {
     "cellMetadata": {
      "byteLimit": 2048000,
      "rowLimit": 10000
     },
     "inputWidgets": {},
     "nuid": "b726ceb4-961b-46d3-9e89-34c446b72639",
     "showTitle": false,
     "tableResultSettingsMap": {},
     "title": ""
    }
   },
   "source": [
    "firse we will create table that tells the size of every houshold "
   ]
  },
  {
   "cell_type": "code",
   "execution_count": 0,
   "metadata": {
    "application/vnd.databricks.v1+cell": {
     "cellMetadata": {
      "byteLimit": 2048000,
      "rowLimit": 10000
     },
     "inputWidgets": {},
     "nuid": "7d761e01-ab50-420a-8548-cb44c565a410",
     "showTitle": false,
     "tableResultSettingsMap": {},
     "title": ""
    }
   },
   "outputs": [
    {
     "output_type": "display_data",
     "data": {
      "text/html": [
       "<style scoped>\n",
       "  .table-result-container {\n",
       "    max-height: 300px;\n",
       "    overflow: auto;\n",
       "  }\n",
       "  table, th, td {\n",
       "    border: 1px solid black;\n",
       "    border-collapse: collapse;\n",
       "  }\n",
       "  th, td {\n",
       "    padding: 5px;\n",
       "  }\n",
       "  th {\n",
       "    text-align: left;\n",
       "  }\n",
       "</style><div class='table-result-container'><table class='table-result'><thead style='background-color: white'><tr><th>household_id</th><th>household_size</th></tr></thead><tbody><tr><td>109</td><td>1</td></tr><tr><td>98</td><td>3</td></tr><tr><td>15</td><td>2</td></tr><tr><td>61</td><td>2</td></tr><tr><td>24</td><td>2</td></tr><tr><td>28</td><td>3</td></tr><tr><td>56</td><td>2</td></tr><tr><td>85</td><td>2</td></tr><tr><td>40</td><td>2</td></tr><tr><td>35</td><td>1</td></tr></tbody></table></div>"
      ]
     },
     "metadata": {
      "application/vnd.databricks.v1+output": {
       "addedWidgets": {},
       "aggData": [],
       "aggError": "",
       "aggOverflow": false,
       "aggSchema": [],
       "aggSeriesLimitReached": false,
       "aggType": "",
       "arguments": {},
       "columnCustomDisplayInfos": {},
       "data": [
        [
         109,
         1
        ],
        [
         98,
         3
        ],
        [
         15,
         2
        ],
        [
         61,
         2
        ],
        [
         24,
         2
        ],
        [
         28,
         3
        ],
        [
         56,
         2
        ],
        [
         85,
         2
        ],
        [
         40,
         2
        ],
        [
         35,
         1
        ]
       ],
       "datasetInfos": [],
       "dbfsResultPath": null,
       "isJsonSchema": true,
       "metadata": {},
       "overflow": false,
       "plotOptions": {
        "customPlotOptions": {},
        "displayType": "table",
        "pivotAggregation": null,
        "pivotColumns": null,
        "xColumns": null,
        "yColumns": null
       },
       "removedWidgets": [],
       "schema": [
        {
         "metadata": "{}",
         "name": "household_id",
         "type": "\"integer\""
        },
        {
         "metadata": "{}",
         "name": "household_size",
         "type": "\"integer\""
        }
       ],
       "type": "table"
      }
     },
     "output_type": "display_data"
    }
   ],
   "source": [
    "hhAndSize = demo_df.select(['household_id','household_size']).distinct()\n",
    "#dissmising the duplicates\n",
    "hhAndSize = hhAndSize.na.drop(subset=['household_size','household_id'])\n",
    "display(hhAndSize.limit(10))"
   ]
  },
  {
   "cell_type": "markdown",
   "metadata": {
    "application/vnd.databricks.v1+cell": {
     "cellMetadata": {
      "byteLimit": 2048000,
      "rowLimit": 10000
     },
     "inputWidgets": {},
     "nuid": "4d2419c7-727c-4fc2-857a-a10b3a702218",
     "showTitle": false,
     "tableResultSettingsMap": {},
     "title": ""
    }
   },
   "source": [
    " now we will select 'Device_id' and 'Houshold ID' from 'Referance Data' and we will NJ it with 'hhAndSize'"
   ]
  },
  {
   "cell_type": "code",
   "execution_count": 0,
   "metadata": {
    "application/vnd.databricks.v1+cell": {
     "cellMetadata": {
      "byteLimit": 2048000,
      "rowLimit": 10000
     },
     "inputWidgets": {},
     "nuid": "15f8cc30-fde9-412f-9f04-36b87eed1f83",
     "showTitle": false,
     "tableResultSettingsMap": {},
     "title": ""
    }
   },
   "outputs": [
    {
     "output_type": "display_data",
     "data": {
      "text/html": [
       "<style scoped>\n",
       "  .table-result-container {\n",
       "    max-height: 300px;\n",
       "    overflow: auto;\n",
       "  }\n",
       "  table, th, td {\n",
       "    border: 1px solid black;\n",
       "    border-collapse: collapse;\n",
       "  }\n",
       "  th, td {\n",
       "    padding: 5px;\n",
       "  }\n",
       "  th {\n",
       "    text-align: left;\n",
       "  }\n",
       "</style><div class='table-result-container'><table class='table-result'><thead style='background-color: white'><tr><th>household_id</th><th>device_id</th></tr></thead><tbody><tr><td>1471346</td><td>0000000050f3</td></tr><tr><td>1924512</td><td>000000006785</td></tr><tr><td>3154808</td><td>000000007320</td></tr><tr><td>1924566</td><td>000000007df9</td></tr><tr><td>1600886</td><td>000000009595</td></tr><tr><td>1924713</td><td>000000009c6a</td></tr><tr><td>1924725</td><td>000000009daa</td></tr><tr><td>2935414</td><td>000000009e5a</td></tr><tr><td>3521041</td><td>00000000a215</td></tr><tr><td>1924784</td><td>00000000a290</td></tr></tbody></table></div>"
      ]
     },
     "metadata": {
      "application/vnd.databricks.v1+output": {
       "addedWidgets": {},
       "aggData": [],
       "aggError": "",
       "aggOverflow": false,
       "aggSchema": [],
       "aggSeriesLimitReached": false,
       "aggType": "",
       "arguments": {},
       "columnCustomDisplayInfos": {},
       "data": [
        [
         "1471346",
         "0000000050f3"
        ],
        [
         "1924512",
         "000000006785"
        ],
        [
         "3154808",
         "000000007320"
        ],
        [
         "1924566",
         "000000007df9"
        ],
        [
         "1600886",
         "000000009595"
        ],
        [
         "1924713",
         "000000009c6a"
        ],
        [
         "1924725",
         "000000009daa"
        ],
        [
         "2935414",
         "000000009e5a"
        ],
        [
         "3521041",
         "00000000a215"
        ],
        [
         "1924784",
         "00000000a290"
        ]
       ],
       "datasetInfos": [],
       "dbfsResultPath": null,
       "isJsonSchema": true,
       "metadata": {},
       "overflow": false,
       "plotOptions": {
        "customPlotOptions": {},
        "displayType": "table",
        "pivotAggregation": null,
        "pivotColumns": null,
        "xColumns": null,
        "yColumns": null
       },
       "removedWidgets": [],
       "schema": [
        {
         "metadata": "{}",
         "name": "household_id",
         "type": "\"string\""
        },
        {
         "metadata": "{}",
         "name": "device_id",
         "type": "\"string\""
        }
       ],
       "type": "table"
      }
     },
     "output_type": "display_data"
    }
   ],
   "source": [
    "ref = ref_data.select(['household_id','device_id'])\n",
    "#dissmising the null values\n",
    "ref = ref.na.drop(how='any', subset=['household_id','device_id'])\n",
    "display(ref.limit(10))"
   ]
  },
  {
   "cell_type": "code",
   "execution_count": 0,
   "metadata": {
    "application/vnd.databricks.v1+cell": {
     "cellMetadata": {
      "byteLimit": 2048000,
      "rowLimit": 10000
     },
     "inputWidgets": {},
     "nuid": "5554b4d8-f0af-4494-bb06-baf683b877cb",
     "showTitle": false,
     "tableResultSettingsMap": {},
     "title": ""
    }
   },
   "outputs": [
    {
     "output_type": "display_data",
     "data": {
      "text/html": [
       "<style scoped>\n",
       "  .table-result-container {\n",
       "    max-height: 300px;\n",
       "    overflow: auto;\n",
       "  }\n",
       "  table, th, td {\n",
       "    border: 1px solid black;\n",
       "    border-collapse: collapse;\n",
       "  }\n",
       "  th, td {\n",
       "    padding: 5px;\n",
       "  }\n",
       "  th {\n",
       "    text-align: left;\n",
       "  }\n",
       "</style><div class='table-result-container'><table class='table-result'><thead style='background-color: white'><tr><th>household_id</th><th>device_id</th><th>household_size</th></tr></thead><tbody><tr><td>3427</td><td>44e08edfe932</td><td>5</td></tr><tr><td>3427</td><td>001bd75b30fe</td><td>5</td></tr><tr><td>3427</td><td>001bd77477c6</td><td>5</td></tr><tr><td>3427</td><td>44e08ef7cd29</td><td>5</td></tr><tr><td>4879</td><td>0021bee1daf3</td><td>5</td></tr><tr><td>4879</td><td>44e08edfd518</td><td>5</td></tr><tr><td>4879</td><td>10ea5940e24e</td><td>5</td></tr><tr><td>4879</td><td>0021bef19dc4</td><td>5</td></tr><tr><td>5147</td><td>10ea5940b2ed</td><td>4</td></tr><tr><td>5147</td><td>0021bef2a645</td><td>4</td></tr></tbody></table></div>"
      ]
     },
     "metadata": {
      "application/vnd.databricks.v1+output": {
       "addedWidgets": {},
       "aggData": [],
       "aggError": "",
       "aggOverflow": false,
       "aggSchema": [],
       "aggSeriesLimitReached": false,
       "aggType": "",
       "arguments": {},
       "columnCustomDisplayInfos": {},
       "data": [
        [
         "3427",
         "44e08edfe932",
         5
        ],
        [
         "3427",
         "001bd75b30fe",
         5
        ],
        [
         "3427",
         "001bd77477c6",
         5
        ],
        [
         "3427",
         "44e08ef7cd29",
         5
        ],
        [
         "4879",
         "0021bee1daf3",
         5
        ],
        [
         "4879",
         "44e08edfd518",
         5
        ],
        [
         "4879",
         "10ea5940e24e",
         5
        ],
        [
         "4879",
         "0021bef19dc4",
         5
        ],
        [
         "5147",
         "10ea5940b2ed",
         4
        ],
        [
         "5147",
         "0021bef2a645",
         4
        ]
       ],
       "datasetInfos": [],
       "dbfsResultPath": null,
       "isJsonSchema": true,
       "metadata": {},
       "overflow": false,
       "plotOptions": {
        "customPlotOptions": {},
        "displayType": "table",
        "pivotAggregation": null,
        "pivotColumns": null,
        "xColumns": null,
        "yColumns": null
       },
       "removedWidgets": [],
       "schema": [
        {
         "metadata": "{}",
         "name": "household_id",
         "type": "\"string\""
        },
        {
         "metadata": "{}",
         "name": "device_id",
         "type": "\"string\""
        },
        {
         "metadata": "{}",
         "name": "household_size",
         "type": "\"integer\""
        }
       ],
       "type": "table"
      }
     },
     "output_type": "display_data"
    }
   ],
   "source": [
    "devByhh = ref.join(hhAndSize,'household_id', how = 'inner')\n",
    "display(devByhh.limit(10))"
   ]
  },
  {
   "cell_type": "markdown",
   "metadata": {
    "application/vnd.databricks.v1+cell": {
     "cellMetadata": {
      "byteLimit": 2048000,
      "rowLimit": 10000
     },
     "inputWidgets": {},
     "nuid": "b12de5c9-efe8-4c85-847b-d9fde7d45770",
     "showTitle": false,
     "tableResultSettingsMap": {},
     "title": ""
    }
   },
   "source": [
    "now we will check 'daily program data' for duplication then we will join it with 'program viewing data' to the program to the device"
   ]
  },
  {
   "cell_type": "code",
   "execution_count": 0,
   "metadata": {
    "application/vnd.databricks.v1+cell": {
     "cellMetadata": {
      "byteLimit": 2048000,
      "rowLimit": 10000
     },
     "inputWidgets": {},
     "nuid": "98405b8d-b884-4ef2-977e-231f408ad107",
     "showTitle": false,
     "tableResultSettingsMap": {},
     "title": ""
    }
   },
   "outputs": [
    {
     "output_type": "display_data",
     "data": {
      "text/html": [
       "<style scoped>\n",
       "  .table-result-container {\n",
       "    max-height: 300px;\n",
       "    overflow: auto;\n",
       "  }\n",
       "  table, th, td {\n",
       "    border: 1px solid black;\n",
       "    border-collapse: collapse;\n",
       "  }\n",
       "  th, td {\n",
       "    padding: 5px;\n",
       "  }\n",
       "  th {\n",
       "    text-align: left;\n",
       "  }\n",
       "</style><div class='table-result-container'><table class='table-result'><thead style='background-color: white'><tr><th>prog_code</th><th>genre</th><th>device_id</th></tr></thead><tbody><tr><td>EP000000260097</td><td>Sitcom</td><td>000041a37ef0</td></tr><tr><td>EP000000260097</td><td>Sitcom</td><td>00000265d104</td></tr><tr><td>EP000000260097</td><td>Sitcom</td><td>00000226a78e</td></tr><tr><td>EP000000260097</td><td>Sitcom</td><td>00001078916a</td></tr><tr><td>EP000000260097</td><td>Sitcom</td><td>0014f8b88d1c</td></tr><tr><td>EP000000260097</td><td>Sitcom</td><td>001bd7605c3c</td></tr><tr><td>EP000000260097</td><td>Sitcom</td><td>0021be456116</td></tr><tr><td>EP000000260097</td><td>Sitcom</td><td>0021be484f5b</td></tr><tr><td>EP000000260097</td><td>Sitcom</td><td>00407bb8c914</td></tr><tr><td>EP000000260097</td><td>Sitcom</td><td>10ea5916caf0</td></tr></tbody></table></div>"
      ]
     },
     "metadata": {
      "application/vnd.databricks.v1+output": {
       "addedWidgets": {},
       "aggData": [],
       "aggError": "",
       "aggOverflow": false,
       "aggSchema": [],
       "aggSeriesLimitReached": false,
       "aggType": "",
       "arguments": {},
       "columnCustomDisplayInfos": {},
       "data": [
        [
         "EP000000260097",
         "Sitcom",
         "000041a37ef0"
        ],
        [
         "EP000000260097",
         "Sitcom",
         "00000265d104"
        ],
        [
         "EP000000260097",
         "Sitcom",
         "00000226a78e"
        ],
        [
         "EP000000260097",
         "Sitcom",
         "00001078916a"
        ],
        [
         "EP000000260097",
         "Sitcom",
         "0014f8b88d1c"
        ],
        [
         "EP000000260097",
         "Sitcom",
         "001bd7605c3c"
        ],
        [
         "EP000000260097",
         "Sitcom",
         "0021be456116"
        ],
        [
         "EP000000260097",
         "Sitcom",
         "0021be484f5b"
        ],
        [
         "EP000000260097",
         "Sitcom",
         "00407bb8c914"
        ],
        [
         "EP000000260097",
         "Sitcom",
         "10ea5916caf0"
        ]
       ],
       "datasetInfos": [],
       "dbfsResultPath": null,
       "isJsonSchema": true,
       "metadata": {},
       "overflow": false,
       "plotOptions": {
        "customPlotOptions": {},
        "displayType": "table",
        "pivotAggregation": null,
        "pivotColumns": null,
        "xColumns": null,
        "yColumns": null
       },
       "removedWidgets": [],
       "schema": [
        {
         "metadata": "{}",
         "name": "prog_code",
         "type": "\"string\""
        },
        {
         "metadata": "{}",
         "name": "genre",
         "type": "\"string\""
        },
        {
         "metadata": "{}",
         "name": "device_id",
         "type": "\"string\""
        }
       ],
       "type": "table"
      }
     },
     "output_type": "display_data"
    }
   ],
   "source": [
    "dailyNoDupl = daily_prog_df.distinct()\n",
    "dailyNoDupl = dailyNoDupl.select(['prog_code','genre'])\n",
    "dailyAndView = dailyNoDupl.join(viewing10m_df,'prog_code',how = 'inner')\n",
    "dailyAndView = dailyAndView.select(['prog_code','genre','device_id'])\n",
    "#dissmising the null values\n",
    "dailyAndView = dailyAndView.na.drop(how='any', subset=['device_id','genre','prog_code'])\n",
    "display(dailyAndView.limit(10))\n",
    "\n"
   ]
  },
  {
   "cell_type": "markdown",
   "metadata": {
    "application/vnd.databricks.v1+cell": {
     "cellMetadata": {
      "byteLimit": 2048000,
      "rowLimit": 10000
     },
     "inputWidgets": {},
     "nuid": "97e4b71f-800b-4161-8c3e-7ebeb5c6779c",
     "showTitle": false,
     "tableResultSettingsMap": {},
     "title": ""
    }
   },
   "source": [
    "now  we will join the dailyAndView with devbyhh to assign every program the numbers of views "
   ]
  },
  {
   "cell_type": "code",
   "execution_count": 0,
   "metadata": {
    "application/vnd.databricks.v1+cell": {
     "cellMetadata": {
      "byteLimit": 2048000,
      "rowLimit": 10000
     },
     "inputWidgets": {},
     "nuid": "e4145b0a-51a9-45fc-800c-ab493fdb5c35",
     "showTitle": false,
     "tableResultSettingsMap": {},
     "title": ""
    }
   },
   "outputs": [
    {
     "output_type": "display_data",
     "data": {
      "text/html": [
       "<style scoped>\n",
       "  .table-result-container {\n",
       "    max-height: 300px;\n",
       "    overflow: auto;\n",
       "  }\n",
       "  table, th, td {\n",
       "    border: 1px solid black;\n",
       "    border-collapse: collapse;\n",
       "  }\n",
       "  th, td {\n",
       "    padding: 5px;\n",
       "  }\n",
       "  th {\n",
       "    text-align: left;\n",
       "  }\n",
       "</style><div class='table-result-container'><table class='table-result'><thead style='background-color: white'><tr><th>device_id</th><th>prog_code</th><th>genre</th><th>household_id</th><th>household_size</th></tr></thead><tbody><tr><td>000041779852</td><td>EP000000260110</td><td>Sitcom</td><td>408756</td><td>2</td></tr><tr><td>0021be1e9cdc</td><td>EP000000260110</td><td>Sitcom</td><td>58579</td><td>1</td></tr><tr><td>44e08ee2164a</td><td>EP000000260110</td><td>Sitcom</td><td>3869126</td><td>2</td></tr><tr><td>000000af852d</td><td>EP000000260110</td><td>Sitcom</td><td>3657702</td><td>6</td></tr><tr><td>000004b0bc5f</td><td>EP000000260110</td><td>Sitcom</td><td>3633287</td><td>3</td></tr><tr><td>000010572a4a</td><td>EP000000260110</td><td>Sitcom</td><td>3616528</td><td>3</td></tr><tr><td>00001078994a</td><td>EP000000260110</td><td>Sitcom</td><td>3671153</td><td>1</td></tr><tr><td>000015cb6d27</td><td>EP000000260110</td><td>Sitcom</td><td>3637273</td><td>4</td></tr><tr><td>000f21441fdc</td><td>EP000000260110</td><td>Sitcom</td><td>3226666</td><td>3</td></tr><tr><td>001692e3f81c</td><td>EP000000260110</td><td>Sitcom</td><td>2652026</td><td>1</td></tr></tbody></table></div>"
      ]
     },
     "metadata": {
      "application/vnd.databricks.v1+output": {
       "addedWidgets": {},
       "aggData": [],
       "aggError": "",
       "aggOverflow": false,
       "aggSchema": [],
       "aggSeriesLimitReached": false,
       "aggType": "",
       "arguments": {},
       "columnCustomDisplayInfos": {},
       "data": [
        [
         "000041779852",
         "EP000000260110",
         "Sitcom",
         "408756",
         2
        ],
        [
         "0021be1e9cdc",
         "EP000000260110",
         "Sitcom",
         "58579",
         1
        ],
        [
         "44e08ee2164a",
         "EP000000260110",
         "Sitcom",
         "3869126",
         2
        ],
        [
         "000000af852d",
         "EP000000260110",
         "Sitcom",
         "3657702",
         6
        ],
        [
         "000004b0bc5f",
         "EP000000260110",
         "Sitcom",
         "3633287",
         3
        ],
        [
         "000010572a4a",
         "EP000000260110",
         "Sitcom",
         "3616528",
         3
        ],
        [
         "00001078994a",
         "EP000000260110",
         "Sitcom",
         "3671153",
         1
        ],
        [
         "000015cb6d27",
         "EP000000260110",
         "Sitcom",
         "3637273",
         4
        ],
        [
         "000f21441fdc",
         "EP000000260110",
         "Sitcom",
         "3226666",
         3
        ],
        [
         "001692e3f81c",
         "EP000000260110",
         "Sitcom",
         "2652026",
         1
        ]
       ],
       "datasetInfos": [],
       "dbfsResultPath": null,
       "isJsonSchema": true,
       "metadata": {},
       "overflow": false,
       "plotOptions": {
        "customPlotOptions": {},
        "displayType": "table",
        "pivotAggregation": null,
        "pivotColumns": null,
        "xColumns": null,
        "yColumns": null
       },
       "removedWidgets": [],
       "schema": [
        {
         "metadata": "{}",
         "name": "device_id",
         "type": "\"string\""
        },
        {
         "metadata": "{}",
         "name": "prog_code",
         "type": "\"string\""
        },
        {
         "metadata": "{}",
         "name": "genre",
         "type": "\"string\""
        },
        {
         "metadata": "{}",
         "name": "household_id",
         "type": "\"string\""
        },
        {
         "metadata": "{}",
         "name": "household_size",
         "type": "\"integer\""
        }
       ],
       "type": "table"
      }
     },
     "output_type": "display_data"
    }
   ],
   "source": [
    "hhAndProg = dailyAndView.join(devByhh,'device_id',how = 'inner')\n",
    "display(hhAndProg.limit(10))"
   ]
  },
  {
   "cell_type": "code",
   "execution_count": 0,
   "metadata": {
    "application/vnd.databricks.v1+cell": {
     "cellMetadata": {
      "byteLimit": 2048000,
      "rowLimit": 10000
     },
     "inputWidgets": {},
     "nuid": "7672fafa-33e3-432d-9615-6a7d82626dd5",
     "showTitle": false,
     "tableResultSettingsMap": {},
     "title": ""
    }
   },
   "outputs": [
    {
     "output_type": "display_data",
     "data": {
      "text/html": [
       "<style scoped>\n",
       "  .table-result-container {\n",
       "    max-height: 300px;\n",
       "    overflow: auto;\n",
       "  }\n",
       "  table, th, td {\n",
       "    border: 1px solid black;\n",
       "    border-collapse: collapse;\n",
       "  }\n",
       "  th, td {\n",
       "    padding: 5px;\n",
       "  }\n",
       "  th {\n",
       "    text-align: left;\n",
       "  }\n",
       "</style><div class='table-result-container'><table class='table-result'><thead style='background-color: white'><tr><th>household_id</th><th>device_id</th><th>prog_code</th><th>household_size</th><th>genre</th></tr></thead><tbody><tr><td>408756</td><td>000041779852</td><td>EP000000260110</td><td>2</td><td>Sitcom</td></tr><tr><td>58579</td><td>0021be1e9cdc</td><td>EP000000260110</td><td>1</td><td>Sitcom</td></tr><tr><td>3869126</td><td>44e08ee2164a</td><td>EP000000260110</td><td>2</td><td>Sitcom</td></tr><tr><td>3657702</td><td>000000af852d</td><td>EP000000260110</td><td>6</td><td>Sitcom</td></tr><tr><td>3633287</td><td>000004b0bc5f</td><td>EP000000260110</td><td>3</td><td>Sitcom</td></tr><tr><td>3616528</td><td>000010572a4a</td><td>EP000000260110</td><td>3</td><td>Sitcom</td></tr><tr><td>3671153</td><td>00001078994a</td><td>EP000000260110</td><td>1</td><td>Sitcom</td></tr><tr><td>3637273</td><td>000015cb6d27</td><td>EP000000260110</td><td>4</td><td>Sitcom</td></tr><tr><td>3226666</td><td>000f21441fdc</td><td>EP000000260110</td><td>3</td><td>Sitcom</td></tr><tr><td>2652026</td><td>001692e3f81c</td><td>EP000000260110</td><td>1</td><td>Sitcom</td></tr></tbody></table></div>"
      ]
     },
     "metadata": {
      "application/vnd.databricks.v1+output": {
       "addedWidgets": {},
       "aggData": [],
       "aggError": "",
       "aggOverflow": false,
       "aggSchema": [],
       "aggSeriesLimitReached": false,
       "aggType": "",
       "arguments": {},
       "columnCustomDisplayInfos": {},
       "data": [
        [
         "408756",
         "000041779852",
         "EP000000260110",
         2,
         "Sitcom"
        ],
        [
         "58579",
         "0021be1e9cdc",
         "EP000000260110",
         1,
         "Sitcom"
        ],
        [
         "3869126",
         "44e08ee2164a",
         "EP000000260110",
         2,
         "Sitcom"
        ],
        [
         "3657702",
         "000000af852d",
         "EP000000260110",
         6,
         "Sitcom"
        ],
        [
         "3633287",
         "000004b0bc5f",
         "EP000000260110",
         3,
         "Sitcom"
        ],
        [
         "3616528",
         "000010572a4a",
         "EP000000260110",
         3,
         "Sitcom"
        ],
        [
         "3671153",
         "00001078994a",
         "EP000000260110",
         1,
         "Sitcom"
        ],
        [
         "3637273",
         "000015cb6d27",
         "EP000000260110",
         4,
         "Sitcom"
        ],
        [
         "3226666",
         "000f21441fdc",
         "EP000000260110",
         3,
         "Sitcom"
        ],
        [
         "2652026",
         "001692e3f81c",
         "EP000000260110",
         1,
         "Sitcom"
        ]
       ],
       "datasetInfos": [],
       "dbfsResultPath": null,
       "isJsonSchema": true,
       "metadata": {},
       "overflow": false,
       "plotOptions": {
        "customPlotOptions": {},
        "displayType": "table",
        "pivotAggregation": null,
        "pivotColumns": null,
        "xColumns": null,
        "yColumns": null
       },
       "removedWidgets": [],
       "schema": [
        {
         "metadata": "{}",
         "name": "household_id",
         "type": "\"string\""
        },
        {
         "metadata": "{}",
         "name": "device_id",
         "type": "\"string\""
        },
        {
         "metadata": "{}",
         "name": "prog_code",
         "type": "\"string\""
        },
        {
         "metadata": "{}",
         "name": "household_size",
         "type": "\"integer\""
        },
        {
         "metadata": "{}",
         "name": "genre",
         "type": "\"string\""
        }
       ],
       "type": "table"
      }
     },
     "output_type": "display_data"
    }
   ],
   "source": [
    "\n",
    "hpr_split = hhAndProg.withColumn(\"genre_array\", split(hhAndProg[\"genre\"], \",\"))\n",
    "\n",
    "# explode the array into multiple rows\n",
    "hpr_exploded = hpr_split.select('household_id', 'device_id', 'prog_code', 'household_size', explode(\"genre_array\").alias(\"genre\"))\n",
    "\n",
    "display(hpr_exploded.limit(10))"
   ]
  },
  {
   "cell_type": "markdown",
   "metadata": {
    "application/vnd.databricks.v1+cell": {
     "cellMetadata": {
      "byteLimit": 2048000,
      "rowLimit": 10000
     },
     "inputWidgets": {},
     "nuid": "b980e52c-e680-46f4-8032-5dfdf1f9b968",
     "showTitle": false,
     "tableResultSettingsMap": {},
     "title": ""
    }
   },
   "source": [
    "the assumption in the question is that wenever a device in a household sees a program then everyone in the household saw it \n",
    "so if the same program viewed from several devices we have to make sure we won't count them again. moreover in this task we classify by the exposure to a genre so it does not matter if a family is watching only one program with some genre or 10 programs with this exsact genre the contribiution of the two house holds to the popularity of the genre is the same\n",
    "so for every household we are going to drop all duplications of household and genre\n",
    " "
   ]
  },
  {
   "cell_type": "code",
   "execution_count": 0,
   "metadata": {
    "application/vnd.databricks.v1+cell": {
     "cellMetadata": {
      "byteLimit": 2048000,
      "rowLimit": 10000
     },
     "inputWidgets": {},
     "nuid": "0836b283-4754-4435-b707-63158c4793ac",
     "showTitle": false,
     "tableResultSettingsMap": {},
     "title": ""
    }
   },
   "outputs": [],
   "source": [
    "#making sure that household contributes to genre only once\n",
    "hpr_clean = hpr_exploded.dropDuplicates(['genre','household_id']).select(['household_size','genre'])"
   ]
  },
  {
   "cell_type": "markdown",
   "metadata": {
    "application/vnd.databricks.v1+cell": {
     "cellMetadata": {
      "byteLimit": 2048000,
      "rowLimit": 10000
     },
     "inputWidgets": {},
     "nuid": "3608524d-7a83-4447-b7e1-291654ae638d",
     "showTitle": false,
     "tableResultSettingsMap": {},
     "title": ""
    }
   },
   "source": [
    "now we are going to aggrigate by genre sum the nuber of viewers in each one and take the top 5 \n",
    "**finnaly we display the result as requiered**"
   ]
  },
  {
   "cell_type": "code",
   "execution_count": 0,
   "metadata": {
    "application/vnd.databricks.v1+cell": {
     "cellMetadata": {
      "byteLimit": 2048000,
      "rowLimit": 10000
     },
     "inputWidgets": {},
     "nuid": "1bbe5824-b046-4761-927e-55a94459d8b4",
     "showTitle": false,
     "tableResultSettingsMap": {},
     "title": ""
    }
   },
   "outputs": [
    {
     "output_type": "display_data",
     "data": {
      "text/html": [
       "<style scoped>\n",
       "  .table-result-container {\n",
       "    max-height: 300px;\n",
       "    overflow: auto;\n",
       "  }\n",
       "  table, th, td {\n",
       "    border: 1px solid black;\n",
       "    border-collapse: collapse;\n",
       "  }\n",
       "  th, td {\n",
       "    padding: 5px;\n",
       "  }\n",
       "  th {\n",
       "    text-align: left;\n",
       "  }\n",
       "</style><div class='table-result-container'><table class='table-result'><thead style='background-color: white'><tr><th>genre</th></tr></thead><tbody><tr><td>News</td></tr><tr><td>Reality</td></tr><tr><td>Talk</td></tr><tr><td>Comedy</td></tr><tr><td>Sitcom</td></tr></tbody></table></div>"
      ]
     },
     "metadata": {
      "application/vnd.databricks.v1+output": {
       "addedWidgets": {},
       "aggData": [],
       "aggError": "",
       "aggOverflow": false,
       "aggSchema": [],
       "aggSeriesLimitReached": false,
       "aggType": "",
       "arguments": {},
       "columnCustomDisplayInfos": {},
       "data": [
        [
         "News"
        ],
        [
         "Reality"
        ],
        [
         "Talk"
        ],
        [
         "Comedy"
        ],
        [
         "Sitcom"
        ]
       ],
       "datasetInfos": [],
       "dbfsResultPath": null,
       "isJsonSchema": true,
       "metadata": {},
       "overflow": false,
       "plotOptions": {
        "customPlotOptions": {},
        "displayType": "table",
        "pivotAggregation": null,
        "pivotColumns": null,
        "xColumns": null,
        "yColumns": null
       },
       "removedWidgets": [],
       "schema": [
        {
         "metadata": "{}",
         "name": "genre",
         "type": "\"string\""
        }
       ],
       "type": "table"
      }
     },
     "output_type": "display_data"
    },
    {
     "output_type": "stream",
     "name": "stdout",
     "output_type": "stream",
     "text": [
      "2775929\n"
     ]
    }
   ],
   "source": [
    "\n",
    "#aggrigating by genre\n",
    "hpr_res = (hpr_clean.groupBy('genre').agg(sum('household_size').alias('sum_household_size')).orderBy('sum_household_size', ascending=False).limit(5))\n",
    "\n",
    "#computing the number of people affected by the top 5 genres \n",
    "sum_res = hpr_res.agg(sum('sum_household_size').alias('total_top5')).collect()[0]['total_top5']\n",
    "#displaing only the genres\n",
    "hpr_res = hpr_res.select('genre')\n",
    "display(hpr_res)\n",
    "print(sum_res)\n"
   ]
  },
  {
   "cell_type": "markdown",
   "metadata": {
    "application/vnd.databricks.v1+cell": {
     "cellMetadata": {
      "byteLimit": 2048000,
      "rowLimit": 10000
     },
     "inputWidgets": {},
     "nuid": "57de4ee6-6d5d-4ce3-bfff-2086547d7eb5",
     "showTitle": false,
     "tableResultSettingsMap": {},
     "title": ""
    }
   },
   "source": [
    "### the top 5 most popular DMAs"
   ]
  },
  {
   "cell_type": "markdown",
   "metadata": {
    "application/vnd.databricks.v1+cell": {
     "cellMetadata": {
      "byteLimit": 2048000,
      "rowLimit": 10000
     },
     "inputWidgets": {},
     "nuid": "e01e1696-7ca2-4415-9264-ef342317e2a5",
     "showTitle": false,
     "tableResultSettingsMap": {},
     "title": ""
    }
   },
   "source": [
    "first we will create a table that showes the number of devices in different DMA's\n",
    "and picking the 5 with the most devices"
   ]
  },
  {
   "cell_type": "code",
   "execution_count": 0,
   "metadata": {
    "application/vnd.databricks.v1+cell": {
     "cellMetadata": {
      "byteLimit": 2048000,
      "rowLimit": 10000
     },
     "inputWidgets": {},
     "nuid": "041351f4-ecad-4983-bad2-b0f23f0edc52",
     "showTitle": false,
     "tableResultSettingsMap": {},
     "title": ""
    }
   },
   "outputs": [
    {
     "output_type": "display_data",
     "data": {
      "text/html": [
       "<style scoped>\n",
       "  .table-result-container {\n",
       "    max-height: 300px;\n",
       "    overflow: auto;\n",
       "  }\n",
       "  table, th, td {\n",
       "    border: 1px solid black;\n",
       "    border-collapse: collapse;\n",
       "  }\n",
       "  th, td {\n",
       "    padding: 5px;\n",
       "  }\n",
       "  th {\n",
       "    text-align: left;\n",
       "  }\n",
       "</style><div class='table-result-container'><table class='table-result'><thead style='background-color: white'><tr><th>dma</th><th>count</th></tr></thead><tbody><tr><td>Charleston-Huntington</td><td>44803</td></tr><tr><td>Wilkes Barre-Scranton-Hztn</td><td>43561</td></tr><tr><td>Seattle-Tacoma</td><td>29892</td></tr><tr><td>Toledo</td><td>27169</td></tr><tr><td>Little Rock-Pine Bluff</td><td>27133</td></tr></tbody></table></div>"
      ]
     },
     "metadata": {
      "application/vnd.databricks.v1+output": {
       "addedWidgets": {},
       "aggData": [],
       "aggError": "",
       "aggOverflow": false,
       "aggSchema": [],
       "aggSeriesLimitReached": false,
       "aggType": "",
       "arguments": {},
       "columnCustomDisplayInfos": {},
       "data": [
        [
         "Charleston-Huntington",
         44803
        ],
        [
         "Wilkes Barre-Scranton-Hztn",
         43561
        ],
        [
         "Seattle-Tacoma",
         29892
        ],
        [
         "Toledo",
         27169
        ],
        [
         "Little Rock-Pine Bluff",
         27133
        ]
       ],
       "datasetInfos": [],
       "dbfsResultPath": null,
       "isJsonSchema": true,
       "metadata": {},
       "overflow": false,
       "plotOptions": {
        "customPlotOptions": {},
        "displayType": "table",
        "pivotAggregation": null,
        "pivotColumns": null,
        "xColumns": null,
        "yColumns": null
       },
       "removedWidgets": [],
       "schema": [
        {
         "metadata": "{}",
         "name": "dma",
         "type": "\"string\""
        },
        {
         "metadata": "{}",
         "name": "count",
         "type": "\"long\""
        }
       ],
       "type": "table"
      }
     },
     "output_type": "display_data"
    }
   ],
   "source": [
    "ref_data_noNull = ref_data.na.drop(subset=['dma','dma_code','household_id','device_id'])\n",
    "ref_no_dupl = ref_data_noNull.select(['device_id','dma','dma_code','household_id']).dropDuplicates(['device_id','dma'])\n",
    "ref_clean = ref_data.select(['device_id','dma','dma_code','household_id','device_id'])\n",
    "ref_res = ref_clean.groupBy('dma').count().alias('count').orderBy('count', ascending=False).limit(5)\n",
    "display(ref_res)"
   ]
  },
  {
   "cell_type": "markdown",
   "metadata": {
    "application/vnd.databricks.v1+cell": {
     "cellMetadata": {
      "byteLimit": 2048000,
      "rowLimit": 10000
     },
     "inputWidgets": {},
     "nuid": "6682db0f-9a1b-4f5c-a4bd-55a193cd98d5",
     "showTitle": false,
     "tableResultSettingsMap": {},
     "title": ""
    }
   },
   "source": [
    "now we need to know  how many people we will save if we will choose this devices.\n",
    "so we will make another table that showes the population of every DMA join it with the ref_res table and then sum the number of people, display ref_res, and print the sum"
   ]
  },
  {
   "cell_type": "code",
   "execution_count": 0,
   "metadata": {
    "application/vnd.databricks.v1+cell": {
     "cellMetadata": {
      "byteLimit": 2048000,
      "rowLimit": 10000
     },
     "inputWidgets": {},
     "nuid": "f264c4a6-b2df-4d18-b36d-57f447d96ac6",
     "showTitle": false,
     "tableResultSettingsMap": {},
     "title": ""
    }
   },
   "outputs": [
    {
     "output_type": "display_data",
     "data": {
      "text/html": [
       "<style scoped>\n",
       "  .table-result-container {\n",
       "    max-height: 300px;\n",
       "    overflow: auto;\n",
       "  }\n",
       "  table, th, td {\n",
       "    border: 1px solid black;\n",
       "    border-collapse: collapse;\n",
       "  }\n",
       "  th, td {\n",
       "    padding: 5px;\n",
       "  }\n",
       "  th {\n",
       "    text-align: left;\n",
       "  }\n",
       "</style><div class='table-result-container'><table class='table-result'><thead style='background-color: white'><tr><th>dma</th><th>sum(household_size)</th><th>count</th></tr></thead><tbody><tr><td>Little Rock-Pine Bluff</td><td>31652</td><td>27133</td></tr><tr><td>Seattle-Tacoma</td><td>35124</td><td>29892</td></tr><tr><td>Toledo</td><td>24108</td><td>27169</td></tr><tr><td>Wilkes Barre-Scranton-Hztn</td><td>42844</td><td>43561</td></tr><tr><td>Charleston-Huntington</td><td>60656</td><td>44803</td></tr></tbody></table></div>"
      ]
     },
     "metadata": {
      "application/vnd.databricks.v1+output": {
       "addedWidgets": {},
       "aggData": [],
       "aggError": "",
       "aggOverflow": false,
       "aggSchema": [],
       "aggSeriesLimitReached": false,
       "aggType": "",
       "arguments": {},
       "columnCustomDisplayInfos": {},
       "data": [
        [
         "Little Rock-Pine Bluff",
         31652,
         27133
        ],
        [
         "Seattle-Tacoma",
         35124,
         29892
        ],
        [
         "Toledo",
         24108,
         27169
        ],
        [
         "Wilkes Barre-Scranton-Hztn",
         42844,
         43561
        ],
        [
         "Charleston-Huntington",
         60656,
         44803
        ]
       ],
       "datasetInfos": [],
       "dbfsResultPath": null,
       "isJsonSchema": true,
       "metadata": {},
       "overflow": false,
       "plotOptions": {
        "customPlotOptions": {},
        "displayType": "table",
        "pivotAggregation": null,
        "pivotColumns": null,
        "xColumns": null,
        "yColumns": null
       },
       "removedWidgets": [],
       "schema": [
        {
         "metadata": "{}",
         "name": "dma",
         "type": "\"string\""
        },
        {
         "metadata": "{}",
         "name": "sum(household_size)",
         "type": "\"long\""
        },
        {
         "metadata": "{}",
         "name": "count",
         "type": "\"long\""
        }
       ],
       "type": "table"
      }
     },
     "output_type": "display_data"
    }
   ],
   "source": [
    "dmaAndSize = hhAndSize.join(ref_no_dupl,'household_id', how = 'inner')\n",
    "dmaAndSize_clean = dmaAndSize.dropDuplicates(['household_id','dma']).select(['household_size','dma'])\n",
    "dmaAndSize_final = dmaAndSize_clean.groupBy('dma').sum('household_size').alias('dma_size')\n",
    "dma_popularAndSize = dmaAndSize_final.join(ref_res,'dma',how = 'inner')\n",
    "display(dma_popularAndSize)"
   ]
  },
  {
   "cell_type": "markdown",
   "metadata": {
    "application/vnd.databricks.v1+cell": {
     "cellMetadata": {
      "byteLimit": 2048000,
      "rowLimit": 10000
     },
     "inputWidgets": {},
     "nuid": "86a7c8a2-1186-4d2c-be44-ebe10e7634c2",
     "showTitle": false,
     "tableResultSettingsMap": {},
     "title": ""
    }
   },
   "source": [
    "**displaying final results**"
   ]
  },
  {
   "cell_type": "code",
   "execution_count": 0,
   "metadata": {
    "application/vnd.databricks.v1+cell": {
     "cellMetadata": {
      "byteLimit": 2048000,
      "rowLimit": 10000
     },
     "inputWidgets": {},
     "nuid": "f5413356-c885-4d5a-af7b-07ab5e8db310",
     "showTitle": false,
     "tableResultSettingsMap": {},
     "title": ""
    }
   },
   "outputs": [
    {
     "output_type": "display_data",
     "data": {
      "text/html": [
       "<style scoped>\n",
       "  .table-result-container {\n",
       "    max-height: 300px;\n",
       "    overflow: auto;\n",
       "  }\n",
       "  table, th, td {\n",
       "    border: 1px solid black;\n",
       "    border-collapse: collapse;\n",
       "  }\n",
       "  th, td {\n",
       "    padding: 5px;\n",
       "  }\n",
       "  th {\n",
       "    text-align: left;\n",
       "  }\n",
       "</style><div class='table-result-container'><table class='table-result'><thead style='background-color: white'><tr><th>dma</th></tr></thead><tbody><tr><td>Charleston-Huntington</td></tr><tr><td>Wilkes Barre-Scranton-Hztn</td></tr><tr><td>Seattle-Tacoma</td></tr><tr><td>Toledo</td></tr><tr><td>Little Rock-Pine Bluff</td></tr></tbody></table></div>"
      ]
     },
     "metadata": {
      "application/vnd.databricks.v1+output": {
       "addedWidgets": {},
       "aggData": [],
       "aggError": "",
       "aggOverflow": false,
       "aggSchema": [],
       "aggSeriesLimitReached": false,
       "aggType": "",
       "arguments": {},
       "columnCustomDisplayInfos": {},
       "data": [
        [
         "Charleston-Huntington"
        ],
        [
         "Wilkes Barre-Scranton-Hztn"
        ],
        [
         "Seattle-Tacoma"
        ],
        [
         "Toledo"
        ],
        [
         "Little Rock-Pine Bluff"
        ]
       ],
       "datasetInfos": [],
       "dbfsResultPath": null,
       "isJsonSchema": true,
       "metadata": {},
       "overflow": false,
       "plotOptions": {
        "customPlotOptions": {},
        "displayType": "table",
        "pivotAggregation": null,
        "pivotColumns": null,
        "xColumns": null,
        "yColumns": null
       },
       "removedWidgets": [],
       "schema": [
        {
         "metadata": "{}",
         "name": "dma",
         "type": "\"string\""
        }
       ],
       "type": "table"
      }
     },
     "output_type": "display_data"
    },
    {
     "output_type": "stream",
     "name": "stdout",
     "output_type": "stream",
     "text": [
      "194384\n"
     ]
    }
   ],
   "source": [
    "#computing the number of people affected by the top 5 genres \n",
    "res_sum = dma_popularAndSize.agg(sum('sum(household_size)').alias('total_top5')).collect()[0]['total_top5']\n",
    "ref_res = ref_res.orderBy('count', ascending=False).limit(5).select('dma')\n",
    "display(ref_res)\n",
    "print(res_sum)\n"
   ]
  },
  {
   "cell_type": "markdown",
   "metadata": {
    "application/vnd.databricks.v1+cell": {
     "cellMetadata": {},
     "inputWidgets": {},
     "nuid": "bf3ddfe1-e456-48b0-a7f7-526b0e5cce09",
     "showTitle": false,
     "tableResultSettingsMap": {},
     "title": ""
    }
   },
   "source": []
  },
  {
   "cell_type": "markdown",
   "metadata": {
    "application/vnd.databricks.v1+cell": {
     "cellMetadata": {
      "byteLimit": 2048000,
      "rowLimit": 10000
     },
     "inputWidgets": {},
     "nuid": "19daa86c-0ab6-498a-8940-2a83becc69db",
     "showTitle": false,
     "tableResultSettingsMap": {},
     "title": ""
    }
   },
   "source": [
    "## top 5 most popular programs"
   ]
  },
  {
   "cell_type": "markdown",
   "metadata": {
    "application/vnd.databricks.v1+cell": {
     "cellMetadata": {
      "byteLimit": 2048000,
      "rowLimit": 10000
     },
     "inputWidgets": {},
     "nuid": "b12c3881-ae4a-45b3-9197-325401853e35",
     "showTitle": false,
     "tableResultSettingsMap": {},
     "title": ""
    }
   },
   "source": [
    "first we need to create table that have only households with children and the size of the household"
   ]
  },
  {
   "cell_type": "code",
   "execution_count": 0,
   "metadata": {
    "application/vnd.databricks.v1+cell": {
     "cellMetadata": {
      "byteLimit": 2048000,
      "rowLimit": 10000
     },
     "inputWidgets": {},
     "nuid": "a6f8979a-5e04-43da-b984-3d020358768e",
     "showTitle": false,
     "tableResultSettingsMap": {},
     "title": ""
    }
   },
   "outputs": [
    {
     "output_type": "display_data",
     "data": {
      "text/html": [
       "<style scoped>\n",
       "  .table-result-container {\n",
       "    max-height: 300px;\n",
       "    overflow: auto;\n",
       "  }\n",
       "  table, th, td {\n",
       "    border: 1px solid black;\n",
       "    border-collapse: collapse;\n",
       "  }\n",
       "  th, td {\n",
       "    padding: 5px;\n",
       "  }\n",
       "  th {\n",
       "    text-align: left;\n",
       "  }\n",
       "</style><div class='table-result-container'><table class='table-result'><thead style='background-color: white'><tr><th>household_id</th><th>household_size</th></tr></thead><tbody><tr><td>28</td><td>3</td></tr><tr><td>85</td><td>2</td></tr><tr><td>98</td><td>3</td></tr><tr><td>122</td><td>3</td></tr><tr><td>177</td><td>5</td></tr><tr><td>210</td><td>3</td></tr><tr><td>228</td><td>3</td></tr><tr><td>237</td><td>3</td></tr><tr><td>238</td><td>2</td></tr><tr><td>241</td><td>4</td></tr></tbody></table></div>"
      ]
     },
     "metadata": {
      "application/vnd.databricks.v1+output": {
       "addedWidgets": {},
       "aggData": [],
       "aggError": "",
       "aggOverflow": false,
       "aggSchema": [],
       "aggSeriesLimitReached": false,
       "aggType": "",
       "arguments": {},
       "columnCustomDisplayInfos": {},
       "data": [
        [
         28,
         3
        ],
        [
         85,
         2
        ],
        [
         98,
         3
        ],
        [
         122,
         3
        ],
        [
         177,
         5
        ],
        [
         210,
         3
        ],
        [
         228,
         3
        ],
        [
         237,
         3
        ],
        [
         238,
         2
        ],
        [
         241,
         4
        ]
       ],
       "datasetInfos": [],
       "dbfsResultPath": null,
       "isJsonSchema": true,
       "metadata": {},
       "overflow": false,
       "plotOptions": {
        "customPlotOptions": {},
        "displayType": "table",
        "pivotAggregation": null,
        "pivotColumns": null,
        "xColumns": null,
        "yColumns": null
       },
       "removedWidgets": [],
       "schema": [
        {
         "metadata": "{}",
         "name": "household_id",
         "type": "\"integer\""
        },
        {
         "metadata": "{}",
         "name": "household_size",
         "type": "\"integer\""
        }
       ],
       "type": "table"
      }
     },
     "output_type": "display_data"
    }
   ],
   "source": [
    "#relating only to households with size\n",
    "clean_demo_df = demo_df.dropna(subset=['household_size'])\n",
    "#relating only to hh (households) with children in them (also dropping null values in those cols)\n",
    "hhWithChildren = clean_demo_df.filter(demo_df.presence_children == 'Y').select(['household_id','household_size'])\n",
    "display(hhWithChildren.limit(10))\n",
    "hhWithChildren_clean = hhWithChildren.dropDuplicates(['household_id'])"
   ]
  },
  {
   "cell_type": "markdown",
   "metadata": {
    "application/vnd.databricks.v1+cell": {
     "cellMetadata": {
      "byteLimit": 2048000,
      "rowLimit": 10000
     },
     "inputWidgets": {},
     "nuid": "7da07a48-77dd-4b05-a271-9999399c7433",
     "showTitle": false,
     "tableResultSettingsMap": {},
     "title": ""
    }
   },
   "source": [
    "now we will create another table that connects program titles with viewing by household (general)"
   ]
  },
  {
   "cell_type": "code",
   "execution_count": 0,
   "metadata": {
    "application/vnd.databricks.v1+cell": {
     "cellMetadata": {
      "byteLimit": 2048000,
      "rowLimit": 10000
     },
     "inputWidgets": {},
     "nuid": "56573a79-7e6e-4a64-b8b8-0497caad7e67",
     "showTitle": false,
     "tableResultSettingsMap": {},
     "title": ""
    }
   },
   "outputs": [
    {
     "output_type": "display_data",
     "data": {
      "text/html": [
       "<style scoped>\n",
       "  .table-result-container {\n",
       "    max-height: 300px;\n",
       "    overflow: auto;\n",
       "  }\n",
       "  table, th, td {\n",
       "    border: 1px solid black;\n",
       "    border-collapse: collapse;\n",
       "  }\n",
       "  th, td {\n",
       "    padding: 5px;\n",
       "  }\n",
       "  th {\n",
       "    text-align: left;\n",
       "  }\n",
       "</style><div class='table-result-container'><table class='table-result'><thead style='background-color: white'><tr><th>device_id</th><th>prog_code</th><th>title</th><th>household_id</th></tr></thead><tbody><tr><td>75000019049878e</td><td>EP000000510011</td><td>A Different World</td><td>2127351</td></tr><tr><td>75000019049878e</td><td>EP000000510011</td><td>A Different World</td><td>2127351</td></tr><tr><td>75000019049878e</td><td>EP000000510011</td><td>A Different World</td><td>2127351</td></tr><tr><td>75000019049878e</td><td>EP000000510011</td><td>A Different World</td><td>2127351</td></tr><tr><td>75000019049878e</td><td>EP000000510011</td><td>A Different World</td><td>2127351</td></tr><tr><td>75000019049878e</td><td>EP000000510011</td><td>A Different World</td><td>2127351</td></tr><tr><td>75000019049878e</td><td>EP000000510011</td><td>A Different World</td><td>2127351</td></tr><tr><td>75000019049878e</td><td>EP000000510011</td><td>A Different World</td><td>2127351</td></tr><tr><td>75000019049878e</td><td>EP000000510011</td><td>A Different World</td><td>2127351</td></tr><tr><td>75000019049878e</td><td>EP000000510011</td><td>A Different World</td><td>2127351</td></tr></tbody></table></div>"
      ]
     },
     "metadata": {
      "application/vnd.databricks.v1+output": {
       "addedWidgets": {},
       "aggData": [],
       "aggError": "",
       "aggOverflow": false,
       "aggSchema": [],
       "aggSeriesLimitReached": false,
       "aggType": "",
       "arguments": {},
       "columnCustomDisplayInfos": {},
       "data": [
        [
         "75000019049878e",
         "EP000000510011",
         "A Different World",
         "2127351"
        ],
        [
         "75000019049878e",
         "EP000000510011",
         "A Different World",
         "2127351"
        ],
        [
         "75000019049878e",
         "EP000000510011",
         "A Different World",
         "2127351"
        ],
        [
         "75000019049878e",
         "EP000000510011",
         "A Different World",
         "2127351"
        ],
        [
         "75000019049878e",
         "EP000000510011",
         "A Different World",
         "2127351"
        ],
        [
         "75000019049878e",
         "EP000000510011",
         "A Different World",
         "2127351"
        ],
        [
         "75000019049878e",
         "EP000000510011",
         "A Different World",
         "2127351"
        ],
        [
         "75000019049878e",
         "EP000000510011",
         "A Different World",
         "2127351"
        ],
        [
         "75000019049878e",
         "EP000000510011",
         "A Different World",
         "2127351"
        ],
        [
         "75000019049878e",
         "EP000000510011",
         "A Different World",
         "2127351"
        ]
       ],
       "datasetInfos": [],
       "dbfsResultPath": null,
       "isJsonSchema": true,
       "metadata": {},
       "overflow": false,
       "plotOptions": {
        "customPlotOptions": {},
        "displayType": "table",
        "pivotAggregation": null,
        "pivotColumns": null,
        "xColumns": null,
        "yColumns": null
       },
       "removedWidgets": [],
       "schema": [
        {
         "metadata": "{}",
         "name": "device_id",
         "type": "\"string\""
        },
        {
         "metadata": "{}",
         "name": "prog_code",
         "type": "\"string\""
        },
        {
         "metadata": "{}",
         "name": "title",
         "type": "\"string\""
        },
        {
         "metadata": "{}",
         "name": "household_id",
         "type": "\"string\""
        }
       ],
       "type": "table"
      }
     },
     "output_type": "display_data"
    }
   ],
   "source": [
    "#first step is to get the unique programs\n",
    "daily_clean = daily_prog_df.distinct()\n",
    "#second step is to take only the relevant columns before joining \n",
    "daily_title = daily_clean.select(['prog_code','title'])\n",
    "#third step is to join with the viewing data to associate the title with device id\n",
    "titleAndView = daily_title.join(viewing10m_df,'prog_code',how = 'inner')\n",
    "#fourth step is to take only the relevant columns before joining\n",
    "titleAndView = titleAndView.select(['prog_code','title','device_id'])\n",
    "devByhhNoSize = devByhh.drop('household_size')\n",
    "#fifth step is to join with devByhhNoSize to associate the title with household id\n",
    "hhAndtitle = titleAndView.join(devByhhNoSize,'device_id',how = 'inner')\n",
    "display(hhAndtitle.limit(10))\n",
    "\n"
   ]
  },
  {
   "cell_type": "code",
   "execution_count": 0,
   "metadata": {
    "application/vnd.databricks.v1+cell": {
     "cellMetadata": {
      "byteLimit": 2048000,
      "rowLimit": 10000
     },
     "inputWidgets": {},
     "nuid": "3b0a1fd9-236d-4077-9a50-fbddef15f2cf",
     "showTitle": false,
     "tableResultSettingsMap": {},
     "title": ""
    }
   },
   "outputs": [],
   "source": [
    "#drop null values from title\n",
    "hhAndtitle = hhAndtitle.dropna(subset=['title'])"
   ]
  },
  {
   "cell_type": "markdown",
   "metadata": {
    "application/vnd.databricks.v1+cell": {
     "cellMetadata": {
      "byteLimit": 2048000,
      "rowLimit": 10000
     },
     "inputWidgets": {},
     "nuid": "216c6936-d70e-4bab-b682-c3713201b52d",
     "showTitle": false,
     "tableResultSettingsMap": {},
     "title": ""
    }
   },
   "source": [
    "now to get the first part of this task and display the 5 most popular programs\n",
    "by household with children.\n",
    "so first we are going to join hhAndtitle with hhWithChildren so all the housholds that we are considering are household with children\n"
   ]
  },
  {
   "cell_type": "code",
   "execution_count": 0,
   "metadata": {
    "application/vnd.databricks.v1+cell": {
     "cellMetadata": {
      "byteLimit": 2048000,
      "rowLimit": 10000
     },
     "inputWidgets": {},
     "nuid": "f5a2680c-c937-435b-9f74-13f5cea3fd03",
     "showTitle": false,
     "tableResultSettingsMap": {},
     "title": ""
    }
   },
   "outputs": [
    {
     "output_type": "display_data",
     "data": {
      "text/html": [
       "<style scoped>\n",
       "  .table-result-container {\n",
       "    max-height: 300px;\n",
       "    overflow: auto;\n",
       "  }\n",
       "  table, th, td {\n",
       "    border: 1px solid black;\n",
       "    border-collapse: collapse;\n",
       "  }\n",
       "  th, td {\n",
       "    padding: 5px;\n",
       "  }\n",
       "  th {\n",
       "    text-align: left;\n",
       "  }\n",
       "</style><div class='table-result-container'><table class='table-result'><thead style='background-color: white'><tr><th>household_id</th><th>device_id</th><th>prog_code</th><th>title</th><th>household_size</th></tr></thead><tbody><tr><td>2127351</td><td>75000019049878e</td><td>EP000000510011</td><td>A Different World</td><td>3</td></tr><tr><td>2127351</td><td>75000019049878e</td><td>EP000000510011</td><td>A Different World</td><td>3</td></tr><tr><td>2127351</td><td>75000019049878e</td><td>EP000000510011</td><td>A Different World</td><td>3</td></tr><tr><td>2127351</td><td>75000019049878e</td><td>EP000000510011</td><td>A Different World</td><td>3</td></tr><tr><td>2127351</td><td>75000019049878e</td><td>EP000000510011</td><td>A Different World</td><td>3</td></tr><tr><td>2127351</td><td>75000019049878e</td><td>EP000000510011</td><td>A Different World</td><td>3</td></tr><tr><td>2127351</td><td>75000019049878e</td><td>EP000000510011</td><td>A Different World</td><td>3</td></tr><tr><td>2127351</td><td>75000019049878e</td><td>EP000000510011</td><td>A Different World</td><td>3</td></tr><tr><td>2127351</td><td>75000019049878e</td><td>EP000000510011</td><td>A Different World</td><td>3</td></tr><tr><td>2127351</td><td>75000019049878e</td><td>EP000000510011</td><td>A Different World</td><td>3</td></tr></tbody></table></div>"
      ]
     },
     "metadata": {
      "application/vnd.databricks.v1+output": {
       "addedWidgets": {},
       "aggData": [],
       "aggError": "",
       "aggOverflow": false,
       "aggSchema": [],
       "aggSeriesLimitReached": false,
       "aggType": "",
       "arguments": {},
       "columnCustomDisplayInfos": {},
       "data": [
        [
         "2127351",
         "75000019049878e",
         "EP000000510011",
         "A Different World",
         3
        ],
        [
         "2127351",
         "75000019049878e",
         "EP000000510011",
         "A Different World",
         3
        ],
        [
         "2127351",
         "75000019049878e",
         "EP000000510011",
         "A Different World",
         3
        ],
        [
         "2127351",
         "75000019049878e",
         "EP000000510011",
         "A Different World",
         3
        ],
        [
         "2127351",
         "75000019049878e",
         "EP000000510011",
         "A Different World",
         3
        ],
        [
         "2127351",
         "75000019049878e",
         "EP000000510011",
         "A Different World",
         3
        ],
        [
         "2127351",
         "75000019049878e",
         "EP000000510011",
         "A Different World",
         3
        ],
        [
         "2127351",
         "75000019049878e",
         "EP000000510011",
         "A Different World",
         3
        ],
        [
         "2127351",
         "75000019049878e",
         "EP000000510011",
         "A Different World",
         3
        ],
        [
         "2127351",
         "75000019049878e",
         "EP000000510011",
         "A Different World",
         3
        ]
       ],
       "datasetInfos": [],
       "dbfsResultPath": null,
       "isJsonSchema": true,
       "metadata": {},
       "overflow": false,
       "plotOptions": {
        "customPlotOptions": {},
        "displayType": "table",
        "pivotAggregation": null,
        "pivotColumns": null,
        "xColumns": null,
        "yColumns": null
       },
       "removedWidgets": [],
       "schema": [
        {
         "metadata": "{}",
         "name": "household_id",
         "type": "\"string\""
        },
        {
         "metadata": "{}",
         "name": "device_id",
         "type": "\"string\""
        },
        {
         "metadata": "{}",
         "name": "prog_code",
         "type": "\"string\""
        },
        {
         "metadata": "{}",
         "name": "title",
         "type": "\"string\""
        },
        {
         "metadata": "{}",
         "name": "household_size",
         "type": "\"integer\""
        }
       ],
       "type": "table"
      }
     },
     "output_type": "display_data"
    }
   ],
   "source": [
    "#joining hhAndtitle with hhWithChildren_clean to get the number of children watching each title\n",
    "hhWithChildren_title = hhAndtitle.join(hhWithChildren_clean,'household_id',how = 'inner')\n",
    "display(hhWithChildren_title.limit(10))"
   ]
  },
  {
   "cell_type": "markdown",
   "metadata": {
    "application/vnd.databricks.v1+cell": {
     "cellMetadata": {
      "byteLimit": 2048000,
      "rowLimit": 10000
     },
     "inputWidgets": {},
     "nuid": "f3d653a3-d3fb-4e68-ad93-d1d641da0f03",
     "showTitle": false,
     "tableResultSettingsMap": {},
     "title": ""
    }
   },
   "source": [
    "then we make sure that every household cotributes only once at most for every title "
   ]
  },
  {
   "cell_type": "code",
   "execution_count": 0,
   "metadata": {
    "application/vnd.databricks.v1+cell": {
     "cellMetadata": {
      "byteLimit": 2048000,
      "rowLimit": 10000
     },
     "inputWidgets": {},
     "nuid": "66aa62a4-8cc3-444a-a3d7-30da6ff815ee",
     "showTitle": false,
     "tableResultSettingsMap": {},
     "title": ""
    }
   },
   "outputs": [],
   "source": [
    "hhWithChildren_title = hhWithChildren_title.dropDuplicates(['household_id','title'])"
   ]
  },
  {
   "cell_type": "markdown",
   "metadata": {
    "application/vnd.databricks.v1+cell": {
     "cellMetadata": {
      "byteLimit": 2048000,
      "rowLimit": 10000
     },
     "inputWidgets": {},
     "nuid": "c42906f0-fde6-4482-9f8c-fc526c65b2c0",
     "showTitle": false,
     "tableResultSettingsMap": {},
     "title": ""
    }
   },
   "source": [
    "then we aggrigate by title and then sum by household size and getting the top 5"
   ]
  },
  {
   "cell_type": "code",
   "execution_count": 0,
   "metadata": {
    "application/vnd.databricks.v1+cell": {
     "cellMetadata": {
      "byteLimit": 2048000,
      "rowLimit": 10000
     },
     "inputWidgets": {},
     "nuid": "69d5cf73-ac0d-43e8-b9a4-28f824c1e82d",
     "showTitle": false,
     "tableResultSettingsMap": {},
     "title": ""
    }
   },
   "outputs": [
    {
     "output_type": "display_data",
     "data": {
      "text/html": [
       "<style scoped>\n",
       "  .table-result-container {\n",
       "    max-height: 300px;\n",
       "    overflow: auto;\n",
       "  }\n",
       "  table, th, td {\n",
       "    border: 1px solid black;\n",
       "    border-collapse: collapse;\n",
       "  }\n",
       "  th, td {\n",
       "    padding: 5px;\n",
       "  }\n",
       "  th {\n",
       "    text-align: left;\n",
       "  }\n",
       "</style><div class='table-result-container'><table class='table-result'><thead style='background-color: white'><tr><th>title</th></tr></thead><tbody><tr><td>College Basketball</td></tr><tr><td>Paid Programming</td></tr><tr><td>SportsCenter</td></tr><tr><td>The Big Bang Theory</td></tr><tr><td>Today</td></tr></tbody></table></div>"
      ]
     },
     "metadata": {
      "application/vnd.databricks.v1+output": {
       "addedWidgets": {},
       "aggData": [],
       "aggError": "",
       "aggOverflow": false,
       "aggSchema": [],
       "aggSeriesLimitReached": false,
       "aggType": "",
       "arguments": {},
       "columnCustomDisplayInfos": {},
       "data": [
        [
         "College Basketball"
        ],
        [
         "Paid Programming"
        ],
        [
         "SportsCenter"
        ],
        [
         "The Big Bang Theory"
        ],
        [
         "Today"
        ]
       ],
       "datasetInfos": [],
       "dbfsResultPath": null,
       "isJsonSchema": true,
       "metadata": {},
       "overflow": false,
       "plotOptions": {
        "customPlotOptions": {},
        "displayType": "table",
        "pivotAggregation": null,
        "pivotColumns": null,
        "xColumns": null,
        "yColumns": null
       },
       "removedWidgets": [],
       "schema": [
        {
         "metadata": "{}",
         "name": "title",
         "type": "\"string\""
        }
       ],
       "type": "table"
      }
     },
     "output_type": "display_data"
    }
   ],
   "source": [
    "top_5prog = (hhWithChildren_title.groupBy('title').agg(sum('household_size').alias('sum_household_size')).orderBy('sum_household_size', ascending=False).limit(5))\n",
    "top_5prog = top_5prog.select(['title'])\n",
    "display(top_5prog)\n"
   ]
  },
  {
   "cell_type": "markdown",
   "metadata": {
    "application/vnd.databricks.v1+cell": {
     "cellMetadata": {
      "byteLimit": 2048000,
      "rowLimit": 10000
     },
     "inputWidgets": {},
     "nuid": "e0bda4d7-8a19-440f-bb17-55f7dc65f05d",
     "showTitle": false,
     "tableResultSettingsMap": {},
     "title": ""
    }
   },
   "source": [
    "now that we have the top 5 we need to get the total number of people affected regardless to the children condition so we are going to crete again table that associets household size to program title, clean it and join it with the top 5 title to get the total number of people affected\n",
    "**finally we display the resaults as required**"
   ]
  },
  {
   "cell_type": "code",
   "execution_count": 0,
   "metadata": {
    "application/vnd.databricks.v1+cell": {
     "cellMetadata": {
      "byteLimit": 2048000,
      "rowLimit": 10000
     },
     "inputWidgets": {},
     "nuid": "6fdc9f26-75c1-48f7-8209-6a7260e7111c",
     "showTitle": false,
     "tableResultSettingsMap": {},
     "title": ""
    }
   },
   "outputs": [
    {
     "output_type": "display_data",
     "data": {
      "text/html": [
       "<style scoped>\n",
       "  .table-result-container {\n",
       "    max-height: 300px;\n",
       "    overflow: auto;\n",
       "  }\n",
       "  table, th, td {\n",
       "    border: 1px solid black;\n",
       "    border-collapse: collapse;\n",
       "  }\n",
       "  th, td {\n",
       "    padding: 5px;\n",
       "  }\n",
       "  th {\n",
       "    text-align: left;\n",
       "  }\n",
       "</style><div class='table-result-container'><table class='table-result'><thead style='background-color: white'><tr><th>title</th></tr></thead><tbody><tr><td>Today</td></tr><tr><td>The Big Bang Theory</td></tr><tr><td>College Basketball</td></tr><tr><td>SportsCenter</td></tr><tr><td>Paid Programming</td></tr></tbody></table></div>"
      ]
     },
     "metadata": {
      "application/vnd.databricks.v1+output": {
       "addedWidgets": {},
       "aggData": [],
       "aggError": "",
       "aggOverflow": false,
       "aggSchema": [],
       "aggSeriesLimitReached": false,
       "aggType": "",
       "arguments": {},
       "columnCustomDisplayInfos": {},
       "data": [
        [
         "Today"
        ],
        [
         "The Big Bang Theory"
        ],
        [
         "College Basketball"
        ],
        [
         "SportsCenter"
        ],
        [
         "Paid Programming"
        ]
       ],
       "datasetInfos": [],
       "dbfsResultPath": null,
       "isJsonSchema": true,
       "metadata": {},
       "overflow": false,
       "plotOptions": {
        "customPlotOptions": {},
        "displayType": "table",
        "pivotAggregation": null,
        "pivotColumns": null,
        "xColumns": null,
        "yColumns": null
       },
       "removedWidgets": [],
       "schema": [
        {
         "metadata": "{}",
         "name": "title",
         "type": "\"string\""
        }
       ],
       "type": "table"
      }
     },
     "output_type": "display_data"
    },
    {
     "output_type": "stream",
     "name": "stdout",
     "output_type": "stream",
     "text": [
      "612101\n"
     ]
    }
   ],
   "source": [
    "sum_top5prog = hhAndtitle.join(devByhh,'device_id',how = 'inner')\n",
    "sum_top5prog = sum_top5prog.dropDuplicates(['household_id','title'])\n",
    "sum_top5prog = sum_top5prog.groupBy('title').agg(sum('household_size').alias('sum_household_size'))\n",
    "sum_top5prog = sum_top5prog.join(top_5prog,'title',how = 'inner')\n",
    "\n",
    "\n",
    "total_sum_top5prog = sum_top5prog.agg(sum('sum_household_size').alias('total_top5')).collect()[0]['total_top5']\n",
    "sum_top5prog_final = sum_top5prog.select('title')\n",
    "display(sum_top5prog_final)\n",
    "print(total_sum_top5prog)\n"
   ]
  },
  {
   "cell_type": "markdown",
   "metadata": {
    "application/vnd.databricks.v1+cell": {
     "cellMetadata": {
      "byteLimit": 2048000,
      "rowLimit": 10000
     },
     "inputWidgets": {},
     "nuid": "dd05d56d-4fb7-4b18-a51a-4837c12d135c",
     "showTitle": false,
     "tableResultSettingsMap": {},
     "title": ""
    }
   },
   "source": [
    "# part 2.2"
   ]
  },
  {
   "cell_type": "markdown",
   "metadata": {
    "application/vnd.databricks.v1+cell": {
     "cellMetadata": {
      "byteLimit": 2048000,
      "rowLimit": 10000
     },
     "inputWidgets": {},
     "nuid": "42ca6e9f-52b2-4e3d-b262-fb185082ac1a",
     "showTitle": false,
     "tableResultSettingsMap": {},
     "title": ""
    }
   },
   "source": [
    "first we need to create a table that connects DMA to its households"
   ]
  },
  {
   "cell_type": "code",
   "execution_count": 0,
   "metadata": {
    "application/vnd.databricks.v1+cell": {
     "cellMetadata": {
      "byteLimit": 2048000,
      "rowLimit": 10000
     },
     "inputWidgets": {},
     "nuid": "be850586-e0a7-418a-9195-0a024a39a1b8",
     "showTitle": false,
     "tableResultSettingsMap": {},
     "title": ""
    }
   },
   "outputs": [
    {
     "output_type": "display_data",
     "data": {
      "text/html": [
       "<style scoped>\n",
       "  .table-result-container {\n",
       "    max-height: 300px;\n",
       "    overflow: auto;\n",
       "  }\n",
       "  table, th, td {\n",
       "    border: 1px solid black;\n",
       "    border-collapse: collapse;\n",
       "  }\n",
       "  th, td {\n",
       "    padding: 5px;\n",
       "  }\n",
       "  th {\n",
       "    text-align: left;\n",
       "  }\n",
       "</style><div class='table-result-container'><table class='table-result'><thead style='background-color: white'><tr><th>household_id</th><th>dma</th></tr></thead><tbody><tr><td>2935392</td><td>Jonesboro</td></tr><tr><td>1447214</td><td>Toledo</td></tr><tr><td>2935402</td><td>San Angelo</td></tr><tr><td>1924619</td><td>Kansas City</td></tr><tr><td>2935412</td><td>Houston</td></tr><tr><td>1962640</td><td>Dallas-Ft. Worth</td></tr><tr><td>2935416</td><td>Springfield, MO</td></tr><tr><td>2507423</td><td>Springfield, MO</td></tr><tr><td>2505146</td><td>Sherman-Ada</td></tr><tr><td>1924852</td><td>Austin</td></tr></tbody></table></div>"
      ]
     },
     "metadata": {
      "application/vnd.databricks.v1+output": {
       "addedWidgets": {},
       "aggData": [],
       "aggError": "",
       "aggOverflow": false,
       "aggSchema": [],
       "aggSeriesLimitReached": false,
       "aggType": "",
       "arguments": {},
       "columnCustomDisplayInfos": {},
       "data": [
        [
         2935392,
         "Jonesboro"
        ],
        [
         1447214,
         "Toledo"
        ],
        [
         2935402,
         "San Angelo"
        ],
        [
         1924619,
         "Kansas City"
        ],
        [
         2935412,
         "Houston"
        ],
        [
         1962640,
         "Dallas-Ft. Worth"
        ],
        [
         2935416,
         "Springfield, MO"
        ],
        [
         2507423,
         "Springfield, MO"
        ],
        [
         2505146,
         "Sherman-Ada"
        ],
        [
         1924852,
         "Austin"
        ]
       ],
       "datasetInfos": [],
       "dbfsResultPath": null,
       "isJsonSchema": true,
       "metadata": {},
       "overflow": false,
       "plotOptions": {
        "customPlotOptions": {},
        "displayType": "table",
        "pivotAggregation": null,
        "pivotColumns": null,
        "xColumns": null,
        "yColumns": null
       },
       "removedWidgets": [],
       "schema": [
        {
         "metadata": "{}",
         "name": "household_id",
         "type": "\"integer\""
        },
        {
         "metadata": "{}",
         "name": "dma",
         "type": "\"string\""
        }
       ],
       "type": "table"
      }
     },
     "output_type": "display_data"
    }
   ],
   "source": [
    "dmaAndhh = dmaAndSize.select(['household_id','dma'])\n",
    "display(dmaAndhh.limit(10))"
   ]
  },
  {
   "cell_type": "markdown",
   "metadata": {
    "application/vnd.databricks.v1+cell": {
     "cellMetadata": {
      "byteLimit": 2048000,
      "rowLimit": 10000
     },
     "inputWidgets": {},
     "nuid": "4acdecdd-9f5d-48ff-be83-b603a5c75723",
     "showTitle": false,
     "tableResultSettingsMap": {},
     "title": ""
    }
   },
   "source": [
    "### part a: computing each dma its welth score"
   ]
  },
  {
   "cell_type": "markdown",
   "metadata": {
    "application/vnd.databricks.v1+cell": {
     "cellMetadata": {
      "byteLimit": 2048000,
      "rowLimit": 10000
     },
     "inputWidgets": {},
     "nuid": "3f3e7cc2-ed6f-49d7-8783-adae19503c9c",
     "showTitle": false,
     "tableResultSettingsMap": {},
     "title": ""
    }
   },
   "source": [
    "claening the demo_df column transformung every A-D to 10-13"
   ]
  },
  {
   "cell_type": "code",
   "execution_count": 0,
   "metadata": {
    "application/vnd.databricks.v1+cell": {
     "cellMetadata": {
      "byteLimit": 2048000,
      "rowLimit": 10000
     },
     "inputWidgets": {},
     "nuid": "473dbb2f-4d89-43f9-8974-7d84e152a786",
     "showTitle": false,
     "tableResultSettingsMap": {},
     "title": ""
    }
   },
   "outputs": [],
   "source": [
    "# Replace values in the 'income' column\n",
    "demo_df = demo_df.withColumn(\n",
    "    \"income\",\n",
    "    when(col(\"income\") == \"A\", 10)\n",
    "    .when(col(\"income\") == \"B\", 11)\n",
    "    .when(col(\"income\") == \"C\", 12)\n",
    "    .when(col(\"income\") == \"D\", 13)\n",
    "    .otherwise(None)  # or you can keep original value with .otherwise(col(\"income\"))\n",
    "    .cast(IntegerType())\n",
    ")"
   ]
  },
  {
   "cell_type": "markdown",
   "metadata": {
    "application/vnd.databricks.v1+cell": {
     "cellMetadata": {
      "byteLimit": 2048000,
      "rowLimit": 10000
     },
     "inputWidgets": {},
     "nuid": "c3c24495-62b0-4029-936f-21038dd4fc6b",
     "showTitle": false,
     "tableResultSettingsMap": {},
     "title": ""
    }
   },
   "source": [
    "joining dmaAndhh with demo_df and selecting the relevant columns for our calculations"
   ]
  },
  {
   "cell_type": "code",
   "execution_count": 0,
   "metadata": {
    "application/vnd.databricks.v1+cell": {
     "cellMetadata": {
      "byteLimit": 2048000,
      "rowLimit": 10000
     },
     "inputWidgets": {},
     "nuid": "7e3e405c-673f-4f79-878a-12467e3fd631",
     "showTitle": false,
     "tableResultSettingsMap": {},
     "title": ""
    }
   },
   "outputs": [
    {
     "output_type": "display_data",
     "data": {
      "text/html": [
       "<style scoped>\n",
       "  .table-result-container {\n",
       "    max-height: 300px;\n",
       "    overflow: auto;\n",
       "  }\n",
       "  table, th, td {\n",
       "    border: 1px solid black;\n",
       "    border-collapse: collapse;\n",
       "  }\n",
       "  th, td {\n",
       "    padding: 5px;\n",
       "  }\n",
       "  th {\n",
       "    text-align: left;\n",
       "  }\n",
       "</style><div class='table-result-container'><table class='table-result'><thead style='background-color: white'><tr><th>dma</th><th>income</th><th>net_worth</th></tr></thead><tbody><tr><td>Seattle-Tacoma</td><td>13</td><td>7</td></tr><tr><td>Houston</td><td>10</td><td>9</td></tr><tr><td>Houston</td><td>13</td><td>6</td></tr><tr><td>Fargo-Valley City</td><td>13</td><td>7</td></tr><tr><td>Toledo</td><td>10</td><td>8</td></tr><tr><td>Abilene-Sweetwater</td><td>10</td><td>6</td></tr><tr><td>San Angelo</td><td>12</td><td>7</td></tr><tr><td>Lexington</td><td>13</td><td>8</td></tr><tr><td>Shreveport</td><td>12</td><td>7</td></tr><tr><td>Toledo</td><td>10</td><td>7</td></tr></tbody></table></div>"
      ]
     },
     "metadata": {
      "application/vnd.databricks.v1+output": {
       "addedWidgets": {},
       "aggData": [],
       "aggError": "",
       "aggOverflow": false,
       "aggSchema": [],
       "aggSeriesLimitReached": false,
       "aggType": "",
       "arguments": {},
       "columnCustomDisplayInfos": {},
       "data": [
        [
         "Seattle-Tacoma",
         13,
         7
        ],
        [
         "Houston",
         10,
         9
        ],
        [
         "Houston",
         13,
         6
        ],
        [
         "Fargo-Valley City",
         13,
         7
        ],
        [
         "Toledo",
         10,
         8
        ],
        [
         "Abilene-Sweetwater",
         10,
         6
        ],
        [
         "San Angelo",
         12,
         7
        ],
        [
         "Lexington",
         13,
         8
        ],
        [
         "Shreveport",
         12,
         7
        ],
        [
         "Toledo",
         10,
         7
        ]
       ],
       "datasetInfos": [],
       "dbfsResultPath": null,
       "isJsonSchema": true,
       "metadata": {},
       "overflow": false,
       "plotOptions": {
        "customPlotOptions": {},
        "displayType": "table",
        "pivotAggregation": null,
        "pivotColumns": null,
        "xColumns": null,
        "yColumns": null
       },
       "removedWidgets": [],
       "schema": [
        {
         "metadata": "{}",
         "name": "dma",
         "type": "\"string\""
        },
        {
         "metadata": "{}",
         "name": "income",
         "type": "\"integer\""
        },
        {
         "metadata": "{}",
         "name": "net_worth",
         "type": "\"integer\""
        }
       ],
       "type": "table"
      }
     },
     "output_type": "display_data"
    }
   ],
   "source": [
    "#joining dmaAndhh with demo_df and selecting the relevant cols\n",
    "dmaAndhh_demo = dmaAndhh.join(demo_df,'household_id',how = 'inner')\n",
    "dmaAndhh_demo = dmaAndhh_demo.select(['household_id','dma','income','net_worth'])\n",
    "#cleaning duplications and null values\n",
    "dmaAndhh_demo = dmaAndhh_demo.dropDuplicates(['household_id','dma'])\n",
    "dmaAndhh_demo = dmaAndhh_demo.na.drop(subset=['income','net_worth'])\n",
    "dmaAndhh_demo = dmaAndhh_demo.drop('household_id')\n",
    "display(dmaAndhh_demo.limit(10))"
   ]
  },
  {
   "cell_type": "markdown",
   "metadata": {
    "application/vnd.databricks.v1+cell": {
     "cellMetadata": {
      "byteLimit": 2048000,
      "rowLimit": 10000
     },
     "inputWidgets": {},
     "nuid": "12db0157-63c7-4ca2-897b-6dec07a3dac1",
     "showTitle": false,
     "tableResultSettingsMap": {},
     "title": ""
    }
   },
   "source": [
    "now we will aggregate by dma and produce the table with all the data we need to compute 'welth score'"
   ]
  },
  {
   "cell_type": "code",
   "execution_count": 0,
   "metadata": {
    "application/vnd.databricks.v1+cell": {
     "cellMetadata": {
      "byteLimit": 2048000,
      "rowLimit": 10000
     },
     "inputWidgets": {},
     "nuid": "b45cc743-ceed-4322-9a4d-bde1ab91c4d2",
     "showTitle": false,
     "tableResultSettingsMap": {},
     "title": ""
    }
   },
   "outputs": [],
   "source": [
    "dmaWithvar = dmaAndhh_demo.groupBy('dma').agg(\n",
    "    max(\"income\").alias(\"max_income\"),\n",
    "    avg(\"income\").alias(\"avg_income\"),\n",
    "    max(\"net_worth\").alias(\"max_net_worth\"),\n",
    "    avg(\"net_worth\").alias(\"avg_net_worth\")\n",
    ")"
   ]
  },
  {
   "cell_type": "markdown",
   "metadata": {
    "application/vnd.databricks.v1+cell": {
     "cellMetadata": {
      "byteLimit": 2048000,
      "rowLimit": 10000
     },
     "inputWidgets": {},
     "nuid": "dc804c7c-64b6-481b-9ef8-b1eb6b5de92a",
     "showTitle": false,
     "tableResultSettingsMap": {},
     "title": ""
    }
   },
   "source": [
    "### now we create new column that computes welth score based on the dmaWithvar table"
   ]
  },
  {
   "cell_type": "code",
   "execution_count": 0,
   "metadata": {
    "application/vnd.databricks.v1+cell": {
     "cellMetadata": {
      "byteLimit": 2048000,
      "rowLimit": 10000
     },
     "inputWidgets": {},
     "nuid": "87673fda-b0ef-4cfe-b8f5-e632e403a1a4",
     "showTitle": false,
     "tableResultSettingsMap": {},
     "title": ""
    }
   },
   "outputs": [
    {
     "output_type": "display_data",
     "data": {
      "text/html": [
       "<style scoped>\n",
       "  .table-result-container {\n",
       "    max-height: 300px;\n",
       "    overflow: auto;\n",
       "  }\n",
       "  table, th, td {\n",
       "    border: 1px solid black;\n",
       "    border-collapse: collapse;\n",
       "  }\n",
       "  th, td {\n",
       "    padding: 5px;\n",
       "  }\n",
       "  th {\n",
       "    text-align: left;\n",
       "  }\n",
       "</style><div class='table-result-container'><table class='table-result'><thead style='background-color: white'><tr><th>dma</th><th>wealth_score</th></tr></thead><tbody><tr><td>San Antonio</td><td>2.0</td></tr><tr><td>Buffalo</td><td>1.8233974358974359</td></tr><tr><td>Erie</td><td>1.8105413105413106</td></tr><tr><td>Los Angeles</td><td>1.807692307692308</td></tr><tr><td>Columbia-Jefferson City</td><td>1.800976800976801</td></tr><tr><td>Miami-Ft. Lauderdale</td><td>1.783180132236736</td></tr><tr><td>Clarksburg-Weston</td><td>1.7765567765567765</td></tr><tr><td>San Francisco-Oak-San Jose</td><td>1.770963270963271</td></tr><tr><td>Baltimore</td><td>1.767389049815828</td></tr><tr><td>Bend, OR</td><td>1.761985936501172</td></tr></tbody></table></div>"
      ]
     },
     "metadata": {
      "application/vnd.databricks.v1+output": {
       "addedWidgets": {},
       "aggData": [],
       "aggError": "",
       "aggOverflow": false,
       "aggSchema": [],
       "aggSeriesLimitReached": false,
       "aggType": "",
       "arguments": {},
       "columnCustomDisplayInfos": {},
       "data": [
        [
         "San Antonio",
         2.0
        ],
        [
         "Buffalo",
         1.8233974358974359
        ],
        [
         "Erie",
         1.8105413105413106
        ],
        [
         "Los Angeles",
         1.807692307692308
        ],
        [
         "Columbia-Jefferson City",
         1.800976800976801
        ],
        [
         "Miami-Ft. Lauderdale",
         1.783180132236736
        ],
        [
         "Clarksburg-Weston",
         1.7765567765567765
        ],
        [
         "San Francisco-Oak-San Jose",
         1.770963270963271
        ],
        [
         "Baltimore",
         1.767389049815828
        ],
        [
         "Bend, OR",
         1.761985936501172
        ]
       ],
       "datasetInfos": [],
       "dbfsResultPath": null,
       "isJsonSchema": true,
       "metadata": {},
       "overflow": false,
       "plotOptions": {
        "customPlotOptions": {},
        "displayType": "table",
        "pivotAggregation": null,
        "pivotColumns": null,
        "xColumns": null,
        "yColumns": null
       },
       "removedWidgets": [],
       "schema": [
        {
         "metadata": "{}",
         "name": "dma",
         "type": "\"string\""
        },
        {
         "metadata": "{}",
         "name": "wealth_score",
         "type": "\"double\""
        }
       ],
       "type": "table"
      }
     },
     "output_type": "display_data"
    }
   ],
   "source": [
    "dma_Wscore = dmaWithvar.withColumn(\"wealth_score\", (col(\"avg_net_worth\") / col(\"max_net_worth\"))+(col(\"avg_income\") / col(\"max_income\")))\n",
    "dma_Wscore = dma_Wscore.select(['dma','wealth_score'])\n",
    "dma_Wscore = dma_Wscore.orderBy('wealth_score', ascending=False).limit(10)\n",
    "display(dma_Wscore)"
   ]
  },
  {
   "cell_type": "markdown",
   "metadata": {
    "application/vnd.databricks.v1+cell": {
     "cellMetadata": {},
     "inputWidgets": {},
     "nuid": "c7a11754-68b8-4e22-bc5a-41b491d3f042",
     "showTitle": false,
     "tableResultSettingsMap": {},
     "title": ""
    }
   },
   "source": [
    "varifing the odd result in san antonio"
   ]
  },
  {
   "cell_type": "code",
   "execution_count": 0,
   "metadata": {
    "application/vnd.databricks.v1+cell": {
     "cellMetadata": {
      "byteLimit": 2048000,
      "rowLimit": 10000
     },
     "inputWidgets": {},
     "nuid": "f5df453f-cde1-41ae-9486-03cefd0c3c66",
     "showTitle": false,
     "tableResultSettingsMap": {},
     "title": ""
    }
   },
   "outputs": [
    {
     "output_type": "display_data",
     "data": {
      "text/html": [
       "<style scoped>\n",
       "  .table-result-container {\n",
       "    max-height: 300px;\n",
       "    overflow: auto;\n",
       "  }\n",
       "  table, th, td {\n",
       "    border: 1px solid black;\n",
       "    border-collapse: collapse;\n",
       "  }\n",
       "  th, td {\n",
       "    padding: 5px;\n",
       "  }\n",
       "  th {\n",
       "    text-align: left;\n",
       "  }\n",
       "</style><div class='table-result-container'><table class='table-result'><thead style='background-color: white'><tr><th>max_income</th><th>avg_income</th><th>max_net_worth</th><th>avg_net_worth</th></tr></thead><tbody><tr><td>11</td><td>11.0</td><td>7</td><td>7.0</td></tr></tbody></table></div>"
      ]
     },
     "metadata": {
      "application/vnd.databricks.v1+output": {
       "addedWidgets": {},
       "aggData": [],
       "aggError": "",
       "aggOverflow": false,
       "aggSchema": [],
       "aggSeriesLimitReached": false,
       "aggType": "",
       "arguments": {},
       "columnCustomDisplayInfos": {},
       "data": [
        [
         11,
         11.0,
         7,
         7.0
        ]
       ],
       "datasetInfos": [],
       "dbfsResultPath": null,
       "isJsonSchema": true,
       "metadata": {},
       "overflow": false,
       "plotOptions": {
        "customPlotOptions": {},
        "displayType": "table",
        "pivotAggregation": null,
        "pivotColumns": null,
        "xColumns": null,
        "yColumns": null
       },
       "removedWidgets": [],
       "schema": [
        {
         "metadata": "{}",
         "name": "max_income",
         "type": "\"integer\""
        },
        {
         "metadata": "{}",
         "name": "avg_income",
         "type": "\"double\""
        },
        {
         "metadata": "{}",
         "name": "max_net_worth",
         "type": "\"integer\""
        },
        {
         "metadata": "{}",
         "name": "avg_net_worth",
         "type": "\"double\""
        }
       ],
       "type": "table"
      }
     },
     "output_type": "display_data"
    }
   ],
   "source": [
    "san_antonio = dmaWithvar.filter(dmaWithvar['dma'] == 'San Antonio')\n",
    "san_antonio = san_antonio.select(['max_income','avg_income','max_net_worth','avg_net_worth'])\n",
    "display(san_antonio)"
   ]
  },
  {
   "cell_type": "code",
   "execution_count": 0,
   "metadata": {
    "application/vnd.databricks.v1+cell": {
     "cellMetadata": {
      "byteLimit": 2048000,
      "rowLimit": 10000
     },
     "inputWidgets": {},
     "nuid": "07da30c5-c54c-44a6-9549-29791dcd2ddd",
     "showTitle": false,
     "tableResultSettingsMap": {},
     "title": ""
    }
   },
   "outputs": [
    {
     "output_type": "display_data",
     "data": {
      "text/html": [
       "<style scoped>\n",
       "  .table-result-container {\n",
       "    max-height: 300px;\n",
       "    overflow: auto;\n",
       "  }\n",
       "  table, th, td {\n",
       "    border: 1px solid black;\n",
       "    border-collapse: collapse;\n",
       "  }\n",
       "  th, td {\n",
       "    padding: 5px;\n",
       "  }\n",
       "  th {\n",
       "    text-align: left;\n",
       "  }\n",
       "</style><div class='table-result-container'><table class='table-result'><thead style='background-color: white'><tr><th>income</th><th>net_worth</th><th>household_id</th><th>dma</th></tr></thead><tbody><tr><td>11</td><td>7</td><td>1920273</td><td>San Antonio</td></tr></tbody></table></div>"
      ]
     },
     "metadata": {
      "application/vnd.databricks.v1+output": {
       "addedWidgets": {},
       "aggData": [],
       "aggError": "",
       "aggOverflow": false,
       "aggSchema": [],
       "aggSeriesLimitReached": false,
       "aggType": "",
       "arguments": {},
       "columnCustomDisplayInfos": {},
       "data": [
        [
         11,
         7,
         1920273,
         "San Antonio"
        ]
       ],
       "datasetInfos": [],
       "dbfsResultPath": null,
       "isJsonSchema": true,
       "metadata": {},
       "overflow": false,
       "plotOptions": {
        "customPlotOptions": {},
        "displayType": "table",
        "pivotAggregation": null,
        "pivotColumns": null,
        "xColumns": null,
        "yColumns": null
       },
       "removedWidgets": [],
       "schema": [
        {
         "metadata": "{}",
         "name": "income",
         "type": "\"integer\""
        },
        {
         "metadata": "{}",
         "name": "net_worth",
         "type": "\"integer\""
        },
        {
         "metadata": "{}",
         "name": "household_id",
         "type": "\"integer\""
        },
        {
         "metadata": "{}",
         "name": "dma",
         "type": "\"string\""
        }
       ],
       "type": "table"
      }
     },
     "output_type": "display_data"
    }
   ],
   "source": [
    "san_antonio = demo_df.join(ref_data,'household_id',how='inner').filter(ref_data['dma'] == 'San Antonio').select(['income','net_worth','household_id','dma'])\n",
    "display(san_antonio.limit(10))"
   ]
  },
  {
   "cell_type": "markdown",
   "metadata": {
    "application/vnd.databricks.v1+cell": {
     "cellMetadata": {},
     "inputWidgets": {},
     "nuid": "99c884df-1a16-41ff-848d-c4078598eb96",
     "showTitle": false,
     "tableResultSettingsMap": {},
     "title": ""
    }
   },
   "source": [
    "appearently it's right according to the given equeision the net worth is highest if you have only one row becuse then you have avg income/ net worth== max income/ net worth regardless to the actuak wealth.."
   ]
  },
  {
   "cell_type": "markdown",
   "metadata": {
    "application/vnd.databricks.v1+cell": {
     "cellMetadata": {
      "byteLimit": 2048000,
      "rowLimit": 10000
     },
     "inputWidgets": {},
     "nuid": "4a8c2e0d-b002-4f69-a307-6b06c5eb605e",
     "showTitle": false,
     "tableResultSettingsMap": {},
     "title": ""
    }
   },
   "source": [
    "### part b giving every dma its top genres without repetitions"
   ]
  },
  {
   "cell_type": "markdown",
   "metadata": {
    "application/vnd.databricks.v1+cell": {
     "cellMetadata": {
      "byteLimit": 2048000,
      "rowLimit": 10000
     },
     "inputWidgets": {},
     "nuid": "ce4c1735-7ec7-45af-8278-20b5d9d12b71",
     "showTitle": false,
     "tableResultSettingsMap": {},
     "title": ""
    }
   },
   "source": [
    "- first we will table that associet genre with devices and DMA's using the dailyAndView dataframe we've already created then we will aggregate the data by 'genre' and 'dma' and write it to paquet file there we will adress one dma at a time"
   ]
  },
  {
   "cell_type": "code",
   "execution_count": 0,
   "metadata": {
    "application/vnd.databricks.v1+cell": {
     "cellMetadata": {
      "byteLimit": 2048000,
      "rowLimit": 10000
     },
     "inputWidgets": {},
     "nuid": "eb18038d-7bcc-4d06-ae17-7d61243f6335",
     "showTitle": false,
     "tableResultSettingsMap": {},
     "title": ""
    }
   },
   "outputs": [],
   "source": [
    "dailyAndView = dailyAndView.dropDuplicates(['device_id','genre'])\n",
    "genreAndDma = dailyAndView.join(ref_data,'device_id',how = 'inner')\n",
    "genreAndDma = genreAndDma.select(['genre','dma','device_id'])\n",
    "#minimizing the data to the relevant DMA's\n",
    "genreAndDma = genreAndDma.join(dma_Wscore,'dma', how = 'inner')\n",
    "genreAndDma = genreAndDma.groupBy('genre','dma').agg(count('device_id').alias('count'))\n",
    "#writing the data to parquet file partitioned by dma\n",
    "genreAndDma.write.mode(\"overwrite\").partitionBy(\"dma\").parquet(\"output/partitioned_by_dma\")\n",
    "\n"
   ]
  },
  {
   "cell_type": "markdown",
   "metadata": {
    "application/vnd.databricks.v1+cell": {
     "cellMetadata": {
      "byteLimit": 2048000,
      "rowLimit": 10000
     },
     "inputWidgets": {},
     "nuid": "58e73933-91af-4165-a825-c48707a5d1b5",
     "showTitle": false,
     "tableResultSettingsMap": {},
     "title": ""
    }
   },
   "source": [
    "now we have to make a set of all the genres possible"
   ]
  },
  {
   "cell_type": "code",
   "execution_count": 0,
   "metadata": {
    "application/vnd.databricks.v1+cell": {
     "cellMetadata": {
      "byteLimit": 2048000,
      "rowLimit": 10000
     },
     "inputWidgets": {},
     "nuid": "a3fe5520-9ad0-4bf5-bc0b-c23488ea6090",
     "showTitle": false,
     "tableResultSettingsMap": {},
     "title": ""
    }
   },
   "outputs": [],
   "source": [
    "total_genres = daily_prog_df.na.drop(subset=[\"genre\"]).select(['genre']).distinct()\n",
    "total_genres_list = total_genres.rdd.flatMap(lambda x: x).collect()\n",
    "dma_list = dma_Wscore.select('dma').rdd.flatMap(lambda x: x).collect()"
   ]
  },
  {
   "cell_type": "markdown",
   "metadata": {
    "application/vnd.databricks.v1+cell": {
     "cellMetadata": {
      "byteLimit": 2048000,
      "rowLimit": 10000
     },
     "inputWidgets": {},
     "nuid": "73044651-acb2-4080-bd50-b973019d7dfe",
     "showTitle": false,
     "tableResultSettingsMap": {},
     "title": ""
    }
   },
   "source": [
    "now we will create the final column were every dma from the top 10 wealthiest gets the unique genre list by order"
   ]
  },
  {
   "cell_type": "code",
   "execution_count": 0,
   "metadata": {
    "application/vnd.databricks.v1+cell": {
     "cellMetadata": {
      "byteLimit": 2048000,
      "rowLimit": 10000
     },
     "inputWidgets": {},
     "nuid": "24e8e9e6-d296-443a-8e9f-000df58b65a5",
     "showTitle": false,
     "tableResultSettingsMap": {},
     "title": ""
    }
   },
   "outputs": [],
   "source": [
    "#creating the list we will put all the genre lists in\n",
    "listOfGenreLists = []\n",
    "# creating the genre lists of the top genres for each DMA\n",
    "for dmacur in dma_list:\n",
    "    #counter to get max 11 genres\n",
    "    i = 0\n",
    "    # the specific list of the current DMA\n",
    "    dmacur_list = []\n",
    "    #reading the parquet file for the current DMA\n",
    "\n",
    "    df = spark.read.parquet(\"dbfs:/output/partitioned_by_dma\").filter(f\"dma = '{dmacur}'\")\n",
    "    #ordering the genres before putting them in the list\n",
    "    df = df.orderBy('count', ascending=False)\n",
    "    #inserting the ordered genres to the list\n",
    "    df_list = df.select('genre').rdd.flatMap(lambda x: x).collect()\n",
    "    #running over the current genre list to find the top remaining genres in total list\n",
    "    for item in df_list :\n",
    "        if i < 11:\n",
    "            #if the total genre list is empty no need to compare just insert empty list\n",
    "            if len(total_genres_list)==0:\n",
    "                continiue  \n",
    "            if item in total_genres_list:\n",
    "                dmacur_list.append(item)\n",
    "                i += 1\n",
    "                total_genres_list.remove(item)\n",
    "    listOfGenreLists.append(dmacur_list)"
   ]
  },
  {
   "cell_type": "markdown",
   "metadata": {
    "application/vnd.databricks.v1+cell": {
     "cellMetadata": {
      "byteLimit": 2048000,
      "rowLimit": 10000
     },
     "inputWidgets": {},
     "nuid": "6ccc67b2-bc7a-4ebf-968c-227dc093e27a",
     "showTitle": false,
     "tableResultSettingsMap": {},
     "title": ""
    }
   },
   "source": [
    "now after we've got the lists for each dma all we need is to add the list we've created as a new column in the 'dma_Wscore'\n",
    "table"
   ]
  },
  {
   "cell_type": "code",
   "execution_count": 0,
   "metadata": {
    "application/vnd.databricks.v1+cell": {
     "cellMetadata": {
      "byteLimit": 2048000,
      "rowLimit": 10000
     },
     "inputWidgets": {},
     "nuid": "82bb4418-abd0-4461-ad7a-b0d1725787f6",
     "showTitle": false,
     "tableResultSettingsMap": {},
     "title": ""
    }
   },
   "outputs": [
    {
     "output_type": "display_data",
     "data": {
      "text/html": [
       "<style scoped>\n",
       "  .table-result-container {\n",
       "    max-height: 300px;\n",
       "    overflow: auto;\n",
       "  }\n",
       "  table, th, td {\n",
       "    border: 1px solid black;\n",
       "    border-collapse: collapse;\n",
       "  }\n",
       "  th, td {\n",
       "    padding: 5px;\n",
       "  }\n",
       "  th {\n",
       "    text-align: left;\n",
       "  }\n",
       "</style><div class='table-result-container'><table class='table-result'><thead style='background-color: white'><tr><th>dma</th><th>top_genres</th></tr></thead><tbody><tr><td>San Antonio</td><td>List()</td></tr><tr><td>Buffalo</td><td>List(News, Reality, Sitcom, Drama, Talk,News, Crime drama, Comedy, Consumer, Game show, Music, Shopping)</td></tr><tr><td>Erie</td><td>List()</td></tr><tr><td>Los Angeles</td><td>List(Sports non-event,News,Sports talk, Talk, Documentary, Reality,Cooking, Reality,Documentary, Children,Educational, Sports non-event, Children,Sitcom, Comedy-drama, Reality,Auction,Collectibles, Reality,Home improvement,House/garden)</td></tr><tr><td>Columbia-Jefferson City</td><td>List(Sports event,Basketball, Reality,Law, Sitcom,Animated, Talk,Comedy, Reality,Crime, Reality,House/garden, Romance-comedy, Newsmagazine, Newsmagazine,Entertainment, Talk,Interview,Politics, Weather)</td></tr><tr><td>Miami-Ft. Lauderdale</td><td>List()</td></tr><tr><td>Clarksburg-Weston</td><td>List(House/garden, Children,Educational,Animated, Crime drama,Action,Mystery, Children,Fantasy,Animated, Crime drama,Drama,Action, Children,Adventure,Animated, Crime, Religious, Crime drama,Drama,Action,Mystery, Weather,News, Reality,Comedy)</td></tr><tr><td>San Francisco-Oak-San Jose</td><td>List(Educational, Soap, Cooking,Travel, Reality,Crime,Law, Children,Comedy,Animated, Reality,Animals, Travel, Action, Sports talk, Children,Comedy,Adventure,Animated, Science fiction)</td></tr><tr><td>Baltimore</td><td>List()</td></tr><tr><td>Bend, OR</td><td>List(Bus./financial,News, Crime drama,Action,Adventure,Mystery, Public affairs, Talk,Health, Reality,Music, Western, Entertainment, Sports non-event,Basketball, Suspense, Sports event,Golf, Crime drama,Comedy)</td></tr></tbody></table></div>"
      ]
     },
     "metadata": {
      "application/vnd.databricks.v1+output": {
       "addedWidgets": {},
       "aggData": [],
       "aggError": "",
       "aggOverflow": false,
       "aggSchema": [],
       "aggSeriesLimitReached": false,
       "aggType": "",
       "arguments": {},
       "columnCustomDisplayInfos": {},
       "data": [
        [
         "San Antonio",
         []
        ],
        [
         "Buffalo",
         [
          "News",
          "Reality",
          "Sitcom",
          "Drama",
          "Talk,News",
          "Crime drama",
          "Comedy",
          "Consumer",
          "Game show",
          "Music",
          "Shopping"
         ]
        ],
        [
         "Erie",
         []
        ],
        [
         "Los Angeles",
         [
          "Sports non-event,News,Sports talk",
          "Talk",
          "Documentary",
          "Reality,Cooking",
          "Reality,Documentary",
          "Children,Educational",
          "Sports non-event",
          "Children,Sitcom",
          "Comedy-drama",
          "Reality,Auction,Collectibles",
          "Reality,Home improvement,House/garden"
         ]
        ],
        [
         "Columbia-Jefferson City",
         [
          "Sports event,Basketball",
          "Reality,Law",
          "Sitcom,Animated",
          "Talk,Comedy",
          "Reality,Crime",
          "Reality,House/garden",
          "Romance-comedy",
          "Newsmagazine",
          "Newsmagazine,Entertainment",
          "Talk,Interview,Politics",
          "Weather"
         ]
        ],
        [
         "Miami-Ft. Lauderdale",
         []
        ],
        [
         "Clarksburg-Weston",
         [
          "House/garden",
          "Children,Educational,Animated",
          "Crime drama,Action,Mystery",
          "Children,Fantasy,Animated",
          "Crime drama,Drama,Action",
          "Children,Adventure,Animated",
          "Crime",
          "Religious",
          "Crime drama,Drama,Action,Mystery",
          "Weather,News",
          "Reality,Comedy"
         ]
        ],
        [
         "San Francisco-Oak-San Jose",
         [
          "Educational",
          "Soap",
          "Cooking,Travel",
          "Reality,Crime,Law",
          "Children,Comedy,Animated",
          "Reality,Animals",
          "Travel",
          "Action",
          "Sports talk",
          "Children,Comedy,Adventure,Animated",
          "Science fiction"
         ]
        ],
        [
         "Baltimore",
         []
        ],
        [
         "Bend, OR",
         [
          "Bus./financial,News",
          "Crime drama,Action,Adventure,Mystery",
          "Public affairs",
          "Talk,Health",
          "Reality,Music",
          "Western",
          "Entertainment",
          "Sports non-event,Basketball",
          "Suspense",
          "Sports event,Golf",
          "Crime drama,Comedy"
         ]
        ]
       ],
       "datasetInfos": [],
       "dbfsResultPath": null,
       "isJsonSchema": true,
       "metadata": {},
       "overflow": false,
       "plotOptions": {
        "customPlotOptions": {},
        "displayType": "table",
        "pivotAggregation": null,
        "pivotColumns": null,
        "xColumns": null,
        "yColumns": null
       },
       "removedWidgets": [],
       "schema": [
        {
         "metadata": "{}",
         "name": "dma",
         "type": "\"string\""
        },
        {
         "metadata": "{}",
         "name": "top_genres",
         "type": "{\"type\":\"array\",\"elementType\":\"string\",\"containsNull\":true}"
        }
       ],
       "type": "table"
      }
     },
     "output_type": "display_data"
    }
   ],
   "source": [
    "# Create list of Rows: (dma, genres)\n",
    "rowlist = [Row(dma=dma_list[i], top_genres=listOfGenreLists[i]) for i in range(len(dma_list))]\n",
    "\n",
    "# Create a DataFrame from it\n",
    "genre_df = spark.createDataFrame(rowlist)\n",
    "\n",
    "# Make sure your DMA column in other DataFrame is named \"dma\" and is string type\n",
    "# Join the new genre_df to dma_df on \"dma\"\n",
    "dma_with_genres = dma_Wscore.join(genre_df, on=\"dma\", how=\"left\")\n",
    "display(genre_df)"
   ]
  },
  {
   "cell_type": "markdown",
   "metadata": {
    "application/vnd.databricks.v1+cell": {
     "cellMetadata": {},
     "inputWidgets": {},
     "nuid": "79ffcaac-df5d-4b80-a0fe-46897805701b",
     "showTitle": false,
     "tableResultSettingsMap": {},
     "title": ""
    }
   },
   "source": [
    "**display the final results**"
   ]
  },
  {
   "cell_type": "code",
   "execution_count": 0,
   "metadata": {
    "application/vnd.databricks.v1+cell": {
     "cellMetadata": {
      "byteLimit": 2048000,
      "rowLimit": 10000
     },
     "inputWidgets": {},
     "nuid": "9bc449f7-b52c-4c1e-92dc-c6bc3495053d",
     "showTitle": false,
     "tableResultSettingsMap": {},
     "title": ""
    }
   },
   "outputs": [
    {
     "output_type": "display_data",
     "data": {
      "text/html": [
       "<style scoped>\n",
       "  .table-result-container {\n",
       "    max-height: 300px;\n",
       "    overflow: auto;\n",
       "  }\n",
       "  table, th, td {\n",
       "    border: 1px solid black;\n",
       "    border-collapse: collapse;\n",
       "  }\n",
       "  th, td {\n",
       "    padding: 5px;\n",
       "  }\n",
       "  th {\n",
       "    text-align: left;\n",
       "  }\n",
       "</style><div class='table-result-container'><table class='table-result'><thead style='background-color: white'><tr><th>dma</th><th>wealth_score</th><th>top_genres</th></tr></thead><tbody><tr><td>San Antonio</td><td>2.0</td><td>List()</td></tr><tr><td>Buffalo</td><td>1.8233974358974359</td><td>List(News, Reality, Sitcom, Drama, Talk,News, Crime drama, Comedy, Consumer, Game show, Music, Shopping)</td></tr><tr><td>Erie</td><td>1.8105413105413106</td><td>List()</td></tr><tr><td>Los Angeles</td><td>1.807692307692308</td><td>List(Sports non-event,News,Sports talk, Talk, Documentary, Reality,Cooking, Reality,Documentary, Children,Educational, Sports non-event, Children,Sitcom, Comedy-drama, Reality,Auction,Collectibles, Reality,Home improvement,House/garden)</td></tr><tr><td>Columbia-Jefferson City</td><td>1.800976800976801</td><td>List(Sports event,Basketball, Reality,Law, Sitcom,Animated, Talk,Comedy, Reality,Crime, Reality,House/garden, Romance-comedy, Newsmagazine, Newsmagazine,Entertainment, Talk,Interview,Politics, Weather)</td></tr><tr><td>Miami-Ft. Lauderdale</td><td>1.783180132236736</td><td>List()</td></tr><tr><td>Clarksburg-Weston</td><td>1.7765567765567765</td><td>List(House/garden, Children,Educational,Animated, Crime drama,Action,Mystery, Children,Fantasy,Animated, Crime drama,Drama,Action, Children,Adventure,Animated, Crime, Religious, Crime drama,Drama,Action,Mystery, Weather,News, Reality,Comedy)</td></tr><tr><td>San Francisco-Oak-San Jose</td><td>1.770963270963271</td><td>List(Educational, Soap, Cooking,Travel, Reality,Crime,Law, Children,Comedy,Animated, Reality,Animals, Travel, Action, Sports talk, Children,Comedy,Adventure,Animated, Science fiction)</td></tr><tr><td>Baltimore</td><td>1.767389049815828</td><td>List()</td></tr><tr><td>Bend, OR</td><td>1.761985936501172</td><td>List(Bus./financial,News, Crime drama,Action,Adventure,Mystery, Public affairs, Talk,Health, Reality,Music, Western, Entertainment, Sports non-event,Basketball, Suspense, Sports event,Golf, Crime drama,Comedy)</td></tr></tbody></table></div>"
      ]
     },
     "metadata": {
      "application/vnd.databricks.v1+output": {
       "addedWidgets": {},
       "aggData": [],
       "aggError": "",
       "aggOverflow": false,
       "aggSchema": [],
       "aggSeriesLimitReached": false,
       "aggType": "",
       "arguments": {},
       "columnCustomDisplayInfos": {},
       "data": [
        [
         "San Antonio",
         2.0,
         []
        ],
        [
         "Buffalo",
         1.8233974358974359,
         [
          "News",
          "Reality",
          "Sitcom",
          "Drama",
          "Talk,News",
          "Crime drama",
          "Comedy",
          "Consumer",
          "Game show",
          "Music",
          "Shopping"
         ]
        ],
        [
         "Erie",
         1.8105413105413106,
         []
        ],
        [
         "Los Angeles",
         1.807692307692308,
         [
          "Sports non-event,News,Sports talk",
          "Talk",
          "Documentary",
          "Reality,Cooking",
          "Reality,Documentary",
          "Children,Educational",
          "Sports non-event",
          "Children,Sitcom",
          "Comedy-drama",
          "Reality,Auction,Collectibles",
          "Reality,Home improvement,House/garden"
         ]
        ],
        [
         "Columbia-Jefferson City",
         1.800976800976801,
         [
          "Sports event,Basketball",
          "Reality,Law",
          "Sitcom,Animated",
          "Talk,Comedy",
          "Reality,Crime",
          "Reality,House/garden",
          "Romance-comedy",
          "Newsmagazine",
          "Newsmagazine,Entertainment",
          "Talk,Interview,Politics",
          "Weather"
         ]
        ],
        [
         "Miami-Ft. Lauderdale",
         1.783180132236736,
         []
        ],
        [
         "Clarksburg-Weston",
         1.7765567765567765,
         [
          "House/garden",
          "Children,Educational,Animated",
          "Crime drama,Action,Mystery",
          "Children,Fantasy,Animated",
          "Crime drama,Drama,Action",
          "Children,Adventure,Animated",
          "Crime",
          "Religious",
          "Crime drama,Drama,Action,Mystery",
          "Weather,News",
          "Reality,Comedy"
         ]
        ],
        [
         "San Francisco-Oak-San Jose",
         1.770963270963271,
         [
          "Educational",
          "Soap",
          "Cooking,Travel",
          "Reality,Crime,Law",
          "Children,Comedy,Animated",
          "Reality,Animals",
          "Travel",
          "Action",
          "Sports talk",
          "Children,Comedy,Adventure,Animated",
          "Science fiction"
         ]
        ],
        [
         "Baltimore",
         1.767389049815828,
         []
        ],
        [
         "Bend, OR",
         1.761985936501172,
         [
          "Bus./financial,News",
          "Crime drama,Action,Adventure,Mystery",
          "Public affairs",
          "Talk,Health",
          "Reality,Music",
          "Western",
          "Entertainment",
          "Sports non-event,Basketball",
          "Suspense",
          "Sports event,Golf",
          "Crime drama,Comedy"
         ]
        ]
       ],
       "datasetInfos": [],
       "dbfsResultPath": null,
       "isJsonSchema": true,
       "metadata": {},
       "overflow": false,
       "plotOptions": {
        "customPlotOptions": {},
        "displayType": "table",
        "pivotAggregation": null,
        "pivotColumns": null,
        "xColumns": null,
        "yColumns": null
       },
       "removedWidgets": [],
       "schema": [
        {
         "metadata": "{}",
         "name": "dma",
         "type": "\"string\""
        },
        {
         "metadata": "{}",
         "name": "wealth_score",
         "type": "\"double\""
        },
        {
         "metadata": "{}",
         "name": "top_genres",
         "type": "{\"type\":\"array\",\"elementType\":\"string\",\"containsNull\":true}"
        }
       ],
       "type": "table"
      }
     },
     "output_type": "display_data"
    }
   ],
   "source": [
    "display(dma_with_genres)"
   ]
  }
 ],
 "metadata": {
  "application/vnd.databricks.v1+notebook": {
   "computePreferences": null,
   "dashboards": [],
   "environmentMetadata": null,
   "inputWidgetPreferences": null,
   "language": "python",
   "notebookMetadata": {
    "pythonIndentUnit": 4
   },
   "notebookName": "project_1_part_2_315435214_340868488",
   "widgets": {}
  },
  "language_info": {
   "name": "python"
  }
 },
 "nbformat": 4,
 "nbformat_minor": 0
}